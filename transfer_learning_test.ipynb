{
 "cells": [
  {
   "cell_type": "code",
   "execution_count": 1,
   "metadata": {},
   "outputs": [
    {
     "name": "stdout",
     "output_type": "stream",
     "text": [
      "Loading subject nr  1\n",
      "200\n"
     ]
    },
    {
     "ename": "ValueError",
     "evalue": "all the input arrays must have same number of dimensions, but the array at index 0 has 1 dimension(s) and the array at index 1 has 3 dimension(s)",
     "output_type": "error",
     "traceback": [
      "\u001b[0;31m---------------------------------------------------------------------------\u001b[0m",
      "\u001b[0;31mValueError\u001b[0m                                Traceback (most recent call last)",
      "\u001b[1;32m/home/jonlis/inner-speech-detection/transfer_learning_test.ipynb Cell 1'\u001b[0m in \u001b[0;36m<module>\u001b[0;34m\u001b[0m\n\u001b[1;32m     <a href='vscode-notebook-cell://ssh-remote%2B109.225.89.145/home/jonlis/inner-speech-detection/transfer_learning_test.ipynb#ch0000001vscode-remote?line=15'>16</a>\u001b[0m temp_labels \u001b[39m=\u001b[39m extract_labels(temp_desc) \u001b[39m# Pick out labels from description\u001b[39;00m\n\u001b[1;32m     <a href='vscode-notebook-cell://ssh-remote%2B109.225.89.145/home/jonlis/inner-speech-detection/transfer_learning_test.ipynb#ch0000001vscode-remote?line=17'>18</a>\u001b[0m \u001b[39mprint\u001b[39m(\u001b[39mlen\u001b[39m(temp_labels))\n\u001b[0;32m---> <a href='vscode-notebook-cell://ssh-remote%2B109.225.89.145/home/jonlis/inner-speech-detection/transfer_learning_test.ipynb#ch0000001vscode-remote?line=19'>20</a>\u001b[0m data \u001b[39m=\u001b[39m np\u001b[39m.\u001b[39;49mconcatenate((data,temp_data))\n\u001b[1;32m     <a href='vscode-notebook-cell://ssh-remote%2B109.225.89.145/home/jonlis/inner-speech-detection/transfer_learning_test.ipynb#ch0000001vscode-remote?line=20'>21</a>\u001b[0m labels \u001b[39m=\u001b[39m np\u001b[39m.\u001b[39mconcatenate((labels,temp_labels))\u001b[39m.\u001b[39mastype(\u001b[39mint\u001b[39m)\n\u001b[1;32m     <a href='vscode-notebook-cell://ssh-remote%2B109.225.89.145/home/jonlis/inner-speech-detection/transfer_learning_test.ipynb#ch0000001vscode-remote?line=22'>23</a>\u001b[0m \u001b[39mprint\u001b[39m(\u001b[39mlen\u001b[39m(labels))\n",
      "File \u001b[0;32m<__array_function__ internals>:180\u001b[0m, in \u001b[0;36mconcatenate\u001b[0;34m(*args, **kwargs)\u001b[0m\n",
      "\u001b[0;31mValueError\u001b[0m: all the input arrays must have same number of dimensions, but the array at index 0 has 1 dimension(s) and the array at index 1 has 3 dimension(s)"
     ]
    }
   ],
   "source": [
    "import numpy as np\n",
    "\n",
    "%run train_model.ipynb\n",
    "%run data_handler.ipynb\n",
    "\n",
    "\n",
    "# Loop to load all subjects except a given one.\n",
    "sub = 2\n",
    "data = np.array([])\n",
    "labels = np.array([])\n",
    "for subjectnr in range(1,11):\n",
    "    if subjectnr is not sub:\n",
    "        # TODO: Instead of empty lists, check if the list is None and then write the first subject to that one. Otherwise just concatenate.\n",
    "        print(\"Loading subject nr \", subjectnr)\n",
    "        temp_data, temp_desc = load_subject(subjectnr) # Load data, desc\n",
    "        temp_data, temp_desc = get_innerspeech(temp_data, temp_desc) # Extract only IS trials\n",
    "        temp_labels = extract_labels(temp_desc) # Pick out labels from description\n",
    "\n",
    "        print(len(temp_labels))\n",
    "\n",
    "        data = np.concatenate((data,temp_data))\n",
    "        labels = np.concatenate((labels,temp_labels)).astype(int)\n",
    "\n",
    "        print(len(labels))\n",
    "\n",
    "\n"
   ]
  },
  {
   "cell_type": "code",
   "execution_count": 24,
   "metadata": {},
   "outputs": [
    {
     "name": "stdout",
     "output_type": "stream",
     "text": [
      "[list([1, 2, 3, 4, 5]) list([2, 4, 2, 3])]\n",
      "[list([1, 2, 3, 4, 5]) list([2, 4, 2, 3])]\n"
     ]
    }
   ],
   "source": [
    "a = np.array([])\n",
    "b = np.array([[1,2,3,4,5], [2,4,2,3]], dtype=object)\n",
    "print(b)\n",
    "c = np.concatenate((a,b))\n",
    "print(c)"
   ]
  },
  {
   "cell_type": "code",
   "execution_count": 30,
   "metadata": {},
   "outputs": [
    {
     "name": "stdout",
     "output_type": "stream",
     "text": [
      "[[[ 1.00441705e-05  5.71049629e-06  2.48290060e-06 ...  1.53504668e-05\n",
      "    1.32308163e-05  1.26590580e-05]\n",
      "  [ 9.96385926e-06  4.43693272e-06  2.12594098e-06 ...  1.60089683e-05\n",
      "    1.43691440e-05  1.34033714e-05]\n",
      "  [ 9.87714973e-06  4.72121829e-06  2.09825334e-06 ...  1.52417087e-05\n",
      "    1.36278362e-05  1.22262131e-05]\n",
      "  ...\n",
      "  [ 8.79097286e-06  6.27066705e-06  1.25128653e-05 ... -7.30098471e-06\n",
      "   -8.55200603e-06 -6.30858593e-06]\n",
      "  [ 6.17048913e-06  3.36662784e-06  4.58277668e-06 ...  4.98610656e-06\n",
      "    6.06489819e-06  3.07393396e-06]\n",
      "  [ 3.93436750e-06  1.59056028e-06  3.44939777e-06 ...  4.27483603e-06\n",
      "    6.84941528e-06  3.50870804e-06]]\n",
      "\n",
      " [[ 1.05946860e-06 -8.20982896e-06 -1.33142027e-05 ...  7.71638063e-06\n",
      "    1.34163312e-06 -1.58313160e-06]\n",
      "  [ 7.84752137e-07 -8.25148012e-06 -1.36618648e-05 ...  6.44769370e-06\n",
      "   -1.37013241e-07 -3.08728838e-06]\n",
      "  [ 1.12656976e-06 -6.95023282e-06 -1.33680645e-05 ...  7.73063251e-06\n",
      "    1.24629004e-07 -3.87523005e-06]\n",
      "  ...\n",
      "  [ 2.21621661e-05  3.15906474e-05  3.30059202e-05 ...  5.29400417e-06\n",
      "   -3.37613408e-06 -6.80654230e-06]\n",
      "  [-4.27862747e-06  1.21854668e-05  1.58405753e-05 ...  2.72141582e-05\n",
      "    1.72953589e-05  1.24409366e-05]\n",
      "  [-3.93400175e-06  1.29059302e-05  1.52567612e-05 ...  2.85389023e-05\n",
      "    1.79563359e-05  1.20947634e-05]]]\n",
      "2\n",
      "4\n"
     ]
    }
   ],
   "source": [
    "da1, la1 = load_subject(1)\n",
    "x = da1[0:2]\n",
    "y = da1[2:4]\n",
    "print(x)\n",
    "print(len(y))\n",
    "print(len(np.concatenate((x,y))))"
   ]
  },
  {
   "cell_type": "code",
   "execution_count": 39,
   "metadata": {},
   "outputs": [
    {
     "name": "stdout",
     "output_type": "stream",
     "text": [
      "[1 2 3]\n",
      "[1 2 3]\n"
     ]
    }
   ],
   "source": [
    "k = np.array([])\n",
    "l = np.array([1,2,3])\n",
    "print(l)\n",
    "l = np.concatenate((k,l)).astype(int)\n",
    "print(l)"
   ]
  }
 ],
 "metadata": {
  "interpreter": {
   "hash": "776ed16b974eb4051a720ba098885814801e01a01a8691ffdcc6d2fcef736aab"
  },
  "kernelspec": {
   "display_name": "Python 3.8.6 ('inner_speech': conda)",
   "language": "python",
   "name": "python3"
  },
  "language_info": {
   "codemirror_mode": {
    "name": "ipython",
    "version": 3
   },
   "file_extension": ".py",
   "mimetype": "text/x-python",
   "name": "python",
   "nbconvert_exporter": "python",
   "pygments_lexer": "ipython3",
   "version": "3.8.6"
  },
  "orig_nbformat": 4
 },
 "nbformat": 4,
 "nbformat_minor": 2
}
