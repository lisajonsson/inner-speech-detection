{
 "cells": [
  {
   "cell_type": "code",
   "execution_count": 1,
   "metadata": {},
   "outputs": [
    {
     "name": "stdout",
     "output_type": "stream",
     "text": [
      "[99, 99, 99, 99] \n",
      " [13, 13, 14, 14] \n",
      " [13, 13, 12, 12]\n",
      "25.0 %  25.0 %  25.0 %  25.0 % \n",
      "24.074074074074073 %  24.074074074074073 %  25.925925925925924 %  25.925925925925924 % \n",
      "26.0 %  26.0 %  24.0 %  24.0 % \n"
     ]
    }
   ],
   "source": [
    "import ipynb\n",
    "import torch\n",
    "from ipynb.fs.full.data_handler import load_subject, extract_labels, extract_action_interval, split_data, split_info, to_device\n",
    "from ipynb.fs.full.train_model import train_model, accuracy_check\n",
    "\n",
    "device = torch.device('cuda:0' if torch.cuda.is_available() else 'cpu')\n",
    "\n",
    "data, description = load_subject(1)\n",
    "labels = extract_labels(description)\n",
    "data_interval = extract_action_interval(data)\n",
    "\n",
    "train_data, val_data, test_data, train_labels, val_labels, test_labels = split_data(data_interval, labels)\n",
    "\n",
    "train_data, val_data, test_data, train_labels, val_labels, test_labels = to_device(train_data, val_data, test_data, train_labels, val_labels, test_labels, device)\n",
    "split_info(train_data, val_data, test_data, train_labels, val_labels, test_labels)"
   ]
  },
  {
   "cell_type": "markdown",
   "metadata": {},
   "source": [
    "# Deep CNN\n",
    "Implementation of the deep CNN structure from (Schirrmeister et. al.) for the use on \"Thinking out loud\" dataset."
   ]
  },
  {
   "cell_type": "code",
   "execution_count": 2,
   "metadata": {},
   "outputs": [],
   "source": [
    "import torch\n",
    "import torch.nn as nn\n",
    "import torch.optim as optim\n",
    "\n",
    "class DeepCNN(nn.Module):\n",
    "    def __init__(self, interval = \"full\", dropout = 0.5):\n",
    "        super(DeepCNN, self).__init__()\n",
    "        first_channels = 25\n",
    "        second_channels = 50\n",
    "        third_channels = 100\n",
    "        fourth_channels = 200\n",
    "\n",
    "        ### Block 1\n",
    "        # Temporal convolution\n",
    "        self.tempconv = nn.Conv2d(in_channels = 1, out_channels = first_channels, kernel_size = (1, 10), padding = 0, bias = False)\n",
    "        # Spatial convolution\n",
    "        self.spatconv = nn.Conv2d(in_channels = first_channels, out_channels = first_channels, kernel_size=(128,1), padding = 0, bias = False)\n",
    "        # Batch normalization\n",
    "        self.batchnorm1 = nn.BatchNorm2d(first_channels, False)\n",
    "        # ELU\n",
    "        self.elu = nn.ELU()\n",
    "        # Dropout\n",
    "        self.dropout = nn.Dropout(dropout)\n",
    "        # Max pooling\n",
    "        self.maxpool = nn.MaxPool2d(kernel_size = (1,3), stride = (1,3))\n",
    "\n",
    "        ### Block 2\n",
    "        self.conv2 = nn.Conv2d(in_channels = first_channels, out_channels = second_channels, kernel_size = (1,10), padding = 0, bias = False)\n",
    "        # Batch normalization\n",
    "        self.batchnorm2 = nn.BatchNorm2d(second_channels, False)\n",
    "\n",
    "        ### Block 3\n",
    "        self.conv3 = nn.Conv2d(in_channels = second_channels, out_channels = third_channels, kernel_size = (1,10), padding = 0, bias = False)\n",
    "        # Batch normalization\n",
    "        self.batchnorm3 = nn.BatchNorm2d(third_channels, False)\n",
    "\n",
    "        ### Block 4\n",
    "        self.conv4 = nn.Conv2d(in_channels = third_channels, out_channels = fourth_channels, kernel_size = (1,10), padding = 0, bias = False)\n",
    "        # Batch normalization\n",
    "        self.batchnorm4 = nn.BatchNorm2d(fourth_channels, False)\n",
    "\n",
    "        # Classifier\n",
    "        if interval == \"action\":\n",
    "            self.classifier = nn.Linear(600,4, bias = False)\n",
    "        elif interval == \"full\":\n",
    "            self.classifier = nn.Linear(1800,4, bias = False)\n",
    "        # Softmax\n",
    "        self.softmax = nn.LogSoftmax(dim = 1)\n",
    "\n",
    "        \n",
    "    def forward(self, x):\n",
    "        # Block 1\n",
    "        res = self.tempconv(x)\n",
    "        res = self.spatconv(res)\n",
    "        res = self.batchnorm1(res)\n",
    "        res = self.elu(res)\n",
    "        res = self.maxpool(res)\n",
    "        res = self.dropout(res)\n",
    "        # Block 2\n",
    "        res = self.conv2(res)\n",
    "        res = self.batchnorm2(res)\n",
    "        res = self.elu(res)\n",
    "        res = self.maxpool(res)\n",
    "        # Block 3\n",
    "        res = self.conv3(res)\n",
    "        res = self.batchnorm3(res)\n",
    "        res = self.elu(res)\n",
    "        res = self.maxpool(res)\n",
    "        # Block 4\n",
    "        res = self.conv4(res)\n",
    "        res = self.batchnorm4(res)\n",
    "        res = self.elu(res)\n",
    "        res = self.maxpool(res)\n",
    "        # Classifier\n",
    "        res = torch.flatten(res, start_dim=1)\n",
    "        res = self.classifier(res)\n",
    "        res = self.softmax(res)\n",
    "        return res"
   ]
  },
  {
   "cell_type": "code",
   "execution_count": 15,
   "metadata": {},
   "outputs": [
    {
     "name": "stdout",
     "output_type": "stream",
     "text": [
      "ACCURACY: 0.22727272727272727\n",
      "####### TRAINING #######\n",
      "Epoch\t train loss\t validation loss\n",
      "0 \t  1.4749458508613782 \t 1.5506104230880737\n",
      "1 \t  1.299348880083133 \t 1.492534875869751\n",
      "2 \t  1.2308249840369592 \t 1.5194405317306519\n",
      "3 \t  1.1974896161984174 \t 1.5659170150756836\n",
      "4 \t  1.1227928552872095 \t 1.5262235403060913\n",
      "5 \t  1.0629359514285357 \t 1.5007268190383911\n",
      "6 \t  0.9983711242675781 \t 1.5426032543182373\n",
      "7 \t  0.9429540389623398 \t 1.5290433168411255\n",
      "8 \t  0.8865502186310596 \t 1.5421059131622314\n",
      "9 \t  0.8258804908165565 \t 1.6197738647460938\n",
      "10 \t  0.7700865329840244 \t 1.615899920463562\n",
      "11 \t  0.6795728145501553 \t 1.6667762994766235\n",
      "12 \t  0.6641608996269031 \t 1.6220803260803223\n",
      "13 \t  0.6184501647949219 \t 1.7550822496414185\n",
      "14 \t  0.5887842911940354 \t 1.7829394340515137\n",
      "15 \t  0.547271973047501 \t 1.780473232269287\n",
      "16 \t  0.4680644793388171 \t 1.8363385200500488\n",
      "17 \t  0.49186109885191304 \t 1.873599886894226\n",
      "18 \t  0.4240741240672576 \t 1.9217591285705566\n",
      "19 \t  0.3777558986957257 \t 1.854255199432373\n",
      "20 \t  0.3470045236440805 \t 1.9021062850952148\n",
      "21 \t  0.32880144852858323 \t 1.9673386812210083\n",
      "22 \t  0.3074156443277995 \t 1.9812095165252686\n",
      "23 \t  0.2512754049056616 \t 2.1240501403808594\n",
      "24 \t  0.24673990102914664 \t 2.063610076904297\n",
      "25 \t  0.22710699912829277 \t 2.045746088027954\n",
      "26 \t  0.2178958990635016 \t 2.1267356872558594\n",
      "27 \t  0.20346588966174003 \t 2.1143414974212646\n",
      "28 \t  0.17966829202114007 \t 2.1233155727386475\n",
      "29 \t  0.16741734284621018 \t 2.0635452270507812\n",
      "30 \t  0.16334358851114908 \t 2.1818361282348633\n",
      "31 \t  0.13632924740131086 \t 2.1127774715423584\n",
      "32 \t  0.12807712799463516 \t 2.2405903339385986\n",
      "33 \t  0.1241008562919421 \t 2.2471818923950195\n",
      "34 \t  0.11407696895110302 \t 2.2775425910949707\n",
      "35 \t  0.10033647219340007 \t 2.3979263305664062\n",
      "36 \t  0.09112872832860702 \t 2.4176220893859863\n",
      "37 \t  0.08411282759446365 \t 2.3976876735687256\n",
      "38 \t  0.08204561013441819 \t 2.3217828273773193\n",
      "39 \t  0.0775159627963335 \t 2.51377534866333\n",
      "40 \t  0.0827947457631429 \t 2.4278650283813477\n",
      "41 \t  0.07970414406214005 \t 2.441859006881714\n",
      "42 \t  0.08697728621654022 \t 2.4353389739990234\n",
      "43 \t  0.06360049125475761 \t 2.379983425140381\n",
      "44 \t  0.05261534910935622 \t 2.429351329803467\n",
      "45 \t  0.054555837924663834 \t 2.4181840419769287\n",
      "46 \t  0.05185856574620956 \t 2.635045289993286\n",
      "47 \t  0.0501173856930855 \t 2.629682779312134\n",
      "48 \t  0.04896821731176132 \t 2.7081573009490967\n",
      "49 \t  0.049735454412607044 \t 2.692927598953247\n",
      "ACCURACY: 0.9848484848484849\n"
     ]
    }
   ],
   "source": [
    "network = DeepCNN(interval = \"action\").float().to(device)\n",
    "accuracy_check(network, train_data, train_labels)\n",
    "\n",
    "print(\"####### TRAINING #######\")\n",
    "op = optim.Adam(params = network.parameters(), lr = 0.0001)\n",
    "lossf = nn.NLLLoss()\n",
    "train_model(network, train_data = train_data, train_labels = train_labels, val_data = val_data, val_labels = val_labels, epochs = 50, batch_size = 10, loss_func = lossf, optimizer = op)\n",
    "\n",
    "accuracy_check(network, train_data, train_labels)"
   ]
  },
  {
   "cell_type": "code",
   "execution_count": 16,
   "metadata": {},
   "outputs": [
    {
     "name": "stdout",
     "output_type": "stream",
     "text": [
      "ACCURACY: 0.9848484848484849\n",
      "ACCURACY: 0.3888888888888889\n",
      "ACCURACY: 0.32\n"
     ]
    }
   ],
   "source": [
    "accuracy_check(network, train_data, train_labels)\n",
    "accuracy_check(network, val_data, val_labels)\n",
    "accuracy_check(network, test_data, test_labels)\n"
   ]
  }
 ],
 "metadata": {
  "interpreter": {
   "hash": "776ed16b974eb4051a720ba098885814801e01a01a8691ffdcc6d2fcef736aab"
  },
  "kernelspec": {
   "display_name": "Python 3.8.6 ('inner_speech': conda)",
   "language": "python",
   "name": "python3"
  },
  "language_info": {
   "codemirror_mode": {
    "name": "ipython",
    "version": 3
   },
   "file_extension": ".py",
   "mimetype": "text/x-python",
   "name": "python",
   "nbconvert_exporter": "python",
   "pygments_lexer": "ipython3",
   "version": "3.8.6"
  },
  "orig_nbformat": 4
 },
 "nbformat": 4,
 "nbformat_minor": 2
}
