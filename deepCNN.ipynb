{
 "cells": [
  {
   "cell_type": "code",
   "execution_count": 7,
   "metadata": {},
   "outputs": [
    {
     "name": "stdout",
     "output_type": "stream",
     "text": [
      "[39, 39, 40, 40] \n",
      " [6, 6, 5, 5] \n",
      " [5, 5, 5, 5]\n",
      "24.68354430379747 %  24.68354430379747 %  25.31645569620253 %  25.31645569620253 % \n",
      "27.27272727272727 %  27.27272727272727 %  22.727272727272727 %  22.727272727272727 % \n",
      "25.0 %  25.0 %  25.0 %  25.0 % \n"
     ]
    }
   ],
   "source": [
    "# import ipynb\n",
    "# import torch\n",
    "# from ipynb.fs.full.data_handler import load_subject, load_subject_non_downsampled, extract_labels, extract_action_interval, split_data, split_info, to_device, get_innerspeech\n",
    "# from ipynb.fs.full.train_model import train_model, accuracy_check\n",
    "\n",
    "# device = torch.device('cuda:0' if torch.cuda.is_available() else 'cpu')\n",
    "\n",
    "# data, description = load_subject_non_downsampled(1)\n",
    "# data, description = get_innerspeech(data, description)\n",
    "# labels = extract_labels(description)\n",
    "# #data_interval = extract_action_interval(data, hz = 254)\n",
    "\n",
    "# train_data, val_data, test_data, train_labels, val_labels, test_labels = split_data(data, labels)\n",
    "\n",
    "# train_data, val_data, test_data, train_labels, val_labels, test_labels = to_device(train_data, val_data, test_data, train_labels, val_labels, test_labels, device)\n",
    "# split_info(train_data, val_data, test_data, train_labels, val_labels, test_labels)"
   ]
  },
  {
   "cell_type": "markdown",
   "metadata": {},
   "source": [
    "# Deep CNN\n",
    "Implementation of the deep CNN structure from (Schirrmeister et. al.) for the use on \"Thinking out loud\" dataset."
   ]
  },
  {
   "cell_type": "code",
   "execution_count": 8,
   "metadata": {},
   "outputs": [],
   "source": [
    "import torch\n",
    "import torch.nn as nn\n",
    "import torch.optim as optim\n",
    "\n",
    "class DeepCNN(nn.Module):\n",
    "    def __init__(self, hz, interval = \"full\", dropout = 0.5):\n",
    "        super(DeepCNN, self).__init__()\n",
    "        first_channels = 25\n",
    "        second_channels = 50\n",
    "        third_channels = 100\n",
    "        fourth_channels = 200\n",
    "\n",
    "        ### Block 1\n",
    "        # Temporal convolution\n",
    "        self.tempconv = nn.Conv2d(in_channels = 1, out_channels = first_channels, kernel_size = (1, 10), padding = 0, bias = False)\n",
    "        # Spatial convolution\n",
    "        self.spatconv = nn.Conv2d(in_channels = first_channels, out_channels = first_channels, kernel_size=(128,1), padding = 0, bias = False)\n",
    "        # Batch normalization\n",
    "        self.batchnorm1 = nn.BatchNorm2d(first_channels, False)\n",
    "        # ELU\n",
    "        self.elu = nn.ELU()\n",
    "        # Dropout\n",
    "        self.dropout = nn.Dropout(dropout)\n",
    "        # Max pooling\n",
    "        self.maxpool = nn.MaxPool2d(kernel_size = (1,3), stride = (1,3))\n",
    "\n",
    "        ### Block 2\n",
    "        self.conv2 = nn.Conv2d(in_channels = first_channels, out_channels = second_channels, kernel_size = (1,10), padding = 0, bias = False)\n",
    "        # Batch normalization\n",
    "        self.batchnorm2 = nn.BatchNorm2d(second_channels, False)\n",
    "\n",
    "        ### Block 3\n",
    "        self.conv3 = nn.Conv2d(in_channels = second_channels, out_channels = third_channels, kernel_size = (1,10), padding = 0, bias = False)\n",
    "        # Batch normalization\n",
    "        self.batchnorm3 = nn.BatchNorm2d(third_channels, False)\n",
    "\n",
    "        ### Block 4\n",
    "        self.conv4 = nn.Conv2d(in_channels = third_channels, out_channels = fourth_channels, kernel_size = (1,10), padding = 0, bias = False)\n",
    "        # Batch normalization\n",
    "        self.batchnorm4 = nn.BatchNorm2d(fourth_channels, False)\n",
    "\n",
    "        # Classifier\n",
    "        if interval == \"action\":\n",
    "            if hz == 254:\n",
    "                self.classifier = nn.Linear(600,4, bias = False)\n",
    "            elif hz == 1024:\n",
    "                self.classifier = nn.Linear(5400,4, bias = False)\n",
    "        elif interval == \"full\":\n",
    "            if hz == 254:\n",
    "                self.classifier = nn.Linear(1800,4, bias = False)\n",
    "            elif hz == 1024:\n",
    "                self.classifier = nn.Linear(10400,4, bias = False)\n",
    "        # Softmax\n",
    "        self.softmax = nn.LogSoftmax(dim = 1)\n",
    "\n",
    "        \n",
    "    def forward(self, x):\n",
    "        # Block 1\n",
    "        res = self.tempconv(x)\n",
    "        res = self.spatconv(res)\n",
    "        res = self.batchnorm1(res)\n",
    "        res = self.elu(res)\n",
    "        res = self.maxpool(res)\n",
    "        res = self.dropout(res)\n",
    "        # Block 2\n",
    "        res = self.conv2(res)\n",
    "        res = self.batchnorm2(res)\n",
    "        res = self.elu(res)\n",
    "        res = self.maxpool(res)\n",
    "        # Block 3\n",
    "        res = self.conv3(res)\n",
    "        res = self.batchnorm3(res)\n",
    "        res = self.elu(res)\n",
    "        res = self.maxpool(res)\n",
    "        # Block 4\n",
    "        res = self.conv4(res)\n",
    "        res = self.batchnorm4(res)\n",
    "        res = self.elu(res)\n",
    "        res = self.maxpool(res)\n",
    "        # Classifier\n",
    "        res = torch.flatten(res, start_dim=1)\n",
    "        res = self.classifier(res)\n",
    "        res = self.softmax(res)\n",
    "        return res"
   ]
  },
  {
   "cell_type": "code",
   "execution_count": 9,
   "metadata": {},
   "outputs": [
    {
     "name": "stdout",
     "output_type": "stream",
     "text": [
      "ACCURACY: 0.25949367088607594\n",
      "####### TRAINING #######\n",
      "Epoch\t train loss\t validation loss\n",
      "0 \t  1.646026865641276 \t 1.5778151750564575\n",
      "1 \t  1.2198935190836588 \t 1.9929646253585815\n",
      "2 \t  0.9084199905395508 \t 2.2632029056549072\n",
      "3 \t  0.6502815246582031 \t 2.2950401306152344\n",
      "4 \t  0.5513851165771484 \t 2.361945390701294\n",
      "5 \t  0.4171006202697754 \t 2.506869316101074\n",
      "6 \t  0.3230495770772298 \t 2.6426260471343994\n",
      "7 \t  0.25980539321899415 \t 2.8152365684509277\n",
      "8 \t  0.21368227005004883 \t 2.873865842819214\n",
      "9 \t  0.17674469947814941 \t 2.9069101810455322\n",
      "10 \t  0.1372761885325114 \t 2.9336814880371094\n",
      "11 \t  0.1146597941716512 \t 3.0292868614196777\n",
      "12 \t  0.10223600069681803 \t 3.104403018951416\n",
      "13 \t  0.0893762747446696 \t 3.156200647354126\n",
      "14 \t  0.07502603530883789 \t 2.90048885345459\n",
      "15 \t  0.06130613883336385 \t 2.6328070163726807\n",
      "16 \t  0.0607585072517395 \t 2.498098134994507\n",
      "17 \t  0.052350294589996335 \t 2.441368579864502\n",
      "18 \t  0.04688220818837484 \t 2.5335984230041504\n",
      "19 \t  0.04193726380666097 \t 2.5232157707214355\n",
      "20 \t  0.0389594038327535 \t 2.516822576522827\n",
      "21 \t  0.03000402053197225 \t 2.5709478855133057\n",
      "22 \t  0.032350188493728636 \t 2.6045987606048584\n",
      "23 \t  0.030605548620224 \t 2.5823726654052734\n",
      "24 \t  0.02621553142865499 \t 2.5907881259918213\n",
      "25 \t  0.02393009861310323 \t 2.6033620834350586\n",
      "26 \t  0.02240318258603414 \t 2.5911121368408203\n",
      "27 \t  0.021554871400197347 \t 2.6645095348358154\n",
      "28 \t  0.0192702849706014 \t 2.692115068435669\n",
      "29 \t  0.017276298999786378 \t 2.6739461421966553\n",
      "30 \t  0.016963950792948403 \t 2.722465991973877\n",
      "31 \t  0.01614060699939728 \t 2.7143077850341797\n",
      "32 \t  0.015005347132682801 \t 2.7162530422210693\n",
      "33 \t  0.014419793089230856 \t 2.7596487998962402\n",
      "34 \t  0.01351021925608317 \t 2.6877570152282715\n",
      "35 \t  0.012419668833414714 \t 2.7896909713745117\n",
      "36 \t  0.011785851915677388 \t 2.7550833225250244\n",
      "37 \t  0.01166906754175822 \t 2.74514102935791\n",
      "38 \t  0.011369295914967855 \t 2.769071340560913\n",
      "39 \t  0.010289742549260458 \t 2.7692179679870605\n",
      "40 \t  0.010659576455752055 \t 2.810823678970337\n",
      "41 \t  0.008903429905573527 \t 2.7919745445251465\n",
      "42 \t  0.009335205952326456 \t 2.8283674716949463\n",
      "43 \t  0.008092365662256877 \t 2.8183977603912354\n",
      "44 \t  0.0087548832098643 \t 2.8838765621185303\n",
      "45 \t  0.007885107398033142 \t 2.900789499282837\n",
      "46 \t  0.007281021773815155 \t 2.9169423580169678\n",
      "47 \t  0.007059314350287119 \t 2.9069995880126953\n",
      "48 \t  0.006713686883449555 \t 2.9187607765197754\n",
      "49 \t  0.006435033182303111 \t 2.935664415359497\n",
      "ACCURACY: 0.930379746835443\n"
     ]
    }
   ],
   "source": [
    "# network = DeepCNN(interval = \"full\", hz = 1024).float().to(device)\n",
    "# accuracy_check(network, train_data, train_labels)\n",
    "\n",
    "# print(\"####### TRAINING #######\")\n",
    "# op = optim.Adam(params = network.parameters(), lr = 0.0001)\n",
    "# lossf = nn.NLLLoss()\n",
    "# train_model(network, train_data = train_data, train_labels = train_labels, val_data = val_data, val_labels = val_labels, epochs = 50, batch_size = 10, loss_func = lossf, optimizer = op)\n",
    "\n",
    "# accuracy_check(network, train_data, train_labels)"
   ]
  },
  {
   "cell_type": "code",
   "execution_count": 11,
   "metadata": {},
   "outputs": [
    {
     "name": "stdout",
     "output_type": "stream",
     "text": [
      "ACCURACY: 0.930379746835443\n",
      "ACCURACY: 0.2727272727272727\n",
      "ACCURACY: 0.1\n"
     ]
    }
   ],
   "source": [
    "# accuracy_check(network, train_data, train_labels)\n",
    "# accuracy_check(network, val_data, val_labels)\n",
    "# accuracy_check(network, test_data, test_labels)\n"
   ]
  }
 ],
 "metadata": {
  "interpreter": {
   "hash": "776ed16b974eb4051a720ba098885814801e01a01a8691ffdcc6d2fcef736aab"
  },
  "kernelspec": {
   "display_name": "Python 3.8.6 ('inner_speech': conda)",
   "language": "python",
   "name": "python3"
  },
  "language_info": {
   "codemirror_mode": {
    "name": "ipython",
    "version": 3
   },
   "file_extension": ".py",
   "mimetype": "text/x-python",
   "name": "python",
   "nbconvert_exporter": "python",
   "pygments_lexer": "ipython3",
   "version": "3.8.6"
  },
  "orig_nbformat": 4
 },
 "nbformat": 4,
 "nbformat_minor": 2
}
