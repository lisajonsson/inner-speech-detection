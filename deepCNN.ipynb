{
 "cells": [
  {
   "cell_type": "code",
   "execution_count": 1,
   "metadata": {},
   "outputs": [],
   "source": [
    "# Load data\n",
    "import numpy as np\n",
    "from sklearn.model_selection import train_test_split\n",
    "from Inner_Speech_Dataset.Python_Processing.Data_extractions import  Extract_data_from_subject\n",
    "\n",
    "# Load all data for subject\n",
    "def load_subject(subject_nr):\n",
    "    datatype = \"EEG\"\n",
    "    root_dir = \"../dataset\"\n",
    "\n",
    "    data, description = Extract_data_from_subject(root_dir, subject_nr, datatype)\n",
    "    return data, description\n",
    "\n",
    "# Extract labels from the description\n",
    "def extract_labels(desc):\n",
    "    return desc[:,1]\n",
    "\n",
    "\n",
    "# Test when extracting only the action interval\n",
    "def extract_action_interval(data):\n",
    "    return data[:,:,254:890]\n",
    "\n",
    "def split_data(data, labels):\n",
    "    trainv_data, test_data, trainv_labels, test_labels = train_test_split(data, labels, test_size = 0.2, random_state = 1)\n",
    "    train_data, val_data, train_labels, val_labels = train_test_split(trainv_data, trainv_labels, test_size = 0.25, random_state = 1)\n",
    "\n",
    "    return train_data, val_data, test_data, train_labels, val_labels, test_labels\n",
    "\n",
    "\n",
    "\n",
    "\n",
    "# Load, extract and split data\n",
    "data, description = load_subject(1)\n",
    "labels = extract_labels(description)\n",
    "#new_data = extract_action_interval(data)\n",
    "#print(new_data.shape)\n",
    "\n",
    "\n",
    "train_data, val_data, test_data, train_labels, val_labels, test_labels = split_data(data, labels)"
   ]
  },
  {
   "cell_type": "markdown",
   "metadata": {},
   "source": [
    "# Deep CNN\n",
    "Implementation of the deep CNN structure from (Schirrmeister et. al.) for the use on \"Thinking out loud\" dataset."
   ]
  },
  {
   "cell_type": "code",
   "execution_count": 2,
   "metadata": {},
   "outputs": [],
   "source": [
    "import torch\n",
    "import torch.nn as nn\n",
    "import torch.nn.functional as F\n",
    "import torch.optim as optim\n",
    "import time\n",
    "import os\n",
    "import copy\n",
    "\n",
    "class DeepCNN(nn.Module):\n",
    "    def __init__(self):\n",
    "        super(DeepCNN, self).__init__()\n",
    "        first_channels = 25\n",
    "        second_channels = 50\n",
    "        third_channels = 100\n",
    "        fourth_channels = 200\n",
    "\n",
    "        ### Block 1\n",
    "        # Temporal convolution\n",
    "        self.tempconv = nn.Conv2d(in_channels = 1, out_channels = first_channels, kernel_size = (1, 10), padding = 0, bias = False)\n",
    "        # Spatial convolution\n",
    "        self.spatconv = nn.Conv2d(in_channels = first_channels, out_channels = first_channels, kernel_size=(128,1), padding = 0, bias = False)\n",
    "        # Batch normalization\n",
    "        self.batchnorm1 = nn.BatchNorm2d(first_channels, False)\n",
    "        # ELU\n",
    "        self.elu = nn.ELU()\n",
    "        # Max pooling\n",
    "        self.maxpool = nn.MaxPool2d(kernel_size = (1,3), stride = (1,3))\n",
    "\n",
    "        ### Block 2\n",
    "        self.conv2 = nn.Conv2d(in_channels = first_channels, out_channels = second_channels, kernel_size = (1,10), padding = 0, bias = False)\n",
    "        # Batch normalization\n",
    "        self.batchnorm2 = nn.BatchNorm2d(second_channels, False)\n",
    "\n",
    "        ### Block 3\n",
    "        self.conv3 = nn.Conv2d(in_channels = second_channels, out_channels = third_channels, kernel_size = (1,10), padding = 0, bias = False)\n",
    "        # Batch normalization\n",
    "        self.batchnorm3 = nn.BatchNorm2d(third_channels, False)\n",
    "\n",
    "        ### Block 4\n",
    "        self.conv4 = nn.Conv2d(in_channels = third_channels, out_channels = fourth_channels, kernel_size = (1,10), padding = 0, bias = False)\n",
    "        # Batch normalization\n",
    "        self.batchnorm4 = nn.BatchNorm2d(fourth_channels, False)\n",
    "\n",
    "        # Classifier\n",
    "        self.classifier = nn.Linear(1800,4, bias = False)\n",
    "        # Softmax\n",
    "        self.softmax = nn.Softmax()\n",
    "\n",
    "        \n",
    "    def forward(self, x, dropout = 0.5):\n",
    "        # Block 1\n",
    "        res = self.tempconv(x)\n",
    "        res = self.spatconv(res)\n",
    "        res = self.batchnorm1(res)\n",
    "        res = self.elu(res)\n",
    "        res = self.maxpool(res)\n",
    "        res = F.dropout(res, dropout)\n",
    "        # Block 2\n",
    "        res = self.conv2(res)\n",
    "        res = self.batchnorm2(res)\n",
    "        res = self.elu(res)\n",
    "        res = self.maxpool(res)\n",
    "        # Block 3\n",
    "        res = self.conv3(res)\n",
    "        res = self.batchnorm3(res)\n",
    "        res = self.elu(res)\n",
    "        res = self.maxpool(res)\n",
    "        # Block 4\n",
    "        res = self.conv4(res)\n",
    "        res = self.batchnorm4(res)\n",
    "        res = self.elu(res)\n",
    "        res = self.maxpool(res)\n",
    "        # Classifier\n",
    "        res = torch.flatten(res, start_dim=1)\n",
    "        res = self.classifier(res)\n",
    "        res = self.softmax(res)\n",
    "        return res\n",
    "\n",
    "    def train_model(self, data, labels, epochs, batch_size, loss_func, optimizer):\n",
    "        print(\"Epoch\\t train loss\\t validation loss\\t train acc\\t validation acc\")\n",
    "        best_model = copy.deepcopy(self.state_dict())\n",
    "        best_loss = 500 # bad value for dis\n",
    "\n",
    "        for epoch in range(epochs):\n",
    "            epoch_loss = 0\n",
    "            self.train() # Set model to train mode\n",
    "            \n",
    "            for i in range(len(data)//batch_size): # BATCH SIZE MUST BE EVEN DIVIDER OF DATA LEN, otherwise we miss stuff here\n",
    "                start = i*batch_size\n",
    "                end = (i+1)*batch_size\n",
    "\n",
    "                train_inputs = torch.FloatTensor(data[start:end])\n",
    "                train_labels = torch.LongTensor(labels[start:end])\n",
    "                train_outputs = self(train_inputs)\n",
    "\n",
    "                loss = loss_func(train_outputs, train_labels)\n",
    "                \n",
    "                #print(\"LOSS: \", loss)\n",
    "                epoch_loss += loss\n",
    "                loss.backward()\n",
    "                optimizer.step()\n",
    "            \n",
    "            # Check for new best model, this should be on val_data instead\n",
    "            if epoch_loss < best_loss:\n",
    "                best_model = copy.deepcopy(self.state_dict())\n",
    "\n",
    "            print(\"EPOCH \", epoch, \" LOSS:\", epoch_loss)\n",
    "\n",
    "        self.load_state_dict(best_model) # Set model to best performing one.\n",
    "\n"
   ]
  },
  {
   "cell_type": "code",
   "execution_count": 3,
   "metadata": {},
   "outputs": [],
   "source": [
    "train_data = torch.tensor(train_data)\n",
    "train_data = torch.unsqueeze(train_data,1).float()\n",
    "train_labels = torch.tensor(train_labels).long()\n",
    "\n",
    "val_data = torch.tensor(val_data)\n",
    "val_data = torch.unsqueeze(val_data,1).float()\n",
    "val_labels = torch.tensor(val_labels).long()\n",
    "\n",
    "test_data = torch.tensor(test_data)\n",
    "test_data = torch.unsqueeze(test_data,1).float()\n",
    "test_labels = torch.tensor(test_labels).long()\n",
    "\n",
    "\n",
    "# Uncomment this if running on only 1 trial\n",
    "#train_data = torch.unsqueeze(torch.unsqueeze(d,0),0).float() # Unsqueeze adds a wrapper dimension of 1s"
   ]
  },
  {
   "cell_type": "code",
   "execution_count": 4,
   "metadata": {},
   "outputs": [
    {
     "name": "stdout",
     "output_type": "stream",
     "text": [
      "torch.Size([1, 1, 128, 1153])\n",
      "torch.Size([1, 4])\n"
     ]
    },
    {
     "name": "stderr",
     "output_type": "stream",
     "text": [
      "/tmp/ipykernel_49741/2035792650.py:76: UserWarning: Implicit dimension choice for softmax has been deprecated. Change the call to include dim=X as an argument.\n",
      "  res = self.softmax(res)\n"
     ]
    },
    {
     "name": "stdout",
     "output_type": "stream",
     "text": [
      "ACCURACY: 0.26666666666666666\n",
      "####### TRAINING #######\n",
      "Epoch\t train loss\t validation loss\t train acc\t validation acc\n",
      "EPOCH  0  LOSS: tensor(-6.5041, grad_fn=<AddBackward0>)\n",
      "EPOCH  1  LOSS: tensor(-9.8829, grad_fn=<AddBackward0>)\n",
      "ACCURACY: 0.38666666666666666\n"
     ]
    }
   ],
   "source": [
    "network = DeepCNN()\n",
    "d = torch.unsqueeze(train_data[0],0)\n",
    "print(d.size())\n",
    "r = network.forward(d)\n",
    "print(r.size())\n",
    "\n",
    "# Dumb checking of initial weights\n",
    "def accuracy_check(data, labels):\n",
    "    r = network.forward(data)\n",
    "    p = torch.max(r,1)[1]\n",
    "    correct = 0.0\n",
    "    for i in range(len(p)):\n",
    "        if p[i] == labels[i]:\n",
    "            correct += 1\n",
    "    print(\"ACCURACY:\", correct/len(p))\n",
    "\n",
    "\n",
    "network = DeepCNN().float()\n",
    "accuracy_check(train_data, train_labels)\n",
    "\n",
    "print(\"####### TRAINING #######\")\n",
    "op = optim.Adam(params = network.parameters(), lr = 0.0001)\n",
    "lossf = nn.NLLLoss()\n",
    "network.train_model(data = train_data, labels = train_labels, epochs = 2, batch_size = 10, loss_func = lossf, optimizer = op)\n",
    "\n",
    "accuracy_check(train_data, train_labels)"
   ]
  },
  {
   "cell_type": "code",
   "execution_count": 5,
   "metadata": {},
   "outputs": [
    {
     "name": "stderr",
     "output_type": "stream",
     "text": [
      "/tmp/ipykernel_49741/2035792650.py:76: UserWarning: Implicit dimension choice for softmax has been deprecated. Change the call to include dim=X as an argument.\n",
      "  res = self.softmax(res)\n"
     ]
    },
    {
     "name": "stdout",
     "output_type": "stream",
     "text": [
      "ACCURACY: 0.4033333333333333\n",
      "ACCURACY: 0.27\n",
      "ACCURACY: 0.26\n"
     ]
    }
   ],
   "source": [
    "accuracy_check(train_data, train_labels)\n",
    "accuracy_check(val_data, val_labels)\n",
    "accuracy_check(test_data, test_labels)"
   ]
  }
 ],
 "metadata": {
  "interpreter": {
   "hash": "776ed16b974eb4051a720ba098885814801e01a01a8691ffdcc6d2fcef736aab"
  },
  "kernelspec": {
   "display_name": "Python 3.8.6 ('inner_speech': conda)",
   "language": "python",
   "name": "python3"
  },
  "language_info": {
   "codemirror_mode": {
    "name": "ipython",
    "version": 3
   },
   "file_extension": ".py",
   "mimetype": "text/x-python",
   "name": "python",
   "nbconvert_exporter": "python",
   "pygments_lexer": "ipython3",
   "version": "3.8.6"
  },
  "orig_nbformat": 4
 },
 "nbformat": 4,
 "nbformat_minor": 2
}
