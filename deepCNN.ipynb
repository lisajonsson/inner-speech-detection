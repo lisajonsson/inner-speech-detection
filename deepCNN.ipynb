{
 "cells": [
  {
   "cell_type": "code",
   "execution_count": 1,
   "metadata": {},
   "outputs": [
    {
     "name": "stdout",
     "output_type": "stream",
     "text": [
      "[99, 99, 99, 99] \n",
      " [13, 13, 14, 14] \n",
      " [13, 13, 12, 12]\n",
      "25.0 %  25.0 %  25.0 %  25.0 % \n",
      "24.074074074074073 %  24.074074074074073 %  25.925925925925924 %  25.925925925925924 % \n",
      "26.0 %  26.0 %  24.0 %  24.0 % \n"
     ]
    }
   ],
   "source": [
    "import ipynb\n",
    "from ipynb.fs.full.data_handler import load_subject, extract_labels, extract_action_interval, split_squeeze_data, split_info\n",
    "from ipynb.fs.full.train_model import train_model\n",
    "\n",
    "dat, description = load_subject(1)\n",
    "labels = extract_labels(description)\n",
    "data = extract_action_interval(dat)\n",
    "train_data, val_data, test_data, train_labels, val_labels, test_labels = split_squeeze_data(data, labels)\n",
    "split_info(train_data, val_data, test_data, train_labels, val_labels, test_labels)"
   ]
  },
  {
   "cell_type": "markdown",
   "metadata": {},
   "source": [
    "# Deep CNN\n",
    "Implementation of the deep CNN structure from (Schirrmeister et. al.) for the use on \"Thinking out loud\" dataset."
   ]
  },
  {
   "cell_type": "code",
   "execution_count": 2,
   "metadata": {},
   "outputs": [],
   "source": [
    "import torch\n",
    "import torch.nn as nn\n",
    "import torch.nn.functional as F\n",
    "import torch.optim as optim\n",
    "import time\n",
    "import os\n",
    "import copy\n",
    "\n",
    "class DeepCNN(nn.Module):\n",
    "    def __init__(self, interval = \"full\"):\n",
    "        super(DeepCNN, self).__init__()\n",
    "        first_channels = 25\n",
    "        second_channels = 50\n",
    "        third_channels = 100\n",
    "        fourth_channels = 200\n",
    "\n",
    "        ### Block 1\n",
    "        # Temporal convolution\n",
    "        self.tempconv = nn.Conv2d(in_channels = 1, out_channels = first_channels, kernel_size = (1, 10), padding = 0, bias = False)\n",
    "        # Spatial convolution\n",
    "        self.spatconv = nn.Conv2d(in_channels = first_channels, out_channels = first_channels, kernel_size=(128,1), padding = 0, bias = False)\n",
    "        # Batch normalization\n",
    "        self.batchnorm1 = nn.BatchNorm2d(first_channels, False)\n",
    "        # ELU\n",
    "        self.elu = nn.ELU()\n",
    "        # Max pooling\n",
    "        self.maxpool = nn.MaxPool2d(kernel_size = (1,3), stride = (1,3))\n",
    "\n",
    "        ### Block 2\n",
    "        self.conv2 = nn.Conv2d(in_channels = first_channels, out_channels = second_channels, kernel_size = (1,10), padding = 0, bias = False)\n",
    "        # Batch normalization\n",
    "        self.batchnorm2 = nn.BatchNorm2d(second_channels, False)\n",
    "\n",
    "        ### Block 3\n",
    "        self.conv3 = nn.Conv2d(in_channels = second_channels, out_channels = third_channels, kernel_size = (1,10), padding = 0, bias = False)\n",
    "        # Batch normalization\n",
    "        self.batchnorm3 = nn.BatchNorm2d(third_channels, False)\n",
    "\n",
    "        ### Block 4\n",
    "        self.conv4 = nn.Conv2d(in_channels = third_channels, out_channels = fourth_channels, kernel_size = (1,10), padding = 0, bias = False)\n",
    "        # Batch normalization\n",
    "        self.batchnorm4 = nn.BatchNorm2d(fourth_channels, False)\n",
    "\n",
    "        # Classifier\n",
    "        if interval == \"action\":\n",
    "            self.classifier = nn.Linear(600,4, bias = False)\n",
    "        elif interval == \"full\":\n",
    "            self.classifier = nn.Linear(1800,4, bias = False)\n",
    "        # Softmax\n",
    "        self.softmax = nn.Softmax()\n",
    "\n",
    "        \n",
    "    def forward(self, x, dropout = 0.5):\n",
    "        # Block 1\n",
    "        res = self.tempconv(x)\n",
    "        res = self.spatconv(res)\n",
    "        res = self.batchnorm1(res)\n",
    "        res = self.elu(res)\n",
    "        res = self.maxpool(res)\n",
    "        res = F.dropout(res, dropout)\n",
    "        # Block 2\n",
    "        res = self.conv2(res)\n",
    "        res = self.batchnorm2(res)\n",
    "        res = self.elu(res)\n",
    "        res = self.maxpool(res)\n",
    "        # Block 3\n",
    "        res = self.conv3(res)\n",
    "        res = self.batchnorm3(res)\n",
    "        res = self.elu(res)\n",
    "        res = self.maxpool(res)\n",
    "        # Block 4\n",
    "        res = self.conv4(res)\n",
    "        res = self.batchnorm4(res)\n",
    "        res = self.elu(res)\n",
    "        res = self.maxpool(res)\n",
    "        # Classifier\n",
    "        res = torch.flatten(res, start_dim=1)\n",
    "        res = self.classifier(res)\n",
    "        res = self.softmax(res)\n",
    "        return res"
   ]
  },
  {
   "cell_type": "code",
   "execution_count": 5,
   "metadata": {},
   "outputs": [
    {
     "ename": "RuntimeError",
     "evalue": "Input type (torch.cuda.FloatTensor) and weight type (torch.FloatTensor) should be the same",
     "output_type": "error",
     "traceback": [
      "\u001b[0;31m---------------------------------------------------------------------------\u001b[0m",
      "\u001b[0;31mRuntimeError\u001b[0m                              Traceback (most recent call last)",
      "\u001b[1;32m/home/jonlis/inner-speech-detection/deepCNN.ipynb Cell 4'\u001b[0m in \u001b[0;36m<module>\u001b[0;34m\u001b[0m\n\u001b[1;32m     <a href='vscode-notebook-cell://ssh-remote%2B109.225.89.145/home/jonlis/inner-speech-detection/deepCNN.ipynb#ch0000004vscode-remote?line=12'>13</a>\u001b[0m     \u001b[39mprint\u001b[39m(\u001b[39m\"\u001b[39m\u001b[39mACCURACY:\u001b[39m\u001b[39m\"\u001b[39m, correct\u001b[39m/\u001b[39m\u001b[39mlen\u001b[39m(p))\n\u001b[1;32m     <a href='vscode-notebook-cell://ssh-remote%2B109.225.89.145/home/jonlis/inner-speech-detection/deepCNN.ipynb#ch0000004vscode-remote?line=15'>16</a>\u001b[0m network \u001b[39m=\u001b[39m DeepCNN(interval \u001b[39m=\u001b[39m \u001b[39m\"\u001b[39m\u001b[39maction\u001b[39m\u001b[39m\"\u001b[39m)\u001b[39m.\u001b[39mfloat()\n\u001b[0;32m---> <a href='vscode-notebook-cell://ssh-remote%2B109.225.89.145/home/jonlis/inner-speech-detection/deepCNN.ipynb#ch0000004vscode-remote?line=16'>17</a>\u001b[0m accuracy_check(train_data, train_labels)\n\u001b[1;32m     <a href='vscode-notebook-cell://ssh-remote%2B109.225.89.145/home/jonlis/inner-speech-detection/deepCNN.ipynb#ch0000004vscode-remote?line=18'>19</a>\u001b[0m \u001b[39mprint\u001b[39m(\u001b[39m\"\u001b[39m\u001b[39m####### TRAINING #######\u001b[39m\u001b[39m\"\u001b[39m)\n\u001b[1;32m     <a href='vscode-notebook-cell://ssh-remote%2B109.225.89.145/home/jonlis/inner-speech-detection/deepCNN.ipynb#ch0000004vscode-remote?line=19'>20</a>\u001b[0m op \u001b[39m=\u001b[39m optim\u001b[39m.\u001b[39mAdam(params \u001b[39m=\u001b[39m network\u001b[39m.\u001b[39mparameters(), lr \u001b[39m=\u001b[39m \u001b[39m0.0001\u001b[39m)\n",
      "\u001b[1;32m/home/jonlis/inner-speech-detection/deepCNN.ipynb Cell 4'\u001b[0m in \u001b[0;36maccuracy_check\u001b[0;34m(data, labels)\u001b[0m\n\u001b[1;32m      <a href='vscode-notebook-cell://ssh-remote%2B109.225.89.145/home/jonlis/inner-speech-detection/deepCNN.ipynb#ch0000004vscode-remote?line=3'>4</a>\u001b[0m data \u001b[39m=\u001b[39m data\u001b[39m.\u001b[39mto(device)\n\u001b[1;32m      <a href='vscode-notebook-cell://ssh-remote%2B109.225.89.145/home/jonlis/inner-speech-detection/deepCNN.ipynb#ch0000004vscode-remote?line=4'>5</a>\u001b[0m labels \u001b[39m=\u001b[39m labels\u001b[39m.\u001b[39mto(device)\n\u001b[0;32m----> <a href='vscode-notebook-cell://ssh-remote%2B109.225.89.145/home/jonlis/inner-speech-detection/deepCNN.ipynb#ch0000004vscode-remote?line=6'>7</a>\u001b[0m r \u001b[39m=\u001b[39m network\u001b[39m.\u001b[39;49mforward(data)\n\u001b[1;32m      <a href='vscode-notebook-cell://ssh-remote%2B109.225.89.145/home/jonlis/inner-speech-detection/deepCNN.ipynb#ch0000004vscode-remote?line=7'>8</a>\u001b[0m p \u001b[39m=\u001b[39m torch\u001b[39m.\u001b[39mmax(r,\u001b[39m1\u001b[39m)[\u001b[39m1\u001b[39m]\n\u001b[1;32m      <a href='vscode-notebook-cell://ssh-remote%2B109.225.89.145/home/jonlis/inner-speech-detection/deepCNN.ipynb#ch0000004vscode-remote?line=8'>9</a>\u001b[0m correct \u001b[39m=\u001b[39m \u001b[39m0.0\u001b[39m\n",
      "\u001b[1;32m/home/jonlis/inner-speech-detection/deepCNN.ipynb Cell 3'\u001b[0m in \u001b[0;36mDeepCNN.forward\u001b[0;34m(self, x, dropout)\u001b[0m\n\u001b[1;32m     <a href='vscode-notebook-cell://ssh-remote%2B109.225.89.145/home/jonlis/inner-speech-detection/deepCNN.ipynb#ch0000002vscode-remote?line=52'>53</a>\u001b[0m \u001b[39mdef\u001b[39;00m \u001b[39mforward\u001b[39m(\u001b[39mself\u001b[39m, x, dropout \u001b[39m=\u001b[39m \u001b[39m0.5\u001b[39m):\n\u001b[1;32m     <a href='vscode-notebook-cell://ssh-remote%2B109.225.89.145/home/jonlis/inner-speech-detection/deepCNN.ipynb#ch0000002vscode-remote?line=53'>54</a>\u001b[0m     \u001b[39m# Block 1\u001b[39;00m\n\u001b[0;32m---> <a href='vscode-notebook-cell://ssh-remote%2B109.225.89.145/home/jonlis/inner-speech-detection/deepCNN.ipynb#ch0000002vscode-remote?line=54'>55</a>\u001b[0m     res \u001b[39m=\u001b[39m \u001b[39mself\u001b[39;49m\u001b[39m.\u001b[39;49mtempconv(x)\n\u001b[1;32m     <a href='vscode-notebook-cell://ssh-remote%2B109.225.89.145/home/jonlis/inner-speech-detection/deepCNN.ipynb#ch0000002vscode-remote?line=55'>56</a>\u001b[0m     res \u001b[39m=\u001b[39m \u001b[39mself\u001b[39m\u001b[39m.\u001b[39mspatconv(res)\n\u001b[1;32m     <a href='vscode-notebook-cell://ssh-remote%2B109.225.89.145/home/jonlis/inner-speech-detection/deepCNN.ipynb#ch0000002vscode-remote?line=56'>57</a>\u001b[0m     res \u001b[39m=\u001b[39m \u001b[39mself\u001b[39m\u001b[39m.\u001b[39mbatchnorm1(res)\n",
      "File \u001b[0;32m~/miniconda3/envs/inner_speech/lib/python3.8/site-packages/torch/nn/modules/module.py:1102\u001b[0m, in \u001b[0;36mModule._call_impl\u001b[0;34m(self, *input, **kwargs)\u001b[0m\n\u001b[1;32m   <a href='file:///~/miniconda3/envs/inner_speech/lib/python3.8/site-packages/torch/nn/modules/module.py?line=1097'>1098</a>\u001b[0m \u001b[39m# If we don't have any hooks, we want to skip the rest of the logic in\u001b[39;00m\n\u001b[1;32m   <a href='file:///~/miniconda3/envs/inner_speech/lib/python3.8/site-packages/torch/nn/modules/module.py?line=1098'>1099</a>\u001b[0m \u001b[39m# this function, and just call forward.\u001b[39;00m\n\u001b[1;32m   <a href='file:///~/miniconda3/envs/inner_speech/lib/python3.8/site-packages/torch/nn/modules/module.py?line=1099'>1100</a>\u001b[0m \u001b[39mif\u001b[39;00m \u001b[39mnot\u001b[39;00m (\u001b[39mself\u001b[39m\u001b[39m.\u001b[39m_backward_hooks \u001b[39mor\u001b[39;00m \u001b[39mself\u001b[39m\u001b[39m.\u001b[39m_forward_hooks \u001b[39mor\u001b[39;00m \u001b[39mself\u001b[39m\u001b[39m.\u001b[39m_forward_pre_hooks \u001b[39mor\u001b[39;00m _global_backward_hooks\n\u001b[1;32m   <a href='file:///~/miniconda3/envs/inner_speech/lib/python3.8/site-packages/torch/nn/modules/module.py?line=1100'>1101</a>\u001b[0m         \u001b[39mor\u001b[39;00m _global_forward_hooks \u001b[39mor\u001b[39;00m _global_forward_pre_hooks):\n\u001b[0;32m-> <a href='file:///~/miniconda3/envs/inner_speech/lib/python3.8/site-packages/torch/nn/modules/module.py?line=1101'>1102</a>\u001b[0m     \u001b[39mreturn\u001b[39;00m forward_call(\u001b[39m*\u001b[39;49m\u001b[39minput\u001b[39;49m, \u001b[39m*\u001b[39;49m\u001b[39m*\u001b[39;49mkwargs)\n\u001b[1;32m   <a href='file:///~/miniconda3/envs/inner_speech/lib/python3.8/site-packages/torch/nn/modules/module.py?line=1102'>1103</a>\u001b[0m \u001b[39m# Do not call functions when jit is used\u001b[39;00m\n\u001b[1;32m   <a href='file:///~/miniconda3/envs/inner_speech/lib/python3.8/site-packages/torch/nn/modules/module.py?line=1103'>1104</a>\u001b[0m full_backward_hooks, non_full_backward_hooks \u001b[39m=\u001b[39m [], []\n",
      "File \u001b[0;32m~/miniconda3/envs/inner_speech/lib/python3.8/site-packages/torch/nn/modules/conv.py:446\u001b[0m, in \u001b[0;36mConv2d.forward\u001b[0;34m(self, input)\u001b[0m\n\u001b[1;32m    <a href='file:///~/miniconda3/envs/inner_speech/lib/python3.8/site-packages/torch/nn/modules/conv.py?line=444'>445</a>\u001b[0m \u001b[39mdef\u001b[39;00m \u001b[39mforward\u001b[39m(\u001b[39mself\u001b[39m, \u001b[39minput\u001b[39m: Tensor) \u001b[39m-\u001b[39m\u001b[39m>\u001b[39m Tensor:\n\u001b[0;32m--> <a href='file:///~/miniconda3/envs/inner_speech/lib/python3.8/site-packages/torch/nn/modules/conv.py?line=445'>446</a>\u001b[0m     \u001b[39mreturn\u001b[39;00m \u001b[39mself\u001b[39;49m\u001b[39m.\u001b[39;49m_conv_forward(\u001b[39minput\u001b[39;49m, \u001b[39mself\u001b[39;49m\u001b[39m.\u001b[39;49mweight, \u001b[39mself\u001b[39;49m\u001b[39m.\u001b[39;49mbias)\n",
      "File \u001b[0;32m~/miniconda3/envs/inner_speech/lib/python3.8/site-packages/torch/nn/modules/conv.py:442\u001b[0m, in \u001b[0;36mConv2d._conv_forward\u001b[0;34m(self, input, weight, bias)\u001b[0m\n\u001b[1;32m    <a href='file:///~/miniconda3/envs/inner_speech/lib/python3.8/site-packages/torch/nn/modules/conv.py?line=437'>438</a>\u001b[0m \u001b[39mif\u001b[39;00m \u001b[39mself\u001b[39m\u001b[39m.\u001b[39mpadding_mode \u001b[39m!=\u001b[39m \u001b[39m'\u001b[39m\u001b[39mzeros\u001b[39m\u001b[39m'\u001b[39m:\n\u001b[1;32m    <a href='file:///~/miniconda3/envs/inner_speech/lib/python3.8/site-packages/torch/nn/modules/conv.py?line=438'>439</a>\u001b[0m     \u001b[39mreturn\u001b[39;00m F\u001b[39m.\u001b[39mconv2d(F\u001b[39m.\u001b[39mpad(\u001b[39minput\u001b[39m, \u001b[39mself\u001b[39m\u001b[39m.\u001b[39m_reversed_padding_repeated_twice, mode\u001b[39m=\u001b[39m\u001b[39mself\u001b[39m\u001b[39m.\u001b[39mpadding_mode),\n\u001b[1;32m    <a href='file:///~/miniconda3/envs/inner_speech/lib/python3.8/site-packages/torch/nn/modules/conv.py?line=439'>440</a>\u001b[0m                     weight, bias, \u001b[39mself\u001b[39m\u001b[39m.\u001b[39mstride,\n\u001b[1;32m    <a href='file:///~/miniconda3/envs/inner_speech/lib/python3.8/site-packages/torch/nn/modules/conv.py?line=440'>441</a>\u001b[0m                     _pair(\u001b[39m0\u001b[39m), \u001b[39mself\u001b[39m\u001b[39m.\u001b[39mdilation, \u001b[39mself\u001b[39m\u001b[39m.\u001b[39mgroups)\n\u001b[0;32m--> <a href='file:///~/miniconda3/envs/inner_speech/lib/python3.8/site-packages/torch/nn/modules/conv.py?line=441'>442</a>\u001b[0m \u001b[39mreturn\u001b[39;00m F\u001b[39m.\u001b[39;49mconv2d(\u001b[39minput\u001b[39;49m, weight, bias, \u001b[39mself\u001b[39;49m\u001b[39m.\u001b[39;49mstride,\n\u001b[1;32m    <a href='file:///~/miniconda3/envs/inner_speech/lib/python3.8/site-packages/torch/nn/modules/conv.py?line=442'>443</a>\u001b[0m                 \u001b[39mself\u001b[39;49m\u001b[39m.\u001b[39;49mpadding, \u001b[39mself\u001b[39;49m\u001b[39m.\u001b[39;49mdilation, \u001b[39mself\u001b[39;49m\u001b[39m.\u001b[39;49mgroups)\n",
      "\u001b[0;31mRuntimeError\u001b[0m: Input type (torch.cuda.FloatTensor) and weight type (torch.FloatTensor) should be the same"
     ]
    }
   ],
   "source": [
    "# Dumb checking of initial weights\n",
    "def accuracy_check(network, data, labels):\n",
    "    \n",
    "    device = torch.device('cuda:0') if torch.cuda.is_available() else torch.device(\"cpu\")\n",
    "    network = network.to(device)\n",
    "    data = data.to(device)\n",
    "    labels = labels.to(device)\n",
    "\n",
    "    r = network.forward(data)\n",
    "    p = torch.max(r,1)[1]\n",
    "    correct = 0.0\n",
    "    for i in range(len(p)):\n",
    "        if p[i] == labels[i]:\n",
    "            correct += 1\n",
    "    print(\"ACCURACY:\", correct/len(p))\n",
    "\n",
    "\n",
    "network = DeepCNN(interval = \"action\").float()\n",
    "accuracy_check(train_data, train_labels)\n",
    "\n",
    "print(\"####### TRAINING #######\")\n",
    "op = optim.Adam(params = network.parameters(), lr = 0.0001)\n",
    "lossf = nn.NLLLoss()\n",
    "train_model(network, train_data = train_data, train_labels = train_labels, val_data = val_data, val_labels = val_labels, epochs = 10, batch_size = 10, loss_func = lossf, optimizer = op)\n",
    "\n",
    "accuracy_check(train_data, train_labels)"
   ]
  },
  {
   "cell_type": "code",
   "execution_count": null,
   "metadata": {},
   "outputs": [
    {
     "name": "stderr",
     "output_type": "stream",
     "text": [
      "/tmp/ipykernel_17277/1238220113.py:79: UserWarning: Implicit dimension choice for softmax has been deprecated. Change the call to include dim=X as an argument.\n",
      "  res = self.softmax(res)\n"
     ]
    },
    {
     "name": "stdout",
     "output_type": "stream",
     "text": [
      "ACCURACY: 0.6212121212121212\n",
      "ACCURACY: 0.37037037037037035\n"
     ]
    },
    {
     "ename": "RuntimeError",
     "evalue": "Input type (torch.FloatTensor) and weight type (torch.cuda.FloatTensor) should be the same or input should be a MKLDNN tensor and weight is a dense tensor",
     "output_type": "error",
     "traceback": [
      "\u001b[0;31m---------------------------------------------------------------------------\u001b[0m",
      "\u001b[0;31mRuntimeError\u001b[0m                              Traceback (most recent call last)",
      "\u001b[1;32m/home/jonlis/inner-speech-detection/deepCNN.ipynb Cell 5'\u001b[0m in \u001b[0;36m<module>\u001b[0;34m\u001b[0m\n\u001b[1;32m      <a href='vscode-notebook-cell://ssh-remote%2B109.225.89.145/home/jonlis/inner-speech-detection/deepCNN.ipynb#ch0000005vscode-remote?line=0'>1</a>\u001b[0m accuracy_check(train_data, train_labels)\n\u001b[1;32m      <a href='vscode-notebook-cell://ssh-remote%2B109.225.89.145/home/jonlis/inner-speech-detection/deepCNN.ipynb#ch0000005vscode-remote?line=1'>2</a>\u001b[0m accuracy_check(val_data, val_labels)\n\u001b[0;32m----> <a href='vscode-notebook-cell://ssh-remote%2B109.225.89.145/home/jonlis/inner-speech-detection/deepCNN.ipynb#ch0000005vscode-remote?line=2'>3</a>\u001b[0m accuracy_check(test_data, test_labels)\n",
      "\u001b[1;32m/home/jonlis/inner-speech-detection/deepCNN.ipynb Cell 4'\u001b[0m in \u001b[0;36maccuracy_check\u001b[0;34m(data, labels)\u001b[0m\n\u001b[1;32m      <a href='vscode-notebook-cell://ssh-remote%2B109.225.89.145/home/jonlis/inner-speech-detection/deepCNN.ipynb#ch0000004vscode-remote?line=1'>2</a>\u001b[0m \u001b[39mdef\u001b[39;00m \u001b[39maccuracy_check\u001b[39m(data, labels):\n\u001b[0;32m----> <a href='vscode-notebook-cell://ssh-remote%2B109.225.89.145/home/jonlis/inner-speech-detection/deepCNN.ipynb#ch0000004vscode-remote?line=2'>3</a>\u001b[0m     r \u001b[39m=\u001b[39m network\u001b[39m.\u001b[39;49mforward(data)\n\u001b[1;32m      <a href='vscode-notebook-cell://ssh-remote%2B109.225.89.145/home/jonlis/inner-speech-detection/deepCNN.ipynb#ch0000004vscode-remote?line=3'>4</a>\u001b[0m     p \u001b[39m=\u001b[39m torch\u001b[39m.\u001b[39mmax(r,\u001b[39m1\u001b[39m)[\u001b[39m1\u001b[39m]\n\u001b[1;32m      <a href='vscode-notebook-cell://ssh-remote%2B109.225.89.145/home/jonlis/inner-speech-detection/deepCNN.ipynb#ch0000004vscode-remote?line=4'>5</a>\u001b[0m     correct \u001b[39m=\u001b[39m \u001b[39m0.0\u001b[39m\n",
      "\u001b[1;32m/home/jonlis/inner-speech-detection/deepCNN.ipynb Cell 3'\u001b[0m in \u001b[0;36mDeepCNN.forward\u001b[0;34m(self, x, dropout)\u001b[0m\n\u001b[1;32m     <a href='vscode-notebook-cell://ssh-remote%2B109.225.89.145/home/jonlis/inner-speech-detection/deepCNN.ipynb#ch0000002vscode-remote?line=52'>53</a>\u001b[0m \u001b[39mdef\u001b[39;00m \u001b[39mforward\u001b[39m(\u001b[39mself\u001b[39m, x, dropout \u001b[39m=\u001b[39m \u001b[39m0.5\u001b[39m):\n\u001b[1;32m     <a href='vscode-notebook-cell://ssh-remote%2B109.225.89.145/home/jonlis/inner-speech-detection/deepCNN.ipynb#ch0000002vscode-remote?line=53'>54</a>\u001b[0m     \u001b[39m# Block 1\u001b[39;00m\n\u001b[0;32m---> <a href='vscode-notebook-cell://ssh-remote%2B109.225.89.145/home/jonlis/inner-speech-detection/deepCNN.ipynb#ch0000002vscode-remote?line=54'>55</a>\u001b[0m     res \u001b[39m=\u001b[39m \u001b[39mself\u001b[39;49m\u001b[39m.\u001b[39;49mtempconv(x)\n\u001b[1;32m     <a href='vscode-notebook-cell://ssh-remote%2B109.225.89.145/home/jonlis/inner-speech-detection/deepCNN.ipynb#ch0000002vscode-remote?line=55'>56</a>\u001b[0m     res \u001b[39m=\u001b[39m \u001b[39mself\u001b[39m\u001b[39m.\u001b[39mspatconv(res)\n\u001b[1;32m     <a href='vscode-notebook-cell://ssh-remote%2B109.225.89.145/home/jonlis/inner-speech-detection/deepCNN.ipynb#ch0000002vscode-remote?line=56'>57</a>\u001b[0m     res \u001b[39m=\u001b[39m \u001b[39mself\u001b[39m\u001b[39m.\u001b[39mbatchnorm1(res)\n",
      "File \u001b[0;32m~/miniconda3/envs/inner_speech/lib/python3.8/site-packages/torch/nn/modules/module.py:1102\u001b[0m, in \u001b[0;36mModule._call_impl\u001b[0;34m(self, *input, **kwargs)\u001b[0m\n\u001b[1;32m   <a href='file:///~/miniconda3/envs/inner_speech/lib/python3.8/site-packages/torch/nn/modules/module.py?line=1097'>1098</a>\u001b[0m \u001b[39m# If we don't have any hooks, we want to skip the rest of the logic in\u001b[39;00m\n\u001b[1;32m   <a href='file:///~/miniconda3/envs/inner_speech/lib/python3.8/site-packages/torch/nn/modules/module.py?line=1098'>1099</a>\u001b[0m \u001b[39m# this function, and just call forward.\u001b[39;00m\n\u001b[1;32m   <a href='file:///~/miniconda3/envs/inner_speech/lib/python3.8/site-packages/torch/nn/modules/module.py?line=1099'>1100</a>\u001b[0m \u001b[39mif\u001b[39;00m \u001b[39mnot\u001b[39;00m (\u001b[39mself\u001b[39m\u001b[39m.\u001b[39m_backward_hooks \u001b[39mor\u001b[39;00m \u001b[39mself\u001b[39m\u001b[39m.\u001b[39m_forward_hooks \u001b[39mor\u001b[39;00m \u001b[39mself\u001b[39m\u001b[39m.\u001b[39m_forward_pre_hooks \u001b[39mor\u001b[39;00m _global_backward_hooks\n\u001b[1;32m   <a href='file:///~/miniconda3/envs/inner_speech/lib/python3.8/site-packages/torch/nn/modules/module.py?line=1100'>1101</a>\u001b[0m         \u001b[39mor\u001b[39;00m _global_forward_hooks \u001b[39mor\u001b[39;00m _global_forward_pre_hooks):\n\u001b[0;32m-> <a href='file:///~/miniconda3/envs/inner_speech/lib/python3.8/site-packages/torch/nn/modules/module.py?line=1101'>1102</a>\u001b[0m     \u001b[39mreturn\u001b[39;00m forward_call(\u001b[39m*\u001b[39;49m\u001b[39minput\u001b[39;49m, \u001b[39m*\u001b[39;49m\u001b[39m*\u001b[39;49mkwargs)\n\u001b[1;32m   <a href='file:///~/miniconda3/envs/inner_speech/lib/python3.8/site-packages/torch/nn/modules/module.py?line=1102'>1103</a>\u001b[0m \u001b[39m# Do not call functions when jit is used\u001b[39;00m\n\u001b[1;32m   <a href='file:///~/miniconda3/envs/inner_speech/lib/python3.8/site-packages/torch/nn/modules/module.py?line=1103'>1104</a>\u001b[0m full_backward_hooks, non_full_backward_hooks \u001b[39m=\u001b[39m [], []\n",
      "File \u001b[0;32m~/miniconda3/envs/inner_speech/lib/python3.8/site-packages/torch/nn/modules/conv.py:446\u001b[0m, in \u001b[0;36mConv2d.forward\u001b[0;34m(self, input)\u001b[0m\n\u001b[1;32m    <a href='file:///~/miniconda3/envs/inner_speech/lib/python3.8/site-packages/torch/nn/modules/conv.py?line=444'>445</a>\u001b[0m \u001b[39mdef\u001b[39;00m \u001b[39mforward\u001b[39m(\u001b[39mself\u001b[39m, \u001b[39minput\u001b[39m: Tensor) \u001b[39m-\u001b[39m\u001b[39m>\u001b[39m Tensor:\n\u001b[0;32m--> <a href='file:///~/miniconda3/envs/inner_speech/lib/python3.8/site-packages/torch/nn/modules/conv.py?line=445'>446</a>\u001b[0m     \u001b[39mreturn\u001b[39;00m \u001b[39mself\u001b[39;49m\u001b[39m.\u001b[39;49m_conv_forward(\u001b[39minput\u001b[39;49m, \u001b[39mself\u001b[39;49m\u001b[39m.\u001b[39;49mweight, \u001b[39mself\u001b[39;49m\u001b[39m.\u001b[39;49mbias)\n",
      "File \u001b[0;32m~/miniconda3/envs/inner_speech/lib/python3.8/site-packages/torch/nn/modules/conv.py:442\u001b[0m, in \u001b[0;36mConv2d._conv_forward\u001b[0;34m(self, input, weight, bias)\u001b[0m\n\u001b[1;32m    <a href='file:///~/miniconda3/envs/inner_speech/lib/python3.8/site-packages/torch/nn/modules/conv.py?line=437'>438</a>\u001b[0m \u001b[39mif\u001b[39;00m \u001b[39mself\u001b[39m\u001b[39m.\u001b[39mpadding_mode \u001b[39m!=\u001b[39m \u001b[39m'\u001b[39m\u001b[39mzeros\u001b[39m\u001b[39m'\u001b[39m:\n\u001b[1;32m    <a href='file:///~/miniconda3/envs/inner_speech/lib/python3.8/site-packages/torch/nn/modules/conv.py?line=438'>439</a>\u001b[0m     \u001b[39mreturn\u001b[39;00m F\u001b[39m.\u001b[39mconv2d(F\u001b[39m.\u001b[39mpad(\u001b[39minput\u001b[39m, \u001b[39mself\u001b[39m\u001b[39m.\u001b[39m_reversed_padding_repeated_twice, mode\u001b[39m=\u001b[39m\u001b[39mself\u001b[39m\u001b[39m.\u001b[39mpadding_mode),\n\u001b[1;32m    <a href='file:///~/miniconda3/envs/inner_speech/lib/python3.8/site-packages/torch/nn/modules/conv.py?line=439'>440</a>\u001b[0m                     weight, bias, \u001b[39mself\u001b[39m\u001b[39m.\u001b[39mstride,\n\u001b[1;32m    <a href='file:///~/miniconda3/envs/inner_speech/lib/python3.8/site-packages/torch/nn/modules/conv.py?line=440'>441</a>\u001b[0m                     _pair(\u001b[39m0\u001b[39m), \u001b[39mself\u001b[39m\u001b[39m.\u001b[39mdilation, \u001b[39mself\u001b[39m\u001b[39m.\u001b[39mgroups)\n\u001b[0;32m--> <a href='file:///~/miniconda3/envs/inner_speech/lib/python3.8/site-packages/torch/nn/modules/conv.py?line=441'>442</a>\u001b[0m \u001b[39mreturn\u001b[39;00m F\u001b[39m.\u001b[39;49mconv2d(\u001b[39minput\u001b[39;49m, weight, bias, \u001b[39mself\u001b[39;49m\u001b[39m.\u001b[39;49mstride,\n\u001b[1;32m    <a href='file:///~/miniconda3/envs/inner_speech/lib/python3.8/site-packages/torch/nn/modules/conv.py?line=442'>443</a>\u001b[0m                 \u001b[39mself\u001b[39;49m\u001b[39m.\u001b[39;49mpadding, \u001b[39mself\u001b[39;49m\u001b[39m.\u001b[39;49mdilation, \u001b[39mself\u001b[39;49m\u001b[39m.\u001b[39;49mgroups)\n",
      "\u001b[0;31mRuntimeError\u001b[0m: Input type (torch.FloatTensor) and weight type (torch.cuda.FloatTensor) should be the same or input should be a MKLDNN tensor and weight is a dense tensor"
     ]
    }
   ],
   "source": [
    "accuracy_check(train_data, train_labels)\n",
    "accuracy_check(val_data, val_labels)\n",
    "accuracy_check(test_data, test_labels)"
   ]
  }
 ],
 "metadata": {
  "interpreter": {
   "hash": "776ed16b974eb4051a720ba098885814801e01a01a8691ffdcc6d2fcef736aab"
  },
  "kernelspec": {
   "display_name": "Python 3.8.6 ('inner_speech': conda)",
   "language": "python",
   "name": "python3"
  },
  "language_info": {
   "codemirror_mode": {
    "name": "ipython",
    "version": 3
   },
   "file_extension": ".py",
   "mimetype": "text/x-python",
   "name": "python",
   "nbconvert_exporter": "python",
   "pygments_lexer": "ipython3",
   "version": "3.8.6"
  },
  "orig_nbformat": 4
 },
 "nbformat": 4,
 "nbformat_minor": 2
}
