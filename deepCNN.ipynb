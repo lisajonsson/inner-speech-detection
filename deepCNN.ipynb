{
 "cells": [
  {
   "cell_type": "code",
   "execution_count": 1,
   "metadata": {},
   "outputs": [
    {
     "name": "stdout",
     "output_type": "stream",
     "text": [
      "1024\n",
      "yo\n",
      "[39, 39, 40, 40] \n",
      " [6, 6, 5, 5] \n",
      " [5, 5, 5, 5]\n",
      "24.68354430379747 %  24.68354430379747 %  25.31645569620253 %  25.31645569620253 % \n",
      "27.27272727272727 %  27.27272727272727 %  22.727272727272727 %  22.727272727272727 % \n",
      "25.0 %  25.0 %  25.0 %  25.0 % \n"
     ]
    }
   ],
   "source": [
    "import ipynb\n",
    "import torch\n",
    "from ipynb.fs.full.data_handler import load_subject, load_subject_non_downsampled, extract_labels, extract_action_interval, split_data, split_info, to_device, get_innerspeech\n",
    "from ipynb.fs.full.train_model import train_model, accuracy_check\n",
    "\n",
    "device = torch.device('cuda:0' if torch.cuda.is_available() else 'cpu')\n",
    "\n",
    "data, description = load_subject_non_downsampled(1)\n",
    "data, description = get_innerspeech(data, description)\n",
    "labels = extract_labels(description)\n",
    "data_interval = extract_action_interval(data, hz = 1024)\n",
    "\n",
    "train_data, val_data, test_data, train_labels, val_labels, test_labels = split_data(data_interval, labels)\n",
    "\n",
    "train_data, val_data, test_data, train_labels, val_labels, test_labels = to_device(train_data, val_data, test_data, train_labels, val_labels, test_labels, device)\n",
    "split_info(train_data, val_data, test_data, train_labels, val_labels, test_labels)"
   ]
  },
  {
   "cell_type": "markdown",
   "metadata": {},
   "source": [
    "# Deep CNN\n",
    "Implementation of the deep CNN structure from (Schirrmeister et. al.) for the use on \"Thinking out loud\" dataset."
   ]
  },
  {
   "cell_type": "code",
   "execution_count": 4,
   "metadata": {},
   "outputs": [],
   "source": [
    "import torch\n",
    "import torch.nn as nn\n",
    "import torch.optim as optim\n",
    "\n",
    "class DeepCNN(nn.Module):\n",
    "    def __init__(self, hz, interval = \"full\", dropout = 0.5):\n",
    "        super(DeepCNN, self).__init__()\n",
    "        first_channels = 25\n",
    "        second_channels = 50\n",
    "        third_channels = 100\n",
    "        fourth_channels = 200\n",
    "\n",
    "        ### Block 1\n",
    "        # Temporal convolution\n",
    "        self.tempconv = nn.Conv2d(in_channels = 1, out_channels = first_channels, kernel_size = (1, 10), padding = 0, bias = False)\n",
    "        # Spatial convolution\n",
    "        self.spatconv = nn.Conv2d(in_channels = first_channels, out_channels = first_channels, kernel_size=(128,1), padding = 0, bias = False)\n",
    "        # Batch normalization\n",
    "        self.batchnorm1 = nn.BatchNorm2d(first_channels, False)\n",
    "        # ELU\n",
    "        self.elu = nn.ELU()\n",
    "        # Dropout\n",
    "        self.dropout = nn.Dropout(dropout)\n",
    "        # Max pooling\n",
    "        self.maxpool = nn.MaxPool2d(kernel_size = (1,3), stride = (1,3))\n",
    "\n",
    "        ### Block 2\n",
    "        self.conv2 = nn.Conv2d(in_channels = first_channels, out_channels = second_channels, kernel_size = (1,10), padding = 0, bias = False)\n",
    "        # Batch normalization\n",
    "        self.batchnorm2 = nn.BatchNorm2d(second_channels, False)\n",
    "\n",
    "        ### Block 3\n",
    "        self.conv3 = nn.Conv2d(in_channels = second_channels, out_channels = third_channels, kernel_size = (1,10), padding = 0, bias = False)\n",
    "        # Batch normalization\n",
    "        self.batchnorm3 = nn.BatchNorm2d(third_channels, False)\n",
    "\n",
    "        ### Block 4\n",
    "        self.conv4 = nn.Conv2d(in_channels = third_channels, out_channels = fourth_channels, kernel_size = (1,10), padding = 0, bias = False)\n",
    "        # Batch normalization\n",
    "        self.batchnorm4 = nn.BatchNorm2d(fourth_channels, False)\n",
    "\n",
    "        # Classifier\n",
    "        if interval == \"action\":\n",
    "            if hz == 254:\n",
    "                self.classifier = nn.Linear(600,4, bias = False)\n",
    "            elif hz == 1024:\n",
    "                self.classifier = nn.Linear(5400,4, bias = False)\n",
    "        elif interval == \"full\":\n",
    "            if hz == 254:\n",
    "                self.classifier = nn.Linear(1800,4, bias = False)\n",
    "            elif hz == 1024:\n",
    "                self.classifier = nn.Linear(10400,4, bias = False)\n",
    "        # Softmax\n",
    "        self.softmax = nn.LogSoftmax(dim = 1)\n",
    "\n",
    "        \n",
    "    def forward(self, x):\n",
    "        # Block 1\n",
    "        res = self.tempconv(x)\n",
    "        res = self.spatconv(res)\n",
    "        res = self.batchnorm1(res)\n",
    "        res = self.elu(res)\n",
    "        res = self.maxpool(res)\n",
    "        res = self.dropout(res)\n",
    "        # Block 2\n",
    "        res = self.conv2(res)\n",
    "        res = self.batchnorm2(res)\n",
    "        res = self.elu(res)\n",
    "        res = self.maxpool(res)\n",
    "        # Block 3\n",
    "        res = self.conv3(res)\n",
    "        res = self.batchnorm3(res)\n",
    "        res = self.elu(res)\n",
    "        res = self.maxpool(res)\n",
    "        # Block 4\n",
    "        res = self.conv4(res)\n",
    "        res = self.batchnorm4(res)\n",
    "        res = self.elu(res)\n",
    "        res = self.maxpool(res)\n",
    "        # Classifier\n",
    "        res = torch.flatten(res, start_dim=1)\n",
    "        res = self.classifier(res)\n",
    "        res = self.softmax(res)\n",
    "        return res"
   ]
  },
  {
   "cell_type": "code",
   "execution_count": 5,
   "metadata": {},
   "outputs": [
    {
     "name": "stdout",
     "output_type": "stream",
     "text": [
      "ACCURACY: 0.23417721518987342\n",
      "####### TRAINING #######\n",
      "Epoch\t train loss\t validation loss\n",
      "0 \t  1.5125391642252604 \t 1.4288313388824463\n",
      "1 \t  1.1832196553548178 \t 1.6402068138122559\n",
      "2 \t  0.9622668584187826 \t 1.8683867454528809\n",
      "3 \t  0.8431697209676107 \t 1.9547569751739502\n",
      "4 \t  0.682554817199707 \t 2.004453659057617\n",
      "5 \t  0.5770423253377278 \t 2.043234348297119\n",
      "6 \t  0.4683230717976888 \t 2.1316511631011963\n",
      "7 \t  0.41487642923990886 \t 2.260991096496582\n",
      "8 \t  0.34209117889404295 \t 2.3088133335113525\n",
      "9 \t  0.2634807904561361 \t 2.2944014072418213\n",
      "10 \t  0.23848748207092285 \t 2.332322597503662\n",
      "11 \t  0.19249793688456218 \t 2.3699100017547607\n",
      "12 \t  0.16090758641560873 \t 2.429518699645996\n",
      "13 \t  0.14106640815734864 \t 2.4940738677978516\n",
      "14 \t  0.1259350061416626 \t 2.387023448944092\n",
      "15 \t  0.10305298964182535 \t 2.3308000564575195\n",
      "16 \t  0.09561254183451334 \t 2.3460500240325928\n",
      "17 \t  0.08189308643341064 \t 2.318917989730835\n",
      "18 \t  0.07461902300516764 \t 2.408930778503418\n",
      "19 \t  0.06600199937820435 \t 2.5004968643188477\n",
      "20 \t  0.05671414534250895 \t 2.492093086242676\n",
      "21 \t  0.053337907791137694 \t 2.560086727142334\n",
      "22 \t  0.04738994042078654 \t 2.5804219245910645\n",
      "23 \t  0.042900792757670086 \t 2.5906732082366943\n",
      "24 \t  0.040047991275787356 \t 2.5975492000579834\n",
      "25 \t  0.03631636699040731 \t 2.5881333351135254\n",
      "26 \t  0.03604552348454793 \t 2.6297433376312256\n",
      "27 \t  0.030836256345113118 \t 2.693286657333374\n",
      "28 \t  0.029518904288609822 \t 2.7252542972564697\n",
      "29 \t  0.02564879059791565 \t 2.6682076454162598\n",
      "30 \t  0.02714790900548299 \t 2.739474296569824\n",
      "31 \t  0.022307399908701578 \t 2.737724542617798\n",
      "32 \t  0.020768396059672036 \t 2.7866952419281006\n",
      "33 \t  0.023349897066752116 \t 2.7557828426361084\n",
      "34 \t  0.019594083229700725 \t 2.8212435245513916\n",
      "35 \t  0.020514806111653645 \t 2.8008997440338135\n",
      "36 \t  0.01718053619066874 \t 2.839061975479126\n",
      "37 \t  0.016541091601053874 \t 2.8126890659332275\n",
      "38 \t  0.01623499592145284 \t 2.8125152587890625\n",
      "39 \t  0.015435884396235148 \t 2.8143982887268066\n",
      "40 \t  0.013684039314587912 \t 2.8203837871551514\n",
      "41 \t  0.014382574955622356 \t 2.841346025466919\n",
      "42 \t  0.012657253940900167 \t 2.8470938205718994\n",
      "43 \t  0.010927570859591167 \t 2.8913588523864746\n",
      "44 \t  0.012121359507242838 \t 2.8600339889526367\n",
      "45 \t  0.01168782611687978 \t 2.8881280422210693\n",
      "46 \t  0.010657784342765809 \t 2.915360450744629\n",
      "47 \t  0.009803359707196554 \t 2.944732666015625\n",
      "48 \t  0.010573657353719075 \t 2.9286131858825684\n",
      "49 \t  0.00909041166305542 \t 2.9517552852630615\n",
      "ACCURACY: 0.7278481012658228\n"
     ]
    }
   ],
   "source": [
    "network = DeepCNN(interval = \"action\", hz = 1024).float().to(device)\n",
    "accuracy_check(network, train_data, train_labels)\n",
    "\n",
    "print(\"####### TRAINING #######\")\n",
    "op = optim.Adam(params = network.parameters(), lr = 0.0001)\n",
    "lossf = nn.NLLLoss()\n",
    "train_model(network, train_data = train_data, train_labels = train_labels, val_data = val_data, val_labels = val_labels, epochs = 50, batch_size = 10, loss_func = lossf, optimizer = op)\n",
    "\n",
    "accuracy_check(network, train_data, train_labels)"
   ]
  },
  {
   "cell_type": "code",
   "execution_count": 6,
   "metadata": {},
   "outputs": [
    {
     "name": "stdout",
     "output_type": "stream",
     "text": [
      "ACCURACY: 0.7278481012658228\n",
      "ACCURACY: 0.36363636363636365\n",
      "ACCURACY: 0.25\n"
     ]
    }
   ],
   "source": [
    "accuracy_check(network, train_data, train_labels)\n",
    "accuracy_check(network, val_data, val_labels)\n",
    "accuracy_check(network, test_data, test_labels)\n"
   ]
  }
 ],
 "metadata": {
  "interpreter": {
   "hash": "776ed16b974eb4051a720ba098885814801e01a01a8691ffdcc6d2fcef736aab"
  },
  "kernelspec": {
   "display_name": "Python 3.8.6 ('inner_speech': conda)",
   "language": "python",
   "name": "python3"
  },
  "language_info": {
   "codemirror_mode": {
    "name": "ipython",
    "version": 3
   },
   "file_extension": ".py",
   "mimetype": "text/x-python",
   "name": "python",
   "nbconvert_exporter": "python",
   "pygments_lexer": "ipython3",
   "version": "3.8.6"
  },
  "orig_nbformat": 4
 },
 "nbformat": 4,
 "nbformat_minor": 2
}
