{
 "cells": [
  {
   "cell_type": "code",
   "execution_count": 41,
   "metadata": {},
   "outputs": [
    {
     "name": "stdout",
     "output_type": "stream",
     "text": [
      "[39, 39, 40, 40] \n",
      " [6, 6, 5, 5] \n",
      " [5, 5, 5, 5]\n",
      "24.68354430379747 %  24.68354430379747 %  25.31645569620253 %  25.31645569620253 % \n",
      "27.27272727272727 %  27.27272727272727 %  22.727272727272727 %  22.727272727272727 % \n",
      "25.0 %  25.0 %  25.0 %  25.0 % \n"
     ]
    }
   ],
   "source": [
    "import ipynb\n",
    "import torch\n",
    "from ipynb.fs.full.data_handler import load_subject, extract_labels, extract_action_interval, split_data, split_info, to_device, get_innerspeech\n",
    "from ipynb.fs.full.train_model import train_model, accuracy_check\n",
    "\n",
    "device = torch.device('cuda:0' if torch.cuda.is_available() else 'cpu')\n",
    "\n",
    "data, description = load_subject(1)\n",
    "data, description = get_innerspeech(data, description)\n",
    "labels = extract_labels(description)\n",
    "#data_interval = extract_action_interval(data)\n",
    "\n",
    "train_data, val_data, test_data, train_labels, val_labels, test_labels = split_data(data, labels)\n",
    "\n",
    "train_data, val_data, test_data, train_labels, val_labels, test_labels = to_device(train_data, val_data, test_data, train_labels, val_labels, test_labels, device)\n",
    "split_info(train_data, val_data, test_data, train_labels, val_labels, test_labels)"
   ]
  },
  {
   "cell_type": "markdown",
   "metadata": {},
   "source": [
    "# Deep CNN\n",
    "Implementation of the deep CNN structure from (Schirrmeister et. al.) for the use on \"Thinking out loud\" dataset."
   ]
  },
  {
   "cell_type": "code",
   "execution_count": 42,
   "metadata": {},
   "outputs": [],
   "source": [
    "import torch\n",
    "import torch.nn as nn\n",
    "import torch.optim as optim\n",
    "\n",
    "class DeepCNN(nn.Module):\n",
    "    def __init__(self, hz, interval = \"full\", dropout = 0.5):\n",
    "        super(DeepCNN, self).__init__()\n",
    "        first_channels = 25\n",
    "        second_channels = 50\n",
    "        third_channels = 100\n",
    "        fourth_channels = 200\n",
    "\n",
    "        ### Block 1\n",
    "        # Temporal convolution\n",
    "        self.tempconv = nn.Conv2d(in_channels = 1, out_channels = first_channels, kernel_size = (1, 10), padding = 0, bias = False)\n",
    "        # Spatial convolution\n",
    "        self.spatconv = nn.Conv2d(in_channels = first_channels, out_channels = first_channels, kernel_size=(128,1), padding = 0, bias = False)\n",
    "        # Batch normalization\n",
    "        self.batchnorm1 = nn.BatchNorm2d(first_channels, False)\n",
    "        # ELU\n",
    "        self.elu = nn.ELU()\n",
    "        # Dropout\n",
    "        self.dropout = nn.Dropout(dropout)\n",
    "        # Max pooling\n",
    "        self.maxpool = nn.MaxPool2d(kernel_size = (1,3), stride = (1,3))\n",
    "\n",
    "        ### Block 2\n",
    "        self.conv2 = nn.Conv2d(in_channels = first_channels, out_channels = second_channels, kernel_size = (1,10), padding = 0, bias = False)\n",
    "        # Batch normalization\n",
    "        self.batchnorm2 = nn.BatchNorm2d(second_channels, False)\n",
    "\n",
    "        ### Block 3\n",
    "        self.conv3 = nn.Conv2d(in_channels = second_channels, out_channels = third_channels, kernel_size = (1,10), padding = 0, bias = False)\n",
    "        # Batch normalization\n",
    "        self.batchnorm3 = nn.BatchNorm2d(third_channels, False)\n",
    "\n",
    "        ### Block 4\n",
    "        self.conv4 = nn.Conv2d(in_channels = third_channels, out_channels = fourth_channels, kernel_size = (1,10), padding = 0, bias = False)\n",
    "        # Batch normalization\n",
    "        self.batchnorm4 = nn.BatchNorm2d(fourth_channels, False)\n",
    "\n",
    "        # Classifier\n",
    "        if interval == \"action\":\n",
    "            self.classifier = nn.Linear(600,4, bias = False)\n",
    "        elif interval == \"full\":\n",
    "            self.classifier = nn.Linear(1800,4, bias = False)\n",
    "        # Softmax\n",
    "        self.softmax = nn.LogSoftmax(dim = 1)\n",
    "\n",
    "        \n",
    "    def forward(self, x):\n",
    "        # Block 1\n",
    "        res = self.tempconv(x)\n",
    "        res = self.spatconv(res)\n",
    "        res = self.batchnorm1(res)\n",
    "        res = self.elu(res)\n",
    "        res = self.maxpool(res)\n",
    "        res = self.dropout(res)\n",
    "        # Block 2\n",
    "        res = self.conv2(res)\n",
    "        res = self.batchnorm2(res)\n",
    "        res = self.elu(res)\n",
    "        res = self.maxpool(res)\n",
    "        # Block 3\n",
    "        res = self.conv3(res)\n",
    "        res = self.batchnorm3(res)\n",
    "        res = self.elu(res)\n",
    "        res = self.maxpool(res)\n",
    "        # Block 4\n",
    "        res = self.conv4(res)\n",
    "        res = self.batchnorm4(res)\n",
    "        res = self.elu(res)\n",
    "        res = self.maxpool(res)\n",
    "        # Classifier\n",
    "        res = torch.flatten(res, start_dim=1)\n",
    "        res = self.classifier(res)\n",
    "        res = self.softmax(res)\n",
    "        return res"
   ]
  },
  {
   "cell_type": "code",
   "execution_count": 43,
   "metadata": {},
   "outputs": [
    {
     "name": "stdout",
     "output_type": "stream",
     "text": [
      "ACCURACY: 0.2721518987341772\n",
      "####### TRAINING #######\n",
      "Epoch\t train loss\t validation loss\n",
      "0 \t  1.5352389017740886 \t 1.4157025814056396\n",
      "1 \t  1.2211573282877604 \t 1.5906962156295776\n",
      "2 \t  1.0767817179361978 \t 1.7430084943771362\n",
      "3 \t  0.9756191889444987 \t 1.8270012140274048\n",
      "4 \t  0.8629987716674805 \t 1.8945465087890625\n",
      "5 \t  0.7639547348022461 \t 1.9555039405822754\n",
      "6 \t  0.714982541402181 \t 1.9820233583450317\n",
      "7 \t  0.6359867731730143 \t 2.02097749710083\n",
      "8 \t  0.5825490315755208 \t 2.1104447841644287\n",
      "9 \t  0.531870969136556 \t 2.211881399154663\n",
      "10 \t  0.44982865651448567 \t 2.3064687252044678\n",
      "11 \t  0.38181320826212567 \t 2.324892997741699\n",
      "12 \t  0.3349457740783691 \t 2.3447086811065674\n",
      "13 \t  0.2899471282958984 \t 2.3505802154541016\n",
      "14 \t  0.24329446156819662 \t 2.3297154903411865\n",
      "15 \t  0.220074733098348 \t 2.296295404434204\n",
      "16 \t  0.18185375531514486 \t 2.3326973915100098\n",
      "17 \t  0.18009146054585776 \t 2.3253915309906006\n",
      "18 \t  0.13987733523050944 \t 2.4022438526153564\n",
      "19 \t  0.12449454466501872 \t 2.4532487392425537\n",
      "20 \t  0.1070384661356608 \t 2.5165395736694336\n",
      "21 \t  0.10136454105377198 \t 2.474410057067871\n",
      "22 \t  0.09513095219930014 \t 2.523512125015259\n",
      "23 \t  0.08543593088785807 \t 2.4803709983825684\n",
      "24 \t  0.07554015318552652 \t 2.521233081817627\n",
      "25 \t  0.0629264752070109 \t 2.607145309448242\n",
      "26 \t  0.0582865834236145 \t 2.6130013465881348\n",
      "27 \t  0.059219861030578615 \t 2.6421964168548584\n",
      "28 \t  0.04881231784820557 \t 2.6647684574127197\n",
      "29 \t  0.0504638393719991 \t 2.652517557144165\n",
      "30 \t  0.049605079491933185 \t 2.6942765712738037\n",
      "31 \t  0.0419856866200765 \t 2.763279676437378\n",
      "32 \t  0.03735239505767822 \t 2.7342584133148193\n",
      "33 \t  0.03678673505783081 \t 2.768371343612671\n",
      "34 \t  0.03251454432805379 \t 2.817294120788574\n",
      "35 \t  0.03336615959803264 \t 2.8562581539154053\n",
      "36 \t  0.025281286239624022 \t 2.844195604324341\n",
      "37 \t  0.029378350575764975 \t 2.8333864212036133\n",
      "38 \t  0.024124298493067423 \t 2.829226493835449\n",
      "39 \t  0.024681323766708375 \t 2.807804822921753\n",
      "40 \t  0.02182270884513855 \t 2.8614163398742676\n",
      "41 \t  0.02082124352455139 \t 2.832257032394409\n",
      "42 \t  0.018920852740605672 \t 2.899822950363159\n",
      "43 \t  0.022773496309916177 \t 2.891622304916382\n",
      "44 \t  0.015498460332552592 \t 2.9048879146575928\n",
      "45 \t  0.01748951474825541 \t 2.918252468109131\n",
      "46 \t  0.017181624968846638 \t 2.940000295639038\n",
      "47 \t  0.015275172392527262 \t 2.9293673038482666\n",
      "48 \t  0.014234418670336405 \t 2.9275400638580322\n",
      "49 \t  0.014309664567311605 \t 2.9001283645629883\n",
      "ACCURACY: 0.8481012658227848\n"
     ]
    }
   ],
   "source": [
    "network = DeepCNN(interval = \"full\").float().to(device)\n",
    "accuracy_check(network, train_data, train_labels)\n",
    "\n",
    "print(\"####### TRAINING #######\")\n",
    "op = optim.Adam(params = network.parameters(), lr = 0.0001)\n",
    "lossf = nn.NLLLoss()\n",
    "train_model(network, train_data = train_data, train_labels = train_labels, val_data = val_data, val_labels = val_labels, epochs = 50, batch_size = 10, loss_func = lossf, optimizer = op)\n",
    "\n",
    "accuracy_check(network, train_data, train_labels)"
   ]
  },
  {
   "cell_type": "code",
   "execution_count": 44,
   "metadata": {},
   "outputs": [
    {
     "name": "stdout",
     "output_type": "stream",
     "text": [
      "ACCURACY: 0.8481012658227848\n",
      "ACCURACY: 0.2727272727272727\n",
      "ACCURACY: 0.3\n"
     ]
    }
   ],
   "source": [
    "accuracy_check(network, train_data, train_labels)\n",
    "accuracy_check(network, val_data, val_labels)\n",
    "accuracy_check(network, test_data, test_labels)\n"
   ]
  }
 ],
 "metadata": {
  "interpreter": {
   "hash": "776ed16b974eb4051a720ba098885814801e01a01a8691ffdcc6d2fcef736aab"
  },
  "kernelspec": {
   "display_name": "Python 3.8.6 ('inner_speech': conda)",
   "language": "python",
   "name": "python3"
  },
  "language_info": {
   "codemirror_mode": {
    "name": "ipython",
    "version": 3
   },
   "file_extension": ".py",
   "mimetype": "text/x-python",
   "name": "python",
   "nbconvert_exporter": "python",
   "pygments_lexer": "ipython3",
   "version": "3.8.6"
  },
  "orig_nbformat": 4
 },
 "nbformat": 4,
 "nbformat_minor": 2
}
