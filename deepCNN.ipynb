{
 "cells": [
  {
   "cell_type": "code",
   "execution_count": 29,
   "metadata": {},
   "outputs": [
    {
     "name": "stdout",
     "output_type": "stream",
     "text": [
      "[39, 39, 40, 40] \n",
      " [6, 6, 5, 5] \n",
      " [5, 5, 5, 5]\n",
      "24.68354430379747 %  24.68354430379747 %  25.31645569620253 %  25.31645569620253 % \n",
      "27.27272727272727 %  27.27272727272727 %  22.727272727272727 %  22.727272727272727 % \n",
      "25.0 %  25.0 %  25.0 %  25.0 % \n"
     ]
    }
   ],
   "source": [
    "import ipynb\n",
    "import torch\n",
    "from ipynb.fs.full.data_handler import load_subject, extract_labels, extract_action_interval, split_data, split_info, to_device, get_innerspeech\n",
    "from ipynb.fs.full.train_model import train_model, accuracy_check\n",
    "\n",
    "device = torch.device('cuda:0' if torch.cuda.is_available() else 'cpu')\n",
    "\n",
    "data, description = load_subject(1)\n",
    "data, description = get_innerspeech(data, description)\n",
    "labels = extract_labels(description)\n",
    "data_interval = extract_action_interval(data)\n",
    "\n",
    "train_data, val_data, test_data, train_labels, val_labels, test_labels = split_data(data_interval, labels)\n",
    "\n",
    "train_data, val_data, test_data, train_labels, val_labels, test_labels = to_device(train_data, val_data, test_data, train_labels, val_labels, test_labels, device)\n",
    "split_info(train_data, val_data, test_data, train_labels, val_labels, test_labels)"
   ]
  },
  {
   "cell_type": "markdown",
   "metadata": {},
   "source": [
    "# Deep CNN\n",
    "Implementation of the deep CNN structure from (Schirrmeister et. al.) for the use on \"Thinking out loud\" dataset."
   ]
  },
  {
   "cell_type": "code",
   "execution_count": 30,
   "metadata": {},
   "outputs": [],
   "source": [
    "import torch\n",
    "import torch.nn as nn\n",
    "import torch.optim as optim\n",
    "\n",
    "class DeepCNN(nn.Module):\n",
    "    def __init__(self, interval = \"full\", dropout = 0.5):\n",
    "        super(DeepCNN, self).__init__()\n",
    "        first_channels = 25\n",
    "        second_channels = 50\n",
    "        third_channels = 100\n",
    "        fourth_channels = 200\n",
    "\n",
    "        ### Block 1\n",
    "        # Temporal convolution\n",
    "        self.tempconv = nn.Conv2d(in_channels = 1, out_channels = first_channels, kernel_size = (1, 10), padding = 0, bias = False)\n",
    "        # Spatial convolution\n",
    "        self.spatconv = nn.Conv2d(in_channels = first_channels, out_channels = first_channels, kernel_size=(128,1), padding = 0, bias = False)\n",
    "        # Batch normalization\n",
    "        self.batchnorm1 = nn.BatchNorm2d(first_channels, False)\n",
    "        # ELU\n",
    "        self.elu = nn.ELU()\n",
    "        # Dropout\n",
    "        self.dropout = nn.Dropout(dropout)\n",
    "        # Max pooling\n",
    "        self.maxpool = nn.MaxPool2d(kernel_size = (1,3), stride = (1,3))\n",
    "\n",
    "        ### Block 2\n",
    "        self.conv2 = nn.Conv2d(in_channels = first_channels, out_channels = second_channels, kernel_size = (1,10), padding = 0, bias = False)\n",
    "        # Batch normalization\n",
    "        self.batchnorm2 = nn.BatchNorm2d(second_channels, False)\n",
    "\n",
    "        ### Block 3\n",
    "        self.conv3 = nn.Conv2d(in_channels = second_channels, out_channels = third_channels, kernel_size = (1,10), padding = 0, bias = False)\n",
    "        # Batch normalization\n",
    "        self.batchnorm3 = nn.BatchNorm2d(third_channels, False)\n",
    "\n",
    "        ### Block 4\n",
    "        self.conv4 = nn.Conv2d(in_channels = third_channels, out_channels = fourth_channels, kernel_size = (1,10), padding = 0, bias = False)\n",
    "        # Batch normalization\n",
    "        self.batchnorm4 = nn.BatchNorm2d(fourth_channels, False)\n",
    "\n",
    "        # Classifier\n",
    "        if interval == \"action\":\n",
    "            self.classifier = nn.Linear(600,4, bias = False)\n",
    "        elif interval == \"full\":\n",
    "            self.classifier = nn.Linear(1800,4, bias = False)\n",
    "        # Softmax\n",
    "        self.softmax = nn.LogSoftmax(dim = 1)\n",
    "\n",
    "        \n",
    "    def forward(self, x):\n",
    "        # Block 1\n",
    "        res = self.tempconv(x)\n",
    "        res = self.spatconv(res)\n",
    "        res = self.batchnorm1(res)\n",
    "        res = self.elu(res)\n",
    "        res = self.maxpool(res)\n",
    "        res = self.dropout(res)\n",
    "        # Block 2\n",
    "        res = self.conv2(res)\n",
    "        res = self.batchnorm2(res)\n",
    "        res = self.elu(res)\n",
    "        res = self.maxpool(res)\n",
    "        # Block 3\n",
    "        res = self.conv3(res)\n",
    "        res = self.batchnorm3(res)\n",
    "        res = self.elu(res)\n",
    "        res = self.maxpool(res)\n",
    "        # Block 4\n",
    "        res = self.conv4(res)\n",
    "        res = self.batchnorm4(res)\n",
    "        res = self.elu(res)\n",
    "        res = self.maxpool(res)\n",
    "        # Classifier\n",
    "        res = torch.flatten(res, start_dim=1)\n",
    "        res = self.classifier(res)\n",
    "        res = self.softmax(res)\n",
    "        return res"
   ]
  },
  {
   "cell_type": "code",
   "execution_count": 31,
   "metadata": {},
   "outputs": [
    {
     "name": "stdout",
     "output_type": "stream",
     "text": [
      "ACCURACY: 0.2468354430379747\n",
      "####### TRAINING #######\n",
      "Epoch\t train loss\t validation loss\n",
      "0 \t  1.5203728993733725 \t 1.4444648027420044\n",
      "1 \t  1.2355884552001952 \t 1.5502461194992065\n",
      "2 \t  1.141515604654948 \t 1.669081211090088\n",
      "3 \t  1.0590504964192708 \t 1.7558993101119995\n",
      "4 \t  1.0026379267374674 \t 1.8320422172546387\n",
      "5 \t  0.8916405359903972 \t 1.8749492168426514\n",
      "6 \t  0.7853562672932942 \t 1.9128414392471313\n",
      "7 \t  0.7399758021036784 \t 1.959327220916748\n",
      "8 \t  0.669963264465332 \t 1.9809632301330566\n",
      "9 \t  0.5819945017496745 \t 2.0261189937591553\n",
      "10 \t  0.5008022626241048 \t 2.159670829772949\n",
      "11 \t  0.46645221710205076 \t 2.2846415042877197\n",
      "12 \t  0.3815501848856608 \t 2.445828437805176\n",
      "13 \t  0.3621055603027344 \t 2.431354284286499\n",
      "14 \t  0.340928586324056 \t 2.2949140071868896\n",
      "15 \t  0.27345345815022787 \t 2.2113144397735596\n",
      "16 \t  0.24733529090881348 \t 2.0963311195373535\n",
      "17 \t  0.2222481409708659 \t 2.205003499984741\n",
      "18 \t  0.19813793500264484 \t 2.2006590366363525\n",
      "19 \t  0.19887890815734863 \t 2.3128812313079834\n",
      "20 \t  0.14226675033569336 \t 2.421912670135498\n",
      "21 \t  0.15048232078552246 \t 2.2868213653564453\n",
      "22 \t  0.14012176195780437 \t 2.491546154022217\n",
      "23 \t  0.13049995104471843 \t 2.4382150173187256\n",
      "24 \t  0.11075801849365234 \t 2.531813621520996\n",
      "25 \t  0.09044994513193766 \t 2.4212636947631836\n",
      "26 \t  0.09746534029642741 \t 2.5665483474731445\n",
      "27 \t  0.09404025077819825 \t 2.5722243785858154\n",
      "28 \t  0.07449484666188558 \t 2.6065783500671387\n",
      "29 \t  0.08111805915832519 \t 2.4290690422058105\n",
      "30 \t  0.06350793838500976 \t 2.6537535190582275\n",
      "31 \t  0.0619610587755839 \t 2.7000060081481934\n",
      "32 \t  0.05587740739186605 \t 2.6943814754486084\n",
      "33 \t  0.03864314556121826 \t 2.741877317428589\n",
      "34 \t  0.05306469599405925 \t 2.7332513332366943\n",
      "35 \t  0.043268593152364095 \t 2.8377180099487305\n",
      "36 \t  0.04465386470158895 \t 2.8595762252807617\n",
      "37 \t  0.03581142822901408 \t 2.8632287979125977\n",
      "38 \t  0.03690405686696371 \t 2.9327149391174316\n",
      "39 \t  0.03806739648183187 \t 2.9977846145629883\n",
      "40 \t  0.04299238920211792 \t 3.12709903717041\n",
      "41 \t  0.04572931925455729 \t 2.9904167652130127\n",
      "42 \t  0.03748287359873454 \t 3.1328468322753906\n",
      "43 \t  0.03152946631113688 \t 2.966796875\n",
      "44 \t  0.03132292826970418 \t 3.0154497623443604\n",
      "45 \t  0.026827563842137653 \t 2.9715089797973633\n",
      "46 \t  0.03003276785214742 \t 3.0788819789886475\n",
      "47 \t  0.03346985578536987 \t 2.8788340091705322\n",
      "48 \t  0.02906415661176046 \t 2.977694034576416\n",
      "49 \t  0.02302679419517517 \t 3.0160176753997803\n",
      "ACCURACY: 0.7974683544303798\n"
     ]
    }
   ],
   "source": [
    "network = DeepCNN(interval = \"action\").float().to(device)\n",
    "accuracy_check(network, train_data, train_labels)\n",
    "\n",
    "print(\"####### TRAINING #######\")\n",
    "op = optim.Adam(params = network.parameters(), lr = 0.0001)\n",
    "lossf = nn.NLLLoss()\n",
    "train_model(network, train_data = train_data, train_labels = train_labels, val_data = val_data, val_labels = val_labels, epochs = 50, batch_size = 10, loss_func = lossf, optimizer = op)\n",
    "\n",
    "accuracy_check(network, train_data, train_labels)"
   ]
  },
  {
   "cell_type": "code",
   "execution_count": 32,
   "metadata": {},
   "outputs": [
    {
     "name": "stdout",
     "output_type": "stream",
     "text": [
      "ACCURACY: 0.7974683544303798\n",
      "ACCURACY: 0.2727272727272727\n",
      "ACCURACY: 0.2\n"
     ]
    }
   ],
   "source": [
    "accuracy_check(network, train_data, train_labels)\n",
    "accuracy_check(network, val_data, val_labels)\n",
    "accuracy_check(network, test_data, test_labels)\n"
   ]
  }
 ],
 "metadata": {
  "interpreter": {
   "hash": "776ed16b974eb4051a720ba098885814801e01a01a8691ffdcc6d2fcef736aab"
  },
  "kernelspec": {
   "display_name": "Python 3.8.6 ('inner_speech': conda)",
   "language": "python",
   "name": "python3"
  },
  "language_info": {
   "codemirror_mode": {
    "name": "ipython",
    "version": 3
   },
   "file_extension": ".py",
   "mimetype": "text/x-python",
   "name": "python",
   "nbconvert_exporter": "python",
   "pygments_lexer": "ipython3",
   "version": "3.8.6"
  },
  "orig_nbformat": 4
 },
 "nbformat": 4,
 "nbformat_minor": 2
}
