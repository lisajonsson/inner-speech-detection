{
 "cells": [
  {
   "cell_type": "markdown",
   "metadata": {},
   "source": [
    "# Load data\n",
    "This code loads the data for 1 subject with the help of methods defined in data_handler.ipynb.\n",
    "Also prints distribution of the split just to make sure it's stratified."
   ]
  },
  {
   "cell_type": "code",
   "execution_count": 19,
   "metadata": {},
   "outputs": [
    {
     "name": "stdout",
     "output_type": "stream",
     "text": [
      "[39, 39, 40, 40] \n",
      " [6, 6, 5, 5] \n",
      " [5, 5, 5, 5]\n",
      "24.68354430379747 %  24.68354430379747 %  25.31645569620253 %  25.31645569620253 % \n",
      "27.27272727272727 %  27.27272727272727 %  22.727272727272727 %  22.727272727272727 % \n",
      "25.0 %  25.0 %  25.0 %  25.0 % \n"
     ]
    }
   ],
   "source": [
    "import ipynb\n",
    "import torch\n",
    "from ipynb.fs.full.data_handler import load_subject, extract_labels, extract_action_interval, split_data, split_info, to_device, get_innerspeech\n",
    "from ipynb.fs.full.train_model import train_model, accuracy_check\n",
    "\n",
    "device = torch.device('cuda:0' if torch.cuda.is_available() else 'cpu')\n",
    "\n",
    "data, description = load_subject(1)\n",
    "data, description = get_innerspeech(data, description)\n",
    "labels = extract_labels(description)\n",
    "data_interval = extract_action_interval(data)\n",
    "\n",
    "train_data, val_data, test_data, train_labels, val_labels, test_labels = split_data(data_interval, labels)\n",
    "\n",
    "train_data, val_data, test_data, train_labels, val_labels, test_labels = to_device(train_data, val_data, test_data, train_labels, val_labels, test_labels, device)\n",
    "split_info(train_data, val_data, test_data, train_labels, val_labels, test_labels)"
   ]
  },
  {
   "cell_type": "markdown",
   "metadata": {},
   "source": [
    "# EEGNet\n",
    "Implementation of EEGNetfrom (Lawhern et. al.) for the use on \"Thinking out loud\" dataset."
   ]
  },
  {
   "cell_type": "code",
   "execution_count": 20,
   "metadata": {},
   "outputs": [],
   "source": [
    "import torch\n",
    "import torch.nn as nn\n",
    "import torch.optim as optim\n",
    "\n",
    "\n",
    "class EEGNet(nn.Module):\n",
    "    def __init__(self, interval = \"full\", dropout = 0.5):\n",
    "        super(EEGNet, self).__init__()\n",
    "        self.f1 = 16\n",
    "        self.d = 4\n",
    "        self.f2 = self.d*self.f1\n",
    "\n",
    "        # Block 1\n",
    "        self.conv1 = nn.Conv2d(in_channels=1, out_channels = self.f1, kernel_size = (1, 128), padding = 0, bias = False) # 128 = half sampling rate, reduces to 2Hz, 16 is probably F1, the number of filters (output channels)\n",
    "        self.batchnorm1 = nn.BatchNorm2d(self.f1, False)\n",
    "\n",
    "        self.conv2 = nn.Conv2d(in_channels = self.f1, out_channels = self.f1*self.d, kernel_size = (128, 1), padding = 0, bias = False) # row, column] 128 = number of sensors for the depth wise convolution\n",
    "        self.batchnorm2 = nn.BatchNorm2d(self.f1*self.d, False) # Not sure this is the right number of features.\n",
    "        # Elu\n",
    "        self.elu = nn.ELU()\n",
    "        # Dropout\n",
    "        self.dropout = nn.Dropout(dropout)\n",
    "\n",
    "        self.avgPool1 = nn.AvgPool2d((1,4)) # Reduces sampling rate to 64hz\n",
    "\n",
    "        # Block 2\n",
    "\n",
    "        # Separable convolution\n",
    "        self.depthwise = nn.Conv2d(in_channels = self.f1*self.d, out_channels = self.f1*self.d, kernel_size = (1, 32),\n",
    "                        bias=False, groups = self.f1*self.d, padding = (0, 16//2)) # Captures 500ms of data at sampling rate 64Hz (32 Hz is 500ms of that)\n",
    "        self.pointwise = nn.Conv2d(in_channels = self.f1*self.d, out_channels = self.f2, kernel_size = 1) # This results in f2 channels of the output here.\n",
    "        \n",
    "        self.batchnorm3 = nn.BatchNorm2d(self.f2, False)\n",
    "\n",
    "        self.avgPool2 = nn.AvgPool2d((1,8))\n",
    "        \n",
    "        # Fully connected classifier\n",
    "        if interval == \"action\":\n",
    "            self.classifier = nn.Linear(896,4, bias = False)\n",
    "        elif interval == \"full\":\n",
    "            self.classifier = nn.Linear(1920,4, bias = False)\n",
    "        self.softmax = nn.LogSoftmax(dim = 1)\n",
    "\n",
    "\n",
    "    def forward(self, x): # Dropout 0.5 dropout for within-subject and 0.25 for cross-subject\n",
    "        # Block 1\n",
    "        res = self.conv1(x)\n",
    "        res = self.batchnorm1(res)\n",
    "        res = self.conv2(res)\n",
    "        res = torch.renorm(res, p=2, dim=0, maxnorm=1)\n",
    "        res = self.batchnorm2(res)\n",
    "        #res = F.dropout(0.25)\n",
    "        res = self.elu(res)\n",
    "        res = self.avgPool1(res)\n",
    "        res = self.dropout(res)\n",
    "        # Block 2\n",
    "        res = self.depthwise(res)\n",
    "        res = self.pointwise(res)\n",
    "        res = self.batchnorm3(res)\n",
    "        res = self.elu(res)\n",
    "        res = self.avgPool2(res)\n",
    "        res = self.dropout(res)\n",
    "        # Classifier\n",
    "        res = torch.flatten(res, start_dim=1)\n",
    "        res = self.classifier(res)\n",
    "        res = self.softmax(res)\n",
    "        return res\n"
   ]
  },
  {
   "cell_type": "markdown",
   "metadata": {},
   "source": [
    "## Testing code\n",
    "Code for testing the EEGNet implementation"
   ]
  },
  {
   "cell_type": "code",
   "execution_count": 21,
   "metadata": {},
   "outputs": [
    {
     "name": "stdout",
     "output_type": "stream",
     "text": [
      "ACCURACY: 0.25316455696202533\n",
      "####### TRAINING #######\n",
      "Epoch\t train loss\t validation loss\n",
      "0 \t  1.4695875803629557 \t 1.3851996660232544\n",
      "1 \t  1.349224599202474 \t 1.385764241218567\n",
      "2 \t  1.265874481201172 \t 1.3863712549209595\n",
      "3 \t  1.2316602071126301 \t 1.3867648839950562\n",
      "4 \t  1.1677860260009765 \t 1.3874969482421875\n",
      "5 \t  1.16266721089681 \t 1.388472080230713\n",
      "6 \t  1.0827292124430339 \t 1.3889894485473633\n",
      "7 \t  1.047506586710612 \t 1.3990483283996582\n",
      "8 \t  1.0015446980794271 \t 1.440393328666687\n",
      "9 \t  0.9093060811360677 \t 1.4492462873458862\n",
      "10 \t  0.9200115203857422 \t 1.4594147205352783\n",
      "11 \t  0.9134784698486328 \t 1.4419611692428589\n",
      "12 \t  0.8410994847615559 \t 1.4456098079681396\n",
      "13 \t  0.7847361882527669 \t 1.4392526149749756\n",
      "14 \t  0.777585220336914 \t 1.4357753992080688\n",
      "15 \t  0.7098390579223632 \t 1.4274673461914062\n",
      "16 \t  0.6703482309977213 \t 1.4498134851455688\n",
      "17 \t  0.5950520197550456 \t 1.4454865455627441\n",
      "18 \t  0.5774281819661459 \t 1.3973113298416138\n",
      "19 \t  0.5544132868448893 \t 1.4833225011825562\n",
      "20 \t  0.5097652435302734 \t 1.4202499389648438\n",
      "21 \t  0.46841821670532224 \t 1.4375276565551758\n",
      "22 \t  0.41439634958902993 \t 1.4668091535568237\n",
      "23 \t  0.4343621571858724 \t 1.469138741493225\n",
      "24 \t  0.38235883712768554 \t 1.5304397344589233\n",
      "25 \t  0.3694559097290039 \t 1.506628155708313\n",
      "26 \t  0.3302661259969076 \t 1.548107624053955\n",
      "27 \t  0.3082340876261393 \t 1.603118896484375\n",
      "28 \t  0.26356984774271647 \t 1.510179877281189\n",
      "29 \t  0.27748311360677086 \t 1.6323952674865723\n",
      "30 \t  0.24846703211466473 \t 1.599429965019226\n",
      "31 \t  0.2446364402770996 \t 1.6308852434158325\n",
      "32 \t  0.2102209726969401 \t 1.5835933685302734\n",
      "33 \t  0.19813437461853028 \t 1.6409415006637573\n",
      "34 \t  0.17863252957661946 \t 1.6808161735534668\n",
      "35 \t  0.17114585240681965 \t 1.6894817352294922\n",
      "36 \t  0.16328020095825196 \t 1.7317860126495361\n",
      "37 \t  0.14013582865397137 \t 1.7080490589141846\n",
      "38 \t  0.14748652776082358 \t 1.7725459337234497\n",
      "39 \t  0.13932318687438966 \t 1.811570644378662\n",
      "40 \t  0.1374609152475993 \t 1.7368412017822266\n",
      "41 \t  0.11592410405476888 \t 1.7567232847213745\n",
      "42 \t  0.10348767439524333 \t 1.830804705619812\n",
      "43 \t  0.09242058595021566 \t 1.788719892501831\n",
      "44 \t  0.08643544514973958 \t 1.9184653759002686\n",
      "45 \t  0.0931616465250651 \t 1.8612685203552246\n",
      "46 \t  0.08707168896993002 \t 1.9018478393554688\n",
      "47 \t  0.07420546213785807 \t 1.8635746240615845\n",
      "48 \t  0.07304551601409912 \t 1.8872348070144653\n",
      "49 \t  0.07551954587300619 \t 2.0247156620025635\n",
      "ACCURACY: 0.9683544303797469\n"
     ]
    }
   ],
   "source": [
    "network = EEGNet(interval = \"action\").float().to(device)\n",
    "accuracy_check(network, train_data, train_labels)\n",
    "\n",
    "print(\"####### TRAINING #######\")\n",
    "op = optim.Adam(params = network.parameters(), lr = 0.0001)\n",
    "lossf = nn.NLLLoss()\n",
    "train_model(network, train_data = train_data, train_labels = train_labels, val_data = val_data, val_labels = val_labels, epochs = 50, batch_size = 10, loss_func = lossf, optimizer = op)\n",
    "\n",
    "accuracy_check(network, train_data, train_labels)"
   ]
  },
  {
   "cell_type": "code",
   "execution_count": 22,
   "metadata": {},
   "outputs": [
    {
     "name": "stdout",
     "output_type": "stream",
     "text": [
      "ACCURACY: 0.9683544303797469\n",
      "ACCURACY: 0.3181818181818182\n",
      "ACCURACY: 0.1\n"
     ]
    }
   ],
   "source": [
    "accuracy_check(network, train_data, train_labels)\n",
    "accuracy_check(network, val_data, val_labels)\n",
    "accuracy_check(network, test_data, test_labels)"
   ]
  }
 ],
 "metadata": {
  "interpreter": {
   "hash": "776ed16b974eb4051a720ba098885814801e01a01a8691ffdcc6d2fcef736aab"
  },
  "kernelspec": {
   "display_name": "Python 3.8.6 ('inner_speech': conda)",
   "language": "python",
   "name": "python3"
  },
  "language_info": {
   "codemirror_mode": {
    "name": "ipython",
    "version": 3
   },
   "file_extension": ".py",
   "mimetype": "text/x-python",
   "name": "python",
   "nbconvert_exporter": "python",
   "pygments_lexer": "ipython3",
   "version": "3.8.6"
  },
  "orig_nbformat": 4
 },
 "nbformat": 4,
 "nbformat_minor": 2
}
