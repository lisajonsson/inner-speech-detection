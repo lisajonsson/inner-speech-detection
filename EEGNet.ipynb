{
 "cells": [
  {
   "cell_type": "markdown",
   "metadata": {},
   "source": [
    "# Load data\n",
    "This code loads the data for 1 subject with the help of methods defined in data_handler.ipynb.\n",
    "Also prints distribution of the split just to make sure it's stratified."
   ]
  },
  {
   "cell_type": "code",
   "execution_count": 1,
   "metadata": {},
   "outputs": [
    {
     "name": "stdout",
     "output_type": "stream",
     "text": [
      "[99, 99, 99, 99] \n",
      " [13, 13, 14, 14] \n",
      " [13, 13, 12, 12]\n",
      "25.0 %  25.0 %  25.0 %  25.0 % \n",
      "24.074074074074073 %  24.074074074074073 %  25.925925925925924 %  25.925925925925924 % \n",
      "26.0 %  26.0 %  24.0 %  24.0 % \n"
     ]
    }
   ],
   "source": [
    "import ipynb\n",
    "import torch\n",
    "from ipynb.fs.full.data_handler import load_subject, extract_labels, extract_action_interval, split_data, split_info, to_device\n",
    "from ipynb.fs.full.train_model import train_model, accuracy_check\n",
    "\n",
    "device = torch.device('cuda:0' if torch.cuda.is_available() else 'cpu')\n",
    "\n",
    "data, description = load_subject(1)\n",
    "labels = extract_labels(description)\n",
    "data_interval = extract_action_interval(data)\n",
    "\n",
    "train_data, val_data, test_data, train_labels, val_labels, test_labels = split_data(data_interval, labels)\n",
    "\n",
    "train_data, val_data, test_data, train_labels, val_labels, test_labels = to_device(train_data, val_data, test_data, train_labels, val_labels, test_labels, device)\n",
    "split_info(train_data, val_data, test_data, train_labels, val_labels, test_labels)"
   ]
  },
  {
   "cell_type": "markdown",
   "metadata": {},
   "source": [
    "# EEGNet\n",
    "Implementation of EEGNetfrom (Lawhern et. al.) for the use on \"Thinking out loud\" dataset."
   ]
  },
  {
   "cell_type": "code",
   "execution_count": 2,
   "metadata": {},
   "outputs": [],
   "source": [
    "import torch\n",
    "import torch.nn as nn\n",
    "import torch.optim as optim\n",
    "\n",
    "\n",
    "class EEGNet(nn.Module):\n",
    "    def __init__(self, interval = \"full\", dropout = 0.5):\n",
    "        super(EEGNet, self).__init__()\n",
    "        self.f1 = 16\n",
    "        self.d = 4\n",
    "        self.f2 = self.d*self.f1\n",
    "\n",
    "        # Block 1\n",
    "        self.conv1 = nn.Conv2d(in_channels=1, out_channels = self.f1, kernel_size = (1, 128), padding = 0, bias = False) # 128 = half sampling rate, reduces to 2Hz, 16 is probably F1, the number of filters (output channels)\n",
    "        self.batchnorm1 = nn.BatchNorm2d(self.f1, False)\n",
    "\n",
    "        self.conv2 = nn.Conv2d(in_channels = self.f1, out_channels = self.f1*self.d, kernel_size = (128, 1), padding = 0, bias = False) # row, column] 128 = number of sensors for the depth wise convolution\n",
    "        self.batchnorm2 = nn.BatchNorm2d(self.f1*self.d, False) # Not sure this is the right number of features.\n",
    "        # Elu\n",
    "        self.elu = nn.ELU()\n",
    "        # Dropout\n",
    "        self.dropout = nn.Dropout(dropout)\n",
    "\n",
    "        self.avgPool1 = nn.AvgPool2d((1,4)) # Reduces sampling rate to 64hz\n",
    "\n",
    "        # Block 2\n",
    "\n",
    "        # Separable convolution\n",
    "        self.depthwise = nn.Conv2d(in_channels = self.f1*self.d, out_channels = self.f1*self.d, kernel_size = (1, 32),\n",
    "                        bias=False, groups = self.f1*self.d, padding = (0, 16//2)) # Captures 500ms of data at sampling rate 64Hz (32 Hz is 500ms of that)\n",
    "        self.pointwise = nn.Conv2d(in_channels = self.f1*self.d, out_channels = self.f2, kernel_size = 1) # This results in f2 channels of the output here.\n",
    "        \n",
    "        self.batchnorm3 = nn.BatchNorm2d(self.f2, False)\n",
    "\n",
    "        self.avgPool2 = nn.AvgPool2d((1,8))\n",
    "        \n",
    "        # Fully connected classifier\n",
    "        if interval == \"action\":\n",
    "            self.classifier = nn.Linear(896,4, bias = False)\n",
    "        elif interval == \"full\":\n",
    "            self.classifier = nn.Linear(1920,4, bias = False)\n",
    "        self.softmax = nn.LogSoftmax(dim = 1)\n",
    "\n",
    "\n",
    "    def forward(self, x): # Dropout 0.5 dropout for within-subject and 0.25 for cross-subject\n",
    "        # Block 1\n",
    "        res = self.conv1(x)\n",
    "        res = self.batchnorm1(res)\n",
    "        res = self.conv2(res)\n",
    "        res = torch.renorm(res, p=2, dim=0, maxnorm=1)\n",
    "        res = self.batchnorm2(res)\n",
    "        #res = F.dropout(0.25)\n",
    "        res = self.elu(res)\n",
    "        res = self.avgPool1(res)\n",
    "        res = self.dropout(res)\n",
    "        # Block 2\n",
    "        res = self.depthwise(res)\n",
    "        res = self.pointwise(res)\n",
    "        res = self.batchnorm3(res)\n",
    "        res = self.elu(res)\n",
    "        res = self.avgPool2(res)\n",
    "        res = self.dropout(res)\n",
    "        # Classifier\n",
    "        res = torch.flatten(res, start_dim=1)\n",
    "        res = self.classifier(res)\n",
    "        res = self.softmax(res)\n",
    "        return res\n"
   ]
  },
  {
   "cell_type": "markdown",
   "metadata": {},
   "source": [
    "## Testing code\n",
    "Code for testing the EEGNet implementation"
   ]
  },
  {
   "cell_type": "code",
   "execution_count": 10,
   "metadata": {},
   "outputs": [
    {
     "name": "stdout",
     "output_type": "stream",
     "text": [
      "ACCURACY: 0.25\n",
      "####### TRAINING #######\n",
      "Epoch\t train loss\t validation loss\n",
      "0 \t  1.454275180131961 \t 1.3908432722091675\n",
      "1 \t  1.3340616470728166 \t 1.3912353515625\n",
      "2 \t  1.309732192601913 \t 1.407396912574768\n",
      "3 \t  1.2582181294759114 \t 1.4335039854049683\n",
      "4 \t  1.2327967912722857 \t 1.431328535079956\n",
      "5 \t  1.1810345771985176 \t 1.427665114402771\n",
      "6 \t  1.153683099991236 \t 1.4385358095169067\n",
      "7 \t  1.1194413013947315 \t 1.4403594732284546\n",
      "8 \t  1.0931360293657353 \t 1.4456959962844849\n",
      "9 \t  1.0261296981420271 \t 1.4773015975952148\n",
      "10 \t  1.0099297547951722 \t 1.4729543924331665\n",
      "11 \t  0.9718165275378104 \t 1.502492070198059\n",
      "12 \t  0.932275136311849 \t 1.5240556001663208\n",
      "13 \t  0.8948694864908854 \t 1.552672028541565\n",
      "14 \t  0.8550456120417669 \t 1.5764963626861572\n",
      "15 \t  0.8073525551037911 \t 1.5969221591949463\n",
      "16 \t  0.7763902224027194 \t 1.6556447744369507\n",
      "17 \t  0.7752760862692808 \t 1.6667014360427856\n",
      "18 \t  0.7350969559107071 \t 1.656973123550415\n",
      "19 \t  0.6982845893272986 \t 1.7046852111816406\n",
      "20 \t  0.6313568017421625 \t 1.702425241470337\n",
      "21 \t  0.6130132919702774 \t 1.721182942390442\n",
      "22 \t  0.566507584009415 \t 1.7829670906066895\n",
      "23 \t  0.5460898570525341 \t 1.8306056261062622\n",
      "24 \t  0.5387171720847105 \t 1.86309814453125\n",
      "25 \t  0.5092652149689503 \t 1.8619189262390137\n",
      "26 \t  0.48427082942082333 \t 1.8805633783340454\n",
      "27 \t  0.44864835494603866 \t 1.9334909915924072\n",
      "28 \t  0.4241634760147486 \t 1.9237146377563477\n",
      "29 \t  0.3934521063780173 \t 1.9448875188827515\n",
      "30 \t  0.3519200789622771 \t 1.9782264232635498\n",
      "31 \t  0.3509011879945413 \t 1.984639286994934\n",
      "32 \t  0.32518230340419674 \t 2.038773775100708\n",
      "33 \t  0.3058968812991411 \t 2.0642096996307373\n",
      "34 \t  0.2880069781572391 \t 2.048328161239624\n",
      "35 \t  0.2745443001771585 \t 2.146834373474121\n",
      "36 \t  0.2704029816847581 \t 2.118007183074951\n",
      "37 \t  0.2400500713250576 \t 2.1348516941070557\n",
      "38 \t  0.2206444373497596 \t 2.1916520595550537\n",
      "39 \t  0.19687491196852464 \t 2.1518619060516357\n",
      "40 \t  0.1851367705907577 \t 2.218874216079712\n",
      "41 \t  0.1893636263333834 \t 2.2996811866760254\n",
      "42 \t  0.18744875834538385 \t 2.233943462371826\n",
      "43 \t  0.18184839150844476 \t 2.234057903289795\n",
      "44 \t  0.1839468662555401 \t 2.3168954849243164\n",
      "45 \t  0.17504097865178034 \t 2.3729124069213867\n",
      "46 \t  0.15328451303335336 \t 2.346900463104248\n",
      "47 \t  0.1280056024209047 \t 2.356498956680298\n",
      "48 \t  0.13338381204849634 \t 2.4121639728546143\n",
      "49 \t  0.12227799342228816 \t 2.450059413909912\n",
      "ACCURACY: 0.9848484848484849\n"
     ]
    }
   ],
   "source": [
    "network = EEGNet(interval = \"action\").float().to(device)\n",
    "accuracy_check(network, train_data, train_labels)\n",
    "\n",
    "print(\"####### TRAINING #######\")\n",
    "op = optim.Adam(params = network.parameters(), lr = 0.0001)\n",
    "lossf = nn.NLLLoss()\n",
    "train_model(network, train_data = train_data, train_labels = train_labels, val_data = val_data, val_labels = val_labels, epochs = 50, batch_size = 10, loss_func = lossf, optimizer = op)\n",
    "\n",
    "accuracy_check(network, train_data, train_labels)"
   ]
  },
  {
   "cell_type": "code",
   "execution_count": 11,
   "metadata": {},
   "outputs": [
    {
     "name": "stdout",
     "output_type": "stream",
     "text": [
      "ACCURACY: 0.9848484848484849\n",
      "ACCURACY: 0.3148148148148148\n",
      "ACCURACY: 0.3\n"
     ]
    }
   ],
   "source": [
    "accuracy_check(network, train_data, train_labels)\n",
    "accuracy_check(network, val_data, val_labels)\n",
    "accuracy_check(network, test_data, test_labels)"
   ]
  }
 ],
 "metadata": {
  "interpreter": {
   "hash": "776ed16b974eb4051a720ba098885814801e01a01a8691ffdcc6d2fcef736aab"
  },
  "kernelspec": {
   "display_name": "Python 3.8.6 ('inner_speech': conda)",
   "language": "python",
   "name": "python3"
  },
  "language_info": {
   "codemirror_mode": {
    "name": "ipython",
    "version": 3
   },
   "file_extension": ".py",
   "mimetype": "text/x-python",
   "name": "python",
   "nbconvert_exporter": "python",
   "pygments_lexer": "ipython3",
   "version": "3.8.6"
  },
  "orig_nbformat": 4
 },
 "nbformat": 4,
 "nbformat_minor": 2
}
