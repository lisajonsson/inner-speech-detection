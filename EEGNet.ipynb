{
 "cells": [
  {
   "cell_type": "markdown",
   "metadata": {},
   "source": [
    "# Load data\n",
    "This code loads the data for 1 subject with the help of methods defined in data_handler.ipynb.\n",
    "Also prints distribution of the split just to make sure it's stratified."
   ]
  },
  {
   "cell_type": "code",
   "execution_count": 1,
   "metadata": {},
   "outputs": [
    {
     "name": "stdout",
     "output_type": "stream",
     "text": [
      "[39, 39, 40, 40] \n",
      " [6, 6, 5, 5] \n",
      " [5, 5, 5, 5]\n",
      "24.68354430379747 %  24.68354430379747 %  25.31645569620253 %  25.31645569620253 % \n",
      "27.27272727272727 %  27.27272727272727 %  22.727272727272727 %  22.727272727272727 % \n",
      "25.0 %  25.0 %  25.0 %  25.0 % \n"
     ]
    }
   ],
   "source": [
    "import ipynb\n",
    "import torch\n",
    "from ipynb.fs.full.data_handler import load_subject, load_subject_non_downsampled, extract_labels, extract_action_interval, split_data, split_info, to_device, get_innerspeech\n",
    "from ipynb.fs.full.train_model import train_model, accuracy_check\n",
    "\n",
    "device = torch.device('cuda:0' if torch.cuda.is_available() else 'cpu')\n",
    "\n",
    "data, description = load_subject_non_downsampled(1)\n",
    "data, description = get_innerspeech(data, description)\n",
    "labels = extract_labels(description)\n",
    "#data_interval = extract_action_interval(data, hz = 1024)\n",
    "\n",
    "train_data, val_data, test_data, train_labels, val_labels, test_labels = split_data(data, labels)\n",
    "\n",
    "train_data, val_data, test_data, train_labels, val_labels, test_labels = to_device(train_data, val_data, test_data, train_labels, val_labels, test_labels, device)\n",
    "split_info(train_data, val_data, test_data, train_labels, val_labels, test_labels)"
   ]
  },
  {
   "cell_type": "markdown",
   "metadata": {},
   "source": [
    "# EEGNet\n",
    "Implementation of EEGNetfrom (Lawhern et. al.) for the use on \"Thinking out loud\" dataset."
   ]
  },
  {
   "cell_type": "code",
   "execution_count": 4,
   "metadata": {},
   "outputs": [],
   "source": [
    "import torch\n",
    "import torch.nn as nn\n",
    "import torch.optim as optim\n",
    "\n",
    "\n",
    "class EEGNet(nn.Module):\n",
    "    def __init__(self, hz, interval = \"full\", dropout = 0.5):\n",
    "        super(EEGNet, self).__init__()\n",
    "        self.f1 = 16\n",
    "        self.d = 4\n",
    "        self.f2 = self.d*self.f1\n",
    "\n",
    "        # Block 1\n",
    "        if hz == 254:\n",
    "            self.conv1 = nn.Conv2d(in_channels=1, out_channels = self.f1, kernel_size = (1, 128), padding = 0, bias = False) # 128 = half sampling rate, reduces to 2Hz, 16 is probably F1, the number of filters (output channels)\n",
    "        elif hz == 1024:\n",
    "            self.conv1 = nn.Conv2d(in_channels=1, out_channels = self.f1, kernel_size = (1, 512), padding = 0, bias = False) # 128 = half sampling rate, reduces to 2Hz, 16 is probably F1, the number of filters (output channels)\n",
    "        self.batchnorm1 = nn.BatchNorm2d(self.f1, False)\n",
    "\n",
    "        self.conv2 = nn.Conv2d(in_channels = self.f1, out_channels = self.f1*self.d, kernel_size = (128, 1), padding = 0, bias = False) # row, column] 128 = number of sensors for the depth wise convolution\n",
    "        self.batchnorm2 = nn.BatchNorm2d(self.f1*self.d, False) # Not sure this is the right number of features.\n",
    "        # Elu\n",
    "        self.elu = nn.ELU()\n",
    "        # Dropout\n",
    "        self.dropout = nn.Dropout(dropout)\n",
    "\n",
    "        self.avgPool1 = nn.AvgPool2d((1,4)) # Reduces sampling rate to 64hz\n",
    "\n",
    "        # Block 2\n",
    "\n",
    "        # Separable convolution\n",
    "        if hz == 254:\n",
    "            self.depthwise = nn.Conv2d(in_channels = self.f1*self.d, out_channels = self.f1*self.d, kernel_size = (1, 32),\n",
    "                        bias=False, groups = self.f1*self.d, padding = (0, 16//2)) # Captures 500ms of data at sampling rate 64Hz (32 Hz is 500ms of that)\n",
    "        elif hz == 1024:\n",
    "            self.depthwise = nn.Conv2d(in_channels = self.f1*self.d, out_channels = self.f1*self.d, kernel_size = (1, 128),\n",
    "                        bias=False, groups = self.f1*self.d, padding = (0, 16//2)) # Captures 500ms of data at sampling rate 64Hz (32 Hz is 500ms of that)\n",
    "        self.pointwise = nn.Conv2d(in_channels = self.f1*self.d, out_channels = self.f2, kernel_size = 1) # This results in f2 channels of the output here.\n",
    "        \n",
    "        self.batchnorm3 = nn.BatchNorm2d(self.f2, False)\n",
    "\n",
    "        self.avgPool2 = nn.AvgPool2d((1,8))\n",
    "        \n",
    "        # Fully connected classifier\n",
    "        if interval == \"action\":\n",
    "            if hz == 254:\n",
    "                self.classifier = nn.Linear(896,4, bias = False)\n",
    "            elif hz == 1024:\n",
    "                self.classifier = nn.Linear(3200,4, bias = False)\n",
    "        elif interval == \"full\":\n",
    "            if hz == 254:\n",
    "                self.classifier = nn.Linear(1920,4, bias = False)\n",
    "            elif hz == 1024:\n",
    "                self.classifier = nn.Linear(7296, 4, bias = False)\n",
    "        self.softmax = nn.LogSoftmax(dim = 1)\n",
    "\n",
    "\n",
    "    def forward(self, x): # Dropout 0.5 dropout for within-subject and 0.25 for cross-subject\n",
    "        # Block 1\n",
    "        res = self.conv1(x)\n",
    "        res = self.batchnorm1(res)\n",
    "        res = self.conv2(res)\n",
    "        res = torch.renorm(res, p=2, dim=0, maxnorm=1)\n",
    "        res = self.batchnorm2(res)\n",
    "        #res = F.dropout(0.25)\n",
    "        res = self.elu(res)\n",
    "        res = self.avgPool1(res)\n",
    "        res = self.dropout(res)\n",
    "        # Block 2\n",
    "        res = self.depthwise(res)\n",
    "        res = self.pointwise(res)\n",
    "        res = self.batchnorm3(res)\n",
    "        res = self.elu(res)\n",
    "        res = self.avgPool2(res)\n",
    "        res = self.dropout(res)\n",
    "        # Classifier\n",
    "        res = torch.flatten(res, start_dim=1)\n",
    "        res = self.classifier(res)\n",
    "        res = self.softmax(res)\n",
    "        return res\n"
   ]
  },
  {
   "cell_type": "markdown",
   "metadata": {},
   "source": [
    "## Testing code\n",
    "Code for testing the EEGNet implementation"
   ]
  },
  {
   "cell_type": "code",
   "execution_count": 5,
   "metadata": {},
   "outputs": [
    {
     "name": "stdout",
     "output_type": "stream",
     "text": [
      "ACCURACY: 0.2468354430379747\n",
      "####### TRAINING #######\n",
      "Epoch\t train loss\t validation loss\n",
      "0 \t  1.4979248046875 \t 1.3854141235351562\n",
      "1 \t  1.203192647298177 \t 1.3860247135162354\n",
      "2 \t  1.023139444986979 \t 1.387166976928711\n",
      "3 \t  0.9223775863647461 \t 1.389386534690857\n",
      "4 \t  0.8008235295613607 \t 1.3947343826293945\n",
      "5 \t  0.7182073593139648 \t 1.406744360923767\n",
      "6 \t  0.611872673034668 \t 1.4423842430114746\n",
      "7 \t  0.538532002766927 \t 1.4882687330245972\n",
      "8 \t  0.4843051592508952 \t 1.5046709775924683\n",
      "9 \t  0.4180446624755859 \t 1.506285548210144\n",
      "10 \t  0.378174877166748 \t 1.5722187757492065\n",
      "11 \t  0.31573301951090493 \t 1.5447083711624146\n",
      "12 \t  0.25503455797831215 \t 1.6191210746765137\n",
      "13 \t  0.20807323455810547 \t 1.6635719537734985\n",
      "14 \t  0.19754304885864257 \t 1.6640446186065674\n",
      "15 \t  0.16564200719197592 \t 1.683122992515564\n",
      "16 \t  0.13731668790181478 \t 1.704674482345581\n",
      "17 \t  0.11952701409657797 \t 1.7069644927978516\n",
      "18 \t  0.11170883178710937 \t 1.7412528991699219\n",
      "19 \t  0.0937974770863851 \t 1.771518349647522\n",
      "20 \t  0.08413784503936768 \t 1.7789913415908813\n",
      "21 \t  0.07048736413319906 \t 1.8118418455123901\n",
      "22 \t  0.05891744295756022 \t 1.8484935760498047\n",
      "23 \t  0.05467833280563354 \t 1.8751548528671265\n",
      "24 \t  0.051490283012390135 \t 1.8839679956436157\n",
      "25 \t  0.04556734959284465 \t 1.938970685005188\n",
      "26 \t  0.04039669831593831 \t 1.9466129541397095\n",
      "27 \t  0.035598178704579674 \t 1.9969390630722046\n",
      "28 \t  0.03144148786862691 \t 1.973720669746399\n",
      "29 \t  0.03358646631240845 \t 2.038238286972046\n",
      "30 \t  0.031016445159912108 \t 2.0176591873168945\n",
      "31 \t  0.025959624846776327 \t 2.022097587585449\n",
      "32 \t  0.021763688325881957 \t 2.0508673191070557\n",
      "33 \t  0.02183017134666443 \t 2.0778615474700928\n",
      "34 \t  0.02173666755358378 \t 2.0867669582366943\n",
      "35 \t  0.018983978033065795 \t 2.101785182952881\n",
      "36 \t  0.01720337470372518 \t 2.1337711811065674\n",
      "37 \t  0.018009255329767864 \t 2.1764276027679443\n",
      "38 \t  0.01834163467089335 \t 2.1797430515289307\n",
      "39 \t  0.01607400377591451 \t 2.193697690963745\n",
      "40 \t  0.016023272275924684 \t 2.1888413429260254\n",
      "41 \t  0.014594614505767822 \t 2.186516761779785\n",
      "42 \t  0.01285194456577301 \t 2.197185516357422\n",
      "43 \t  0.01212653915087382 \t 2.213650703430176\n",
      "44 \t  0.01115800142288208 \t 2.205843687057495\n",
      "45 \t  0.010690247019131979 \t 2.238790512084961\n",
      "46 \t  0.010230150818824769 \t 2.250739097595215\n",
      "47 \t  0.011827691396077474 \t 2.3340044021606445\n",
      "48 \t  0.010869145393371582 \t 2.294769048690796\n",
      "49 \t  0.009508498509724935 \t 2.3067786693573\n",
      "ACCURACY: 0.9620253164556962\n"
     ]
    }
   ],
   "source": [
    "network = EEGNet(hz = 1024, interval = \"full\").float().to(device)\n",
    "accuracy_check(network, train_data, train_labels)\n",
    "\n",
    "print(\"####### TRAINING #######\")\n",
    "op = optim.Adam(params = network.parameters(), lr = 0.0001)\n",
    "lossf = nn.NLLLoss()\n",
    "train_model(network, train_data = train_data, train_labels = train_labels, val_data = val_data, val_labels = val_labels, epochs = 50, batch_size = 10, loss_func = lossf, optimizer = op)\n",
    "\n",
    "accuracy_check(network, train_data, train_labels)"
   ]
  },
  {
   "cell_type": "code",
   "execution_count": 6,
   "metadata": {},
   "outputs": [
    {
     "name": "stdout",
     "output_type": "stream",
     "text": [
      "ACCURACY: 0.9620253164556962\n",
      "ACCURACY: 0.3181818181818182\n",
      "ACCURACY: 0.3\n"
     ]
    }
   ],
   "source": [
    "accuracy_check(network, train_data, train_labels)\n",
    "accuracy_check(network, val_data, val_labels)\n",
    "accuracy_check(network, test_data, test_labels)"
   ]
  }
 ],
 "metadata": {
  "interpreter": {
   "hash": "776ed16b974eb4051a720ba098885814801e01a01a8691ffdcc6d2fcef736aab"
  },
  "kernelspec": {
   "display_name": "Python 3.8.6 ('inner_speech': conda)",
   "language": "python",
   "name": "python3"
  },
  "language_info": {
   "codemirror_mode": {
    "name": "ipython",
    "version": 3
   },
   "file_extension": ".py",
   "mimetype": "text/x-python",
   "name": "python",
   "nbconvert_exporter": "python",
   "pygments_lexer": "ipython3",
   "version": "3.8.6"
  },
  "orig_nbformat": 4
 },
 "nbformat": 4,
 "nbformat_minor": 2
}
