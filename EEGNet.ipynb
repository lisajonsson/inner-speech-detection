{
 "cells": [
  {
   "cell_type": "markdown",
   "metadata": {},
   "source": [
    "# Load data\n",
    "This code loads the data for 1 subject with the help of methods defined in data_handler.ipynb.\n",
    "Also prints distribution of the split just to make sure it's stratified."
   ]
  },
  {
   "cell_type": "code",
   "execution_count": 9,
   "metadata": {},
   "outputs": [
    {
     "name": "stdout",
     "output_type": "stream",
     "text": [
      "[39, 39, 40, 40] \n",
      " [6, 6, 5, 5] \n",
      " [5, 5, 5, 5]\n",
      "24.68354430379747 %  24.68354430379747 %  25.31645569620253 %  25.31645569620253 % \n",
      "27.27272727272727 %  27.27272727272727 %  22.727272727272727 %  22.727272727272727 % \n",
      "25.0 %  25.0 %  25.0 %  25.0 % \n"
     ]
    }
   ],
   "source": [
    "# import ipynb\n",
    "# import torch\n",
    "# from ipynb.fs.full.data_handler import load_subject, load_subject_non_downsampled, extract_labels, extract_action_interval, split_data, split_info, to_device, get_innerspeech\n",
    "# from ipynb.fs.full.train_model import train_model, accuracy_check\n",
    "\n",
    "# device = torch.device('cuda:0' if torch.cuda.is_available() else 'cpu')\n",
    "\n",
    "# data, description = load_subject_non_downsampled(1)\n",
    "# data, description = get_innerspeech(data, description)\n",
    "# labels = extract_labels(description)\n",
    "# #data_interval = extract_action_interval(data, hz = 1024)\n",
    "\n",
    "# train_data, val_data, test_data, train_labels, val_labels, test_labels = split_data(data, labels)\n",
    "\n",
    "# train_data, val_data, test_data, train_labels, val_labels, test_labels = to_device(train_data, val_data, test_data, train_labels, val_labels, test_labels, device)\n",
    "# split_info(train_data, val_data, test_data, train_labels, val_labels, test_labels)"
   ]
  },
  {
   "cell_type": "markdown",
   "metadata": {},
   "source": [
    "# EEGNet\n",
    "Implementation of EEGNetfrom (Lawhern et. al.) for the use on \"Thinking out loud\" dataset."
   ]
  },
  {
   "cell_type": "code",
   "execution_count": 10,
   "metadata": {},
   "outputs": [],
   "source": [
    "import torch\n",
    "import torch.nn as nn\n",
    "import torch.optim as optim\n",
    "\n",
    "\n",
    "class EEGNet(nn.Module):\n",
    "    def __init__(self, hz, interval = \"full\", dropout = 0.5):\n",
    "        super(EEGNet, self).__init__()\n",
    "        self.f1 = 16\n",
    "        self.d = 4\n",
    "        self.f2 = self.d*self.f1\n",
    "\n",
    "        # Block 1\n",
    "        if hz == 254:\n",
    "            self.conv1 = nn.Conv2d(in_channels=1, out_channels = self.f1, kernel_size = (1, 128), padding = 0, bias = False) # 128 = half sampling rate, reduces to 2Hz, 16 is probably F1, the number of filters (output channels)\n",
    "        elif hz == 1024:\n",
    "            self.conv1 = nn.Conv2d(in_channels=1, out_channels = self.f1, kernel_size = (1, 512), padding = 0, bias = False) # 128 = half sampling rate, reduces to 2Hz, 16 is probably F1, the number of filters (output channels)\n",
    "        self.batchnorm1 = nn.BatchNorm2d(self.f1, False)\n",
    "\n",
    "        self.conv2 = nn.Conv2d(in_channels = self.f1, out_channels = self.f1*self.d, kernel_size = (128, 1), padding = 0, bias = False) # row, column] 128 = number of sensors for the depth wise convolution\n",
    "        self.batchnorm2 = nn.BatchNorm2d(self.f1*self.d, False) # Not sure this is the right number of features.\n",
    "        # Elu\n",
    "        self.elu = nn.ELU()\n",
    "        # Dropout\n",
    "        self.dropout = nn.Dropout(dropout)\n",
    "\n",
    "        self.avgPool1 = nn.AvgPool2d((1,4)) # Reduces sampling rate to 64hz\n",
    "\n",
    "        # Block 2\n",
    "\n",
    "        # Separable convolution\n",
    "        if hz == 254:\n",
    "            self.depthwise = nn.Conv2d(in_channels = self.f1*self.d, out_channels = self.f1*self.d, kernel_size = (1, 32),\n",
    "                        bias=False, groups = self.f1*self.d, padding = (0, 16//2)) # Captures 500ms of data at sampling rate 64Hz (32 Hz is 500ms of that)\n",
    "        elif hz == 1024:\n",
    "            self.depthwise = nn.Conv2d(in_channels = self.f1*self.d, out_channels = self.f1*self.d, kernel_size = (1, 128),\n",
    "                        bias=False, groups = self.f1*self.d, padding = (0, 16//2)) # Captures 500ms of data at sampling rate 64Hz (32 Hz is 500ms of that)\n",
    "        self.pointwise = nn.Conv2d(in_channels = self.f1*self.d, out_channels = self.f2, kernel_size = 1) # This results in f2 channels of the output here.\n",
    "        \n",
    "        self.batchnorm3 = nn.BatchNorm2d(self.f2, False)\n",
    "\n",
    "        self.avgPool2 = nn.AvgPool2d((1,8))\n",
    "        \n",
    "        # Fully connected classifier\n",
    "        if interval == \"action\":\n",
    "            if hz == 254:\n",
    "                self.classifier = nn.Linear(896,4, bias = False)\n",
    "            elif hz == 1024:\n",
    "                self.classifier = nn.Linear(3200,4, bias = False)\n",
    "        elif interval == \"full\":\n",
    "            if hz == 254:\n",
    "                self.classifier = nn.Linear(1920,4, bias = False)\n",
    "            elif hz == 1024:\n",
    "                self.classifier = nn.Linear(7296, 4, bias = False)\n",
    "        self.softmax = nn.LogSoftmax(dim = 1)\n",
    "\n",
    "\n",
    "    def forward(self, x): # Dropout 0.5 dropout for within-subject and 0.25 for cross-subject\n",
    "        # Block 1\n",
    "        res = self.conv1(x)\n",
    "        res = self.batchnorm1(res)\n",
    "        res = self.conv2(res)\n",
    "        res = torch.renorm(res, p=2, dim=0, maxnorm=1)\n",
    "        res = self.batchnorm2(res)\n",
    "        #res = F.dropout(0.25)\n",
    "        res = self.elu(res)\n",
    "        res = self.avgPool1(res)\n",
    "        res = self.dropout(res)\n",
    "        # Block 2\n",
    "        res = self.depthwise(res)\n",
    "        res = self.pointwise(res)\n",
    "        res = self.batchnorm3(res)\n",
    "        res = self.elu(res)\n",
    "        res = self.avgPool2(res)\n",
    "        res = self.dropout(res)\n",
    "        # Classifier\n",
    "        res = torch.flatten(res, start_dim=1)\n",
    "        res = self.classifier(res)\n",
    "        res = self.softmax(res)\n",
    "        return res\n"
   ]
  },
  {
   "cell_type": "markdown",
   "metadata": {},
   "source": [
    "## Testing code\n",
    "Code for testing the EEGNet implementation"
   ]
  },
  {
   "cell_type": "code",
   "execution_count": 11,
   "metadata": {},
   "outputs": [
    {
     "name": "stdout",
     "output_type": "stream",
     "text": [
      "ACCURACY: 0.25316455696202533\n",
      "####### TRAINING #######\n",
      "Epoch\t train loss\t validation loss\n",
      "0 \t  1.58486328125 \t 1.3851988315582275\n",
      "1 \t  0.865298080444336 \t 1.3842853307724\n",
      "2 \t  0.4274839083353678 \t 1.3834257125854492\n",
      "3 \t  0.22009639739990233 \t 1.3843636512756348\n",
      "4 \t  0.10576892693837484 \t 1.3852678537368774\n",
      "5 \t  0.06087814966837565 \t 1.400058388710022\n",
      "6 \t  0.044483121236165366 \t 1.5141651630401611\n",
      "7 \t  0.026474644740422566 \t 1.991466999053955\n",
      "8 \t  0.023447191715240477 \t 2.6229875087738037\n",
      "9 \t  0.013204115629196166 \t 2.9984922409057617\n",
      "10 \t  0.011361901958783468 \t 3.032562255859375\n",
      "11 \t  0.010320457816123962 \t 2.978961944580078\n",
      "12 \t  0.0081150953968366 \t 3.0477821826934814\n",
      "13 \t  0.007241050899028778 \t 3.027531623840332\n",
      "14 \t  0.008034185568491618 \t 3.033522605895996\n",
      "15 \t  0.004566803574562073 \t 3.0313384532928467\n",
      "16 \t  0.005764121313889822 \t 2.998286247253418\n",
      "17 \t  0.004132305085659027 \t 2.9905965328216553\n",
      "18 \t  0.004120944937070211 \t 3.080930233001709\n",
      "19 \t  0.0028004770477612815 \t 3.131084442138672\n",
      "20 \t  0.0029798006018002827 \t 3.1156225204467773\n",
      "21 \t  0.002518889556328456 \t 3.1223838329315186\n",
      "22 \t  0.0019172139465808869 \t 3.1192574501037598\n",
      "23 \t  0.00219002366065979 \t 3.1577773094177246\n",
      "24 \t  0.0020911820232868195 \t 3.211815118789673\n",
      "25 \t  0.0019713299969832104 \t 3.209125280380249\n",
      "26 \t  0.001614087074995041 \t 3.1970574855804443\n",
      "27 \t  0.001836866388718287 \t 3.174276113510132\n",
      "28 \t  0.0017018004010121027 \t 3.2376067638397217\n",
      "29 \t  0.0014869396885236104 \t 3.227024793624878\n",
      "30 \t  0.0014399554580450057 \t 3.2363739013671875\n",
      "31 \t  0.0012962875266869863 \t 3.2551259994506836\n",
      "32 \t  0.0012682816634575526 \t 3.2949678897857666\n",
      "33 \t  0.0011712495237588883 \t 3.318798065185547\n",
      "34 \t  0.0010465954740842183 \t 3.3037099838256836\n",
      "35 \t  0.0012522004544734955 \t 3.278745412826538\n",
      "36 \t  0.0008535242949922879 \t 3.298661231994629\n",
      "37 \t  0.0009252890944480896 \t 3.3162407875061035\n",
      "38 \t  0.0007222440093755722 \t 3.3099365234375\n",
      "39 \t  0.0007620425894856453 \t 3.3635194301605225\n",
      "40 \t  0.0007398178800940514 \t 3.3745269775390625\n",
      "41 \t  0.0008556850875417392 \t 3.3616857528686523\n",
      "42 \t  0.0005649858464797338 \t 3.352801561355591\n",
      "43 \t  0.0006772328168153762 \t 3.363377332687378\n",
      "44 \t  0.0005539054051041603 \t 3.374189853668213\n",
      "45 \t  0.0005977220833301544 \t 3.38028883934021\n",
      "46 \t  0.0005573287606239318 \t 3.401348352432251\n",
      "47 \t  0.0007192810376485189 \t 3.4224729537963867\n",
      "48 \t  0.0006467321266730627 \t 3.4133641719818115\n",
      "49 \t  0.00047766280670960743 \t 3.3910467624664307\n",
      "ACCURACY: 0.9620253164556962\n"
     ]
    }
   ],
   "source": [
    "# network = EEGNet(hz = 1024, interval = \"full\").float().to(device)\n",
    "# accuracy_check(network, train_data, train_labels)\n",
    "\n",
    "# print(\"####### TRAINING #######\")\n",
    "# op = optim.Adam(params = network.parameters(), lr = 0.001)\n",
    "# lossf = nn.NLLLoss()\n",
    "# train_model(network, train_data = train_data, train_labels = train_labels, val_data = val_data, val_labels = val_labels, epochs = 50, batch_size = 10, loss_func = lossf, optimizer = op)\n",
    "\n",
    "# accuracy_check(network, train_data, train_labels)"
   ]
  },
  {
   "cell_type": "code",
   "execution_count": 13,
   "metadata": {},
   "outputs": [
    {
     "name": "stdout",
     "output_type": "stream",
     "text": [
      "ACCURACY: 0.9620253164556962\n",
      "ACCURACY: 0.18181818181818182\n",
      "ACCURACY: 0.15\n"
     ]
    }
   ],
   "source": [
    "# accuracy_check(network, train_data, train_labels)\n",
    "# accuracy_check(network, val_data, val_labels)\n",
    "# accuracy_check(network, test_data, test_labels)"
   ]
  }
 ],
 "metadata": {
  "interpreter": {
   "hash": "776ed16b974eb4051a720ba098885814801e01a01a8691ffdcc6d2fcef736aab"
  },
  "kernelspec": {
   "display_name": "Python 3.8.6 ('inner_speech': conda)",
   "language": "python",
   "name": "python3"
  },
  "language_info": {
   "codemirror_mode": {
    "name": "ipython",
    "version": 3
   },
   "file_extension": ".py",
   "mimetype": "text/x-python",
   "name": "python",
   "nbconvert_exporter": "python",
   "pygments_lexer": "ipython3",
   "version": "3.8.6"
  },
  "orig_nbformat": 4
 },
 "nbformat": 4,
 "nbformat_minor": 2
}
