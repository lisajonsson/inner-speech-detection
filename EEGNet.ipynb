{
 "cells": [
  {
   "cell_type": "markdown",
   "metadata": {},
   "source": [
    "# Load data\n",
    "This code loads the data for 1 subject with the help of methods defined in data_handler.ipynb.\n",
    "Also prints distribution of the split just to make sure it's stratified."
   ]
  },
  {
   "cell_type": "code",
   "execution_count": 1,
   "metadata": {},
   "outputs": [
    {
     "name": "stdout",
     "output_type": "stream",
     "text": [
      "1024\n",
      "yo\n",
      "[39, 39, 40, 40] \n",
      " [6, 6, 5, 5] \n",
      " [5, 5, 5, 5]\n",
      "24.68354430379747 %  24.68354430379747 %  25.31645569620253 %  25.31645569620253 % \n",
      "27.27272727272727 %  27.27272727272727 %  22.727272727272727 %  22.727272727272727 % \n",
      "25.0 %  25.0 %  25.0 %  25.0 % \n"
     ]
    }
   ],
   "source": [
    "import ipynb\n",
    "import torch\n",
    "from ipynb.fs.full.data_handler import load_subject, load_subject_non_downsampled, extract_labels, extract_action_interval, split_data, split_info, to_device, get_innerspeech\n",
    "from ipynb.fs.full.train_model import train_model, accuracy_check\n",
    "\n",
    "device = torch.device('cuda:0' if torch.cuda.is_available() else 'cpu')\n",
    "\n",
    "data, description = load_subject_non_downsampled(1)\n",
    "data, description = get_innerspeech(data, description)\n",
    "labels = extract_labels(description)\n",
    "data_interval = extract_action_interval(data, hz = 1024)\n",
    "\n",
    "train_data, val_data, test_data, train_labels, val_labels, test_labels = split_data(data_interval, labels)\n",
    "\n",
    "train_data, val_data, test_data, train_labels, val_labels, test_labels = to_device(train_data, val_data, test_data, train_labels, val_labels, test_labels, device)\n",
    "split_info(train_data, val_data, test_data, train_labels, val_labels, test_labels)"
   ]
  },
  {
   "cell_type": "markdown",
   "metadata": {},
   "source": [
    "# EEGNet\n",
    "Implementation of EEGNetfrom (Lawhern et. al.) for the use on \"Thinking out loud\" dataset."
   ]
  },
  {
   "cell_type": "code",
   "execution_count": 4,
   "metadata": {},
   "outputs": [],
   "source": [
    "import torch\n",
    "import torch.nn as nn\n",
    "import torch.optim as optim\n",
    "\n",
    "\n",
    "class EEGNet(nn.Module):\n",
    "    def __init__(self, hz, interval = \"full\", dropout = 0.5):\n",
    "        super(EEGNet, self).__init__()\n",
    "        self.f1 = 16\n",
    "        self.d = 4\n",
    "        self.f2 = self.d*self.f1\n",
    "\n",
    "        # Block 1\n",
    "        self.conv1 = nn.Conv2d(in_channels=1, out_channels = self.f1, kernel_size = (1, 128), padding = 0, bias = False) # 128 = half sampling rate, reduces to 2Hz, 16 is probably F1, the number of filters (output channels)\n",
    "        self.batchnorm1 = nn.BatchNorm2d(self.f1, False)\n",
    "\n",
    "        self.conv2 = nn.Conv2d(in_channels = self.f1, out_channels = self.f1*self.d, kernel_size = (128, 1), padding = 0, bias = False) # row, column] 128 = number of sensors for the depth wise convolution\n",
    "        self.batchnorm2 = nn.BatchNorm2d(self.f1*self.d, False) # Not sure this is the right number of features.\n",
    "        # Elu\n",
    "        self.elu = nn.ELU()\n",
    "        # Dropout\n",
    "        self.dropout = nn.Dropout(dropout)\n",
    "\n",
    "        self.avgPool1 = nn.AvgPool2d((1,4)) # Reduces sampling rate to 64hz\n",
    "\n",
    "        # Block 2\n",
    "\n",
    "        # Separable convolution\n",
    "        self.depthwise = nn.Conv2d(in_channels = self.f1*self.d, out_channels = self.f1*self.d, kernel_size = (1, 32),\n",
    "                        bias=False, groups = self.f1*self.d, padding = (0, 16//2)) # Captures 500ms of data at sampling rate 64Hz (32 Hz is 500ms of that)\n",
    "        self.pointwise = nn.Conv2d(in_channels = self.f1*self.d, out_channels = self.f2, kernel_size = 1) # This results in f2 channels of the output here.\n",
    "        \n",
    "        self.batchnorm3 = nn.BatchNorm2d(self.f2, False)\n",
    "\n",
    "        self.avgPool2 = nn.AvgPool2d((1,8))\n",
    "        \n",
    "        # Fully connected classifier\n",
    "        if interval == \"action\":\n",
    "            if hz == 254:\n",
    "                self.classifier = nn.Linear(896,4, bias = False)\n",
    "            elif hz == 1024:\n",
    "                self.classifier = nn.Linear(4736,4, bias = False)\n",
    "        elif interval == \"full\":\n",
    "            if hz == 254:\n",
    "                self.classifier = nn.Linear(1920,4, bias = False)\n",
    "            elif hz == 1024:\n",
    "                self.classifier = nn.Linear(8832, 4, bias = False)\n",
    "        self.softmax = nn.LogSoftmax(dim = 1)\n",
    "\n",
    "\n",
    "    def forward(self, x): # Dropout 0.5 dropout for within-subject and 0.25 for cross-subject\n",
    "        # Block 1\n",
    "        res = self.conv1(x)\n",
    "        res = self.batchnorm1(res)\n",
    "        res = self.conv2(res)\n",
    "        res = torch.renorm(res, p=2, dim=0, maxnorm=1)\n",
    "        res = self.batchnorm2(res)\n",
    "        #res = F.dropout(0.25)\n",
    "        res = self.elu(res)\n",
    "        res = self.avgPool1(res)\n",
    "        res = self.dropout(res)\n",
    "        # Block 2\n",
    "        res = self.depthwise(res)\n",
    "        res = self.pointwise(res)\n",
    "        res = self.batchnorm3(res)\n",
    "        res = self.elu(res)\n",
    "        res = self.avgPool2(res)\n",
    "        res = self.dropout(res)\n",
    "        # Classifier\n",
    "        res = torch.flatten(res, start_dim=1)\n",
    "        res = self.classifier(res)\n",
    "        res = self.softmax(res)\n",
    "        return res\n"
   ]
  },
  {
   "cell_type": "markdown",
   "metadata": {},
   "source": [
    "## Testing code\n",
    "Code for testing the EEGNet implementation"
   ]
  },
  {
   "cell_type": "code",
   "execution_count": 5,
   "metadata": {},
   "outputs": [
    {
     "name": "stdout",
     "output_type": "stream",
     "text": [
      "ACCURACY: 0.25316455696202533\n",
      "####### TRAINING #######\n",
      "Epoch\t train loss\t validation loss\n",
      "0 \t  1.5213467915852865 \t 1.3896933794021606\n",
      "1 \t  1.2361810048421225 \t 1.3929362297058105\n",
      "2 \t  1.1883989969889324 \t 1.3941725492477417\n",
      "3 \t  1.0163252512613932 \t 1.393800139427185\n",
      "4 \t  1.0060908635457357 \t 1.3930872678756714\n",
      "5 \t  0.9035060246785481 \t 1.391650915145874\n",
      "6 \t  0.8808631261189779 \t 1.3821842670440674\n",
      "7 \t  0.7935773213704427 \t 1.3507463932037354\n",
      "8 \t  0.7113124847412109 \t 1.3240143060684204\n",
      "9 \t  0.6597771962483724 \t 1.276682734489441\n",
      "10 \t  0.6008935928344726 \t 1.277762770652771\n",
      "11 \t  0.5700113932291667 \t 1.3094937801361084\n",
      "12 \t  0.5287777582804362 \t 1.3027291297912598\n",
      "13 \t  0.4561431566874186 \t 1.3192694187164307\n",
      "14 \t  0.41896645228068036 \t 1.3259711265563965\n",
      "15 \t  0.3710137367248535 \t 1.3339167833328247\n",
      "16 \t  0.32483587265014646 \t 1.3592990636825562\n",
      "17 \t  0.3190416971842448 \t 1.3632556200027466\n",
      "18 \t  0.26601128578186034 \t 1.36430823802948\n",
      "19 \t  0.2714275360107422 \t 1.3952056169509888\n",
      "20 \t  0.2334887981414795 \t 1.406716227531433\n",
      "21 \t  0.2040024757385254 \t 1.4053717851638794\n",
      "22 \t  0.17798242568969727 \t 1.4079033136367798\n",
      "23 \t  0.1841580073038737 \t 1.403681755065918\n",
      "24 \t  0.15582027435302734 \t 1.4480772018432617\n",
      "25 \t  0.13936050732930502 \t 1.4576548337936401\n",
      "26 \t  0.12914786338806153 \t 1.5047810077667236\n",
      "27 \t  0.11575704415639242 \t 1.469332218170166\n",
      "28 \t  0.10071313381195068 \t 1.4825444221496582\n",
      "29 \t  0.0902952750523885 \t 1.4878909587860107\n",
      "30 \t  0.08687384923299153 \t 1.4784404039382935\n",
      "31 \t  0.0821536382039388 \t 1.5205539464950562\n",
      "32 \t  0.07543200651804606 \t 1.526064395904541\n",
      "33 \t  0.06805935700734457 \t 1.5515904426574707\n",
      "34 \t  0.06326102415720622 \t 1.5847500562667847\n",
      "35 \t  0.06098942756652832 \t 1.5824501514434814\n",
      "36 \t  0.06152493556340535 \t 1.6253875494003296\n",
      "37 \t  0.05199378331502279 \t 1.6486446857452393\n",
      "38 \t  0.04716936747233073 \t 1.6686153411865234\n",
      "39 \t  0.04809462626775106 \t 1.6264114379882812\n",
      "40 \t  0.047184356053670246 \t 1.6737087965011597\n",
      "41 \t  0.04432994524637858 \t 1.6538269519805908\n",
      "42 \t  0.04039326508839925 \t 1.6807990074157715\n",
      "43 \t  0.041180312633514404 \t 1.7048503160476685\n",
      "44 \t  0.03793402115503947 \t 1.689534306526184\n",
      "45 \t  0.03390244642893473 \t 1.6746519804000854\n",
      "46 \t  0.03209699193636576 \t 1.7605398893356323\n",
      "47 \t  0.030667916933695475 \t 1.7415294647216797\n",
      "48 \t  0.02399090528488159 \t 1.7728039026260376\n",
      "49 \t  0.025386641422907513 \t 1.7701969146728516\n",
      "ACCURACY: 0.9556962025316456\n"
     ]
    }
   ],
   "source": [
    "network = EEGNet(hz = 1024, interval = \"action\").float().to(device)\n",
    "accuracy_check(network, train_data, train_labels)\n",
    "\n",
    "print(\"####### TRAINING #######\")\n",
    "op = optim.Adam(params = network.parameters(), lr = 0.0001)\n",
    "lossf = nn.NLLLoss()\n",
    "train_model(network, train_data = train_data, train_labels = train_labels, val_data = val_data, val_labels = val_labels, epochs = 50, batch_size = 10, loss_func = lossf, optimizer = op)\n",
    "\n",
    "accuracy_check(network, train_data, train_labels)"
   ]
  },
  {
   "cell_type": "code",
   "execution_count": 7,
   "metadata": {},
   "outputs": [
    {
     "name": "stdout",
     "output_type": "stream",
     "text": [
      "ACCURACY: 0.9556962025316456\n",
      "ACCURACY: 0.36363636363636365\n",
      "ACCURACY: 0.25\n"
     ]
    }
   ],
   "source": [
    "accuracy_check(network, train_data, train_labels)\n",
    "accuracy_check(network, val_data, val_labels)\n",
    "accuracy_check(network, test_data, test_labels)"
   ]
  }
 ],
 "metadata": {
  "interpreter": {
   "hash": "776ed16b974eb4051a720ba098885814801e01a01a8691ffdcc6d2fcef736aab"
  },
  "kernelspec": {
   "display_name": "Python 3.8.6 ('inner_speech': conda)",
   "language": "python",
   "name": "python3"
  },
  "language_info": {
   "codemirror_mode": {
    "name": "ipython",
    "version": 3
   },
   "file_extension": ".py",
   "mimetype": "text/x-python",
   "name": "python",
   "nbconvert_exporter": "python",
   "pygments_lexer": "ipython3",
   "version": "3.8.6"
  },
  "orig_nbformat": 4
 },
 "nbformat": 4,
 "nbformat_minor": 2
}
