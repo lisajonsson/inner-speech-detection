{
 "cells": [
  {
   "cell_type": "markdown",
   "metadata": {},
   "source": [
    "# Load data\n",
    "This code loads the data for 1 subject with the help of methods defined in data_handler.ipynb.\n",
    "Also prints distribution of the split just to make sure it's stratified."
   ]
  },
  {
   "cell_type": "code",
   "execution_count": 24,
   "metadata": {},
   "outputs": [
    {
     "name": "stdout",
     "output_type": "stream",
     "text": [
      "[39, 39, 40, 40] \n",
      " [6, 6, 5, 5] \n",
      " [5, 5, 5, 5]\n",
      "24.68354430379747 %  24.68354430379747 %  25.31645569620253 %  25.31645569620253 % \n",
      "27.27272727272727 %  27.27272727272727 %  22.727272727272727 %  22.727272727272727 % \n",
      "25.0 %  25.0 %  25.0 %  25.0 % \n"
     ]
    }
   ],
   "source": [
    "import ipynb\n",
    "import torch\n",
    "from ipynb.fs.full.data_handler import load_subject, extract_labels, extract_action_interval, split_data, split_info, to_device, get_innerspeech\n",
    "from ipynb.fs.full.train_model import train_model, accuracy_check\n",
    "\n",
    "device = torch.device('cuda:0' if torch.cuda.is_available() else 'cpu')\n",
    "\n",
    "data, description = load_subject(1)\n",
    "data, description = get_innerspeech(data, description)\n",
    "labels = extract_labels(description)\n",
    "#data_interval = extract_action_interval(data)\n",
    "\n",
    "train_data, val_data, test_data, train_labels, val_labels, test_labels = split_data(data, labels)\n",
    "\n",
    "train_data, val_data, test_data, train_labels, val_labels, test_labels = to_device(train_data, val_data, test_data, train_labels, val_labels, test_labels, device)\n",
    "split_info(train_data, val_data, test_data, train_labels, val_labels, test_labels)"
   ]
  },
  {
   "cell_type": "markdown",
   "metadata": {},
   "source": [
    "# EEGNet\n",
    "Implementation of EEGNetfrom (Lawhern et. al.) for the use on \"Thinking out loud\" dataset."
   ]
  },
  {
   "cell_type": "code",
   "execution_count": 25,
   "metadata": {},
   "outputs": [],
   "source": [
    "import torch\n",
    "import torch.nn as nn\n",
    "import torch.optim as optim\n",
    "\n",
    "\n",
    "class EEGNet(nn.Module):\n",
    "    def __init__(self, interval = \"full\", dropout = 0.5):\n",
    "        super(EEGNet, self).__init__()\n",
    "        self.f1 = 16\n",
    "        self.d = 4\n",
    "        self.f2 = self.d*self.f1\n",
    "\n",
    "        # Block 1\n",
    "        self.conv1 = nn.Conv2d(in_channels=1, out_channels = self.f1, kernel_size = (1, 128), padding = 0, bias = False) # 128 = half sampling rate, reduces to 2Hz, 16 is probably F1, the number of filters (output channels)\n",
    "        self.batchnorm1 = nn.BatchNorm2d(self.f1, False)\n",
    "\n",
    "        self.conv2 = nn.Conv2d(in_channels = self.f1, out_channels = self.f1*self.d, kernel_size = (128, 1), padding = 0, bias = False) # row, column] 128 = number of sensors for the depth wise convolution\n",
    "        self.batchnorm2 = nn.BatchNorm2d(self.f1*self.d, False) # Not sure this is the right number of features.\n",
    "        # Elu\n",
    "        self.elu = nn.ELU()\n",
    "        # Dropout\n",
    "        self.dropout = nn.Dropout(dropout)\n",
    "\n",
    "        self.avgPool1 = nn.AvgPool2d((1,4)) # Reduces sampling rate to 64hz\n",
    "\n",
    "        # Block 2\n",
    "\n",
    "        # Separable convolution\n",
    "        self.depthwise = nn.Conv2d(in_channels = self.f1*self.d, out_channels = self.f1*self.d, kernel_size = (1, 32),\n",
    "                        bias=False, groups = self.f1*self.d, padding = (0, 16//2)) # Captures 500ms of data at sampling rate 64Hz (32 Hz is 500ms of that)\n",
    "        self.pointwise = nn.Conv2d(in_channels = self.f1*self.d, out_channels = self.f2, kernel_size = 1) # This results in f2 channels of the output here.\n",
    "        \n",
    "        self.batchnorm3 = nn.BatchNorm2d(self.f2, False)\n",
    "\n",
    "        self.avgPool2 = nn.AvgPool2d((1,8))\n",
    "        \n",
    "        # Fully connected classifier\n",
    "        if interval == \"action\":\n",
    "            self.classifier = nn.Linear(896,4, bias = False)\n",
    "        elif interval == \"full\":\n",
    "            self.classifier = nn.Linear(1920,4, bias = False)\n",
    "        self.softmax = nn.LogSoftmax(dim = 1)\n",
    "\n",
    "\n",
    "    def forward(self, x): # Dropout 0.5 dropout for within-subject and 0.25 for cross-subject\n",
    "        # Block 1\n",
    "        res = self.conv1(x)\n",
    "        res = self.batchnorm1(res)\n",
    "        res = self.conv2(res)\n",
    "        res = torch.renorm(res, p=2, dim=0, maxnorm=1)\n",
    "        res = self.batchnorm2(res)\n",
    "        #res = F.dropout(0.25)\n",
    "        res = self.elu(res)\n",
    "        res = self.avgPool1(res)\n",
    "        res = self.dropout(res)\n",
    "        # Block 2\n",
    "        res = self.depthwise(res)\n",
    "        res = self.pointwise(res)\n",
    "        res = self.batchnorm3(res)\n",
    "        res = self.elu(res)\n",
    "        res = self.avgPool2(res)\n",
    "        res = self.dropout(res)\n",
    "        # Classifier\n",
    "        res = torch.flatten(res, start_dim=1)\n",
    "        res = self.classifier(res)\n",
    "        res = self.softmax(res)\n",
    "        return res\n"
   ]
  },
  {
   "cell_type": "markdown",
   "metadata": {},
   "source": [
    "## Testing code\n",
    "Code for testing the EEGNet implementation"
   ]
  },
  {
   "cell_type": "code",
   "execution_count": 26,
   "metadata": {},
   "outputs": [
    {
     "name": "stdout",
     "output_type": "stream",
     "text": [
      "ACCURACY: 0.2468354430379747\n",
      "####### TRAINING #######\n",
      "Epoch\t train loss\t validation loss\n",
      "0 \t  1.44306271870931 \t 1.3870223760604858\n",
      "1 \t  1.296536636352539 \t 1.3874619007110596\n",
      "2 \t  1.2237531026204427 \t 1.3880420923233032\n",
      "3 \t  1.1862232208251953 \t 1.3893556594848633\n",
      "4 \t  1.099804433186849 \t 1.3935351371765137\n",
      "5 \t  1.0627496719360352 \t 1.4082878828048706\n",
      "6 \t  1.0112250645955403 \t 1.4567588567733765\n",
      "7 \t  0.9774152119954427 \t 1.5460773706436157\n",
      "8 \t  0.9034236907958985 \t 1.5744907855987549\n",
      "9 \t  0.8308194478352865 \t 1.5913726091384888\n",
      "10 \t  0.8049777348836263 \t 1.6063998937606812\n",
      "11 \t  0.7355347951253255 \t 1.598737359046936\n",
      "12 \t  0.7172224680582683 \t 1.6007953882217407\n",
      "13 \t  0.6638588587443034 \t 1.5988967418670654\n",
      "14 \t  0.6114103317260742 \t 1.6298378705978394\n",
      "15 \t  0.5432328542073568 \t 1.6007555723190308\n",
      "16 \t  0.5073741912841797 \t 1.5796517133712769\n",
      "17 \t  0.4546563784281413 \t 1.6207469701766968\n",
      "18 \t  0.4339114824930827 \t 1.6759943962097168\n",
      "19 \t  0.38131853739420574 \t 1.7006396055221558\n",
      "20 \t  0.3622798283894857 \t 1.671207308769226\n",
      "21 \t  0.3251879374186198 \t 1.7188465595245361\n",
      "22 \t  0.3011770248413086 \t 1.7314108610153198\n",
      "23 \t  0.26483360926310223 \t 1.6523288488388062\n",
      "24 \t  0.24151484171549478 \t 1.707566499710083\n",
      "25 \t  0.24583810170491535 \t 1.7396907806396484\n",
      "26 \t  0.1995733420054118 \t 1.727915644645691\n",
      "27 \t  0.19501617749532063 \t 1.7424362897872925\n",
      "28 \t  0.17583012580871582 \t 1.7184581756591797\n",
      "29 \t  0.16749842961629233 \t 1.7888544797897339\n",
      "30 \t  0.1441472371419271 \t 1.7706154584884644\n",
      "31 \t  0.13854309717814128 \t 1.8082038164138794\n",
      "32 \t  0.12872707843780518 \t 1.8384028673171997\n",
      "33 \t  0.11103409131368001 \t 1.8395217657089233\n",
      "34 \t  0.10996966361999512 \t 1.8766632080078125\n",
      "35 \t  0.08720829486846923 \t 1.7969497442245483\n",
      "36 \t  0.09221271673838298 \t 1.912137508392334\n",
      "37 \t  0.09253729184468587 \t 1.7978962659835815\n",
      "38 \t  0.08469146887461344 \t 1.8405650854110718\n",
      "39 \t  0.06580946445465088 \t 1.8535748720169067\n",
      "40 \t  0.06640224059422811 \t 1.8221435546875\n",
      "41 \t  0.0669008175532023 \t 1.8717273473739624\n",
      "42 \t  0.0657877246538798 \t 1.8083230257034302\n",
      "43 \t  0.057199307282765705 \t 1.8901488780975342\n",
      "44 \t  0.05454189380009969 \t 1.8594634532928467\n",
      "45 \t  0.05719858010609945 \t 1.8822814226150513\n",
      "46 \t  0.048082904020945234 \t 1.9141583442687988\n",
      "47 \t  0.057483156522115074 \t 1.9565284252166748\n",
      "48 \t  0.044291730721791586 \t 1.8849788904190063\n",
      "49 \t  0.04506782293319702 \t 1.923228144645691\n",
      "ACCURACY: 0.9683544303797469\n"
     ]
    }
   ],
   "source": [
    "network = EEGNet(interval = \"full\").float().to(device)\n",
    "accuracy_check(network, train_data, train_labels)\n",
    "\n",
    "print(\"####### TRAINING #######\")\n",
    "op = optim.Adam(params = network.parameters(), lr = 0.0001)\n",
    "lossf = nn.NLLLoss()\n",
    "train_model(network, train_data = train_data, train_labels = train_labels, val_data = val_data, val_labels = val_labels, epochs = 50, batch_size = 10, loss_func = lossf, optimizer = op)\n",
    "\n",
    "accuracy_check(network, train_data, train_labels)"
   ]
  },
  {
   "cell_type": "code",
   "execution_count": 27,
   "metadata": {},
   "outputs": [
    {
     "name": "stdout",
     "output_type": "stream",
     "text": [
      "ACCURACY: 0.9683544303797469\n",
      "ACCURACY: 0.36363636363636365\n",
      "ACCURACY: 0.25\n"
     ]
    }
   ],
   "source": [
    "accuracy_check(network, train_data, train_labels)\n",
    "accuracy_check(network, val_data, val_labels)\n",
    "accuracy_check(network, test_data, test_labels)"
   ]
  }
 ],
 "metadata": {
  "interpreter": {
   "hash": "776ed16b974eb4051a720ba098885814801e01a01a8691ffdcc6d2fcef736aab"
  },
  "kernelspec": {
   "display_name": "Python 3.8.6 ('inner_speech': conda)",
   "language": "python",
   "name": "python3"
  },
  "language_info": {
   "codemirror_mode": {
    "name": "ipython",
    "version": 3
   },
   "file_extension": ".py",
   "mimetype": "text/x-python",
   "name": "python",
   "nbconvert_exporter": "python",
   "pygments_lexer": "ipython3",
   "version": "3.8.6"
  },
  "orig_nbformat": 4
 },
 "nbformat": 4,
 "nbformat_minor": 2
}
