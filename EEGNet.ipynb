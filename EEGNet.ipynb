{
 "cells": [
  {
   "cell_type": "markdown",
   "metadata": {},
   "source": [
    "# Load data\n",
    "This code loads the data for 1 subject with the help of methods defined in data_handler.ipynb.\n",
    "Also prints distribution of the split just to make sure it's stratified."
   ]
  },
  {
   "cell_type": "code",
   "execution_count": 2,
   "metadata": {},
   "outputs": [
    {
     "name": "stdout",
     "output_type": "stream",
     "text": [
      "[99, 99, 99, 99] \n",
      " [13, 13, 14, 14] \n",
      " [13, 13, 12, 12]\n",
      "25.0 %  25.0 %  25.0 %  25.0 % \n",
      "24.074074074074073 %  24.074074074074073 %  25.925925925925924 %  25.925925925925924 % \n",
      "26.0 %  26.0 %  24.0 %  24.0 % \n"
     ]
    }
   ],
   "source": [
    "import ipynb\n",
    "from ipynb.fs.full.data_handler import load_subject, extract_labels, extract_action_interval, split_data, split_info\n",
    "\n",
    "\n",
    "data, description = load_subject(1)\n",
    "labels = extract_labels(description)\n",
    "train_data, val_data, test_data, train_labels, val_labels, test_labels = split_data(data, labels)\n",
    "split_info(train_data, val_data, test_data, train_labels, val_labels, test_labels)"
   ]
  },
  {
   "cell_type": "markdown",
   "metadata": {},
   "source": [
    "# EEGNet\n",
    "Implementation of EEGNetfrom (Lawhern et. al.) for the use on \"Thinking out loud\" dataset."
   ]
  },
  {
   "cell_type": "code",
   "execution_count": 2,
   "metadata": {},
   "outputs": [],
   "source": [
    "import torch\n",
    "import torch.nn as nn\n",
    "import torch.nn.functional as F\n",
    "import torch.optim as optim\n",
    "import time\n",
    "import os\n",
    "import copy\n",
    "\n",
    "class EEGNet(nn.Module):\n",
    "    def __init__(self):\n",
    "        super(EEGNet, self).__init__()\n",
    "        self.f1 = 16\n",
    "        self.d = 4\n",
    "        self.f2 = self.d*self.f1\n",
    "\n",
    "        # Block 1\n",
    "        self.conv1 = nn.Conv2d(in_channels=1, out_channels = self.f1, kernel_size = (1, 128), padding = 0, bias = False) # 128 = half sampling rate, reduces to 2Hz, 16 is probably F1, the number of filters (output channels)\n",
    "        self.batchnorm1 = nn.BatchNorm2d(self.f1, False)\n",
    "\n",
    "        self.conv2 = nn.Conv2d(in_channels = self.f1, out_channels = self.f1*self.d, kernel_size = (128, 1), padding = 0, bias = False) # row, column] 128 = number of sensors for the depth wise convolution\n",
    "        self.batchnorm2 = nn.BatchNorm2d(self.f1*self.d, False) # Not sure this is the right number of features.\n",
    "        self.elu = nn.ELU()\n",
    "        self.avgPool1 = nn.AvgPool2d((1,4)) # Reduces sampling rate to 64hz\n",
    "\n",
    "        # Block 2\n",
    "\n",
    "        # Separable convolution\n",
    "        self.depthwise = nn.Conv2d(in_channels = self.f1*self.d, out_channels = self.f1*self.d, kernel_size = (1, 32),\n",
    "                        bias=False, groups = self.f1*self.d, padding = (0, 16//2)) # Captures 500ms of data at sampling rate 64Hz (32 Hz is 500ms of that)\n",
    "        self.pointwise = nn.Conv2d(in_channels = self.f1*self.d, out_channels = self.f2, kernel_size = 1) # This results in f2 channels of the output here.\n",
    "        \n",
    "        self.batchnorm3 = nn.BatchNorm2d(self.f2, False)\n",
    "\n",
    "        self.avgPool2 = nn.AvgPool2d((1,8))\n",
    "        \n",
    "        # Fully connected classifier\n",
    "        self.classifier = nn.Linear(1920,4, bias = False)\n",
    "        self.softmax = nn.Softmax()\n",
    "\n",
    "\n",
    "    def forward(self, x, dropout = 0.5): # Dropout 0.5 dropout for within-subject and 0.25 for cross-subject\n",
    "        # Block 1\n",
    "        res = self.conv1(x)\n",
    "        res = self.batchnorm1(res)\n",
    "        res = self.conv2(res)\n",
    "        res = torch.renorm(res, p=2, dim=0, maxnorm=1)\n",
    "        res = self.batchnorm2(res)\n",
    "        #res = F.dropout(0.25)\n",
    "        res = self.elu(res)\n",
    "        res = self.avgPool1(res)\n",
    "        res = F.dropout(res, dropout)\n",
    "        # Block 2\n",
    "        res = self.depthwise(res)\n",
    "        res = self.pointwise(res)\n",
    "        res = self.batchnorm3(res)\n",
    "        res = self.elu(res)\n",
    "        res = self.avgPool2(res)\n",
    "        res = F.dropout(res, dropout)\n",
    "        # Classifier\n",
    "        res = torch.flatten(res, start_dim=1)\n",
    "        res = self.classifier(res)\n",
    "        res = self.softmax(res)\n",
    "        return res\n",
    "\n",
    "    def train_model(self, train_data, train_labels, val_data, val_labels, epochs, batch_size, loss_func, optimizer):\n",
    "        print(\"Epoch\\t train loss\\t validation loss\")\n",
    "        best_model = copy.deepcopy(self.state_dict())\n",
    "        best_loss = 10000 # bad value for dis, validation loss comparison\n",
    "\n",
    "        for epoch in range(epochs):        \n",
    "            epoch_train_loss = 0\n",
    "            epoch_val_loss = 0\n",
    "            self.train() # Set model to train mode\n",
    "            \n",
    "            for i in range(len(train_data)//batch_size): # BATCH SIZE MUST BE EVEN DIVIDER OF DATA LEN, otherwise we miss stuff here\n",
    "                start = i*batch_size\n",
    "                end = (i+1)*batch_size\n",
    "\n",
    "                train_inputs = torch.FloatTensor(train_data[start:end])\n",
    "                train_truth = torch.LongTensor(train_labels[start:end])\n",
    "                train_outputs = self(train_inputs)\n",
    "\n",
    "                loss = loss_func(train_outputs, train_truth)\n",
    "                \n",
    "                #print(\"LOSS: \", loss)\n",
    "                epoch_train_loss += loss\n",
    "                loss.backward()\n",
    "                optimizer.step()\n",
    "                optimizer.zero_grad()\n",
    "            \n",
    "\n",
    "            self.eval() # Set model to evaluation mode\n",
    "\n",
    "            val_inputs = torch.FloatTensor(val_data)\n",
    "            val_truth = torch.LongTensor(val_labels)\n",
    "            val_outputs = self(val_inputs)\n",
    "            val_loss = loss_func(val_outputs, val_truth)\n",
    "            epoch_val_loss += val_loss\n",
    "\n",
    "            # Check for new best model, this should be on val_data instead\n",
    "            if epoch_val_loss < best_loss:\n",
    "                best_model = copy.deepcopy(self.state_dict())\n",
    "\n",
    "            print(epoch, \"\\t \", epoch_train_loss.item(), \"\\t\", epoch_val_loss.item())\n",
    "\n",
    "        self.load_state_dict(best_model) # Set model to best performing one.\n",
    "                \n",
    "\n",
    "\n",
    "\n",
    "# TODO: Run on cuda.\n",
    "# TODO: Add validation data and labels to train_model method params\n",
    "# TODO: Implement early stopping.\n",
    "# TODO: Graphing of train and val loss."
   ]
  },
  {
   "cell_type": "markdown",
   "metadata": {},
   "source": [
    "## Testing code\n",
    "Code for testing the EEGNet implementation"
   ]
  },
  {
   "cell_type": "code",
   "execution_count": 3,
   "metadata": {},
   "outputs": [],
   "source": [
    "train_data = torch.tensor(train_data)\n",
    "train_data = torch.unsqueeze(train_data,1).float()\n",
    "train_labels = torch.tensor(train_labels).long()\n",
    "\n",
    "val_data = torch.tensor(val_data)\n",
    "val_data = torch.unsqueeze(val_data,1).float()\n",
    "val_labels = torch.tensor(val_labels).long()\n",
    "\n",
    "test_data = torch.tensor(test_data)\n",
    "test_data = torch.unsqueeze(test_data,1).float()\n",
    "test_labels = torch.tensor(test_labels).long()\n",
    "\n",
    "\n",
    "# Uncomment this if running on only 1 trial\n",
    "#train_data = torch.unsqueeze(torch.unsqueeze(d,0),0).float() # Unsqueeze adds a wrapper dimension of 1s\n"
   ]
  },
  {
   "cell_type": "code",
   "execution_count": 4,
   "metadata": {},
   "outputs": [
    {
     "name": "stderr",
     "output_type": "stream",
     "text": [
      "/tmp/ipykernel_64742/4033856455.py:62: UserWarning: Implicit dimension choice for softmax has been deprecated. Change the call to include dim=X as an argument.\n",
      "  res = self.softmax(res)\n"
     ]
    },
    {
     "name": "stdout",
     "output_type": "stream",
     "text": [
      "ACCURACY: 0.17666666666666667\n",
      "####### TRAINING #######\n",
      "Epoch\t train loss\t validation loss\n",
      "0 \t  -7.370763301849365 \t -0.2506704032421112\n",
      "1 \t  -8.479423522949219 \t -0.2495395541191101\n",
      "2 \t  -9.203104972839355 \t -0.250101774930954\n",
      "3 \t  -9.738449096679688 \t -0.25820720195770264\n",
      "4 \t  -10.52703857421875 \t -0.24233919382095337\n",
      "ACCURACY: 0.5666666666666667\n"
     ]
    }
   ],
   "source": [
    "# Dumb checking of initial weights\n",
    "def accuracy_check(data, labels):\n",
    "    r = network.forward(data)\n",
    "    p = torch.max(r,1)[1]\n",
    "    correct = 0.0\n",
    "    for i in range(len(p)):\n",
    "        if p[i] == labels[i]:\n",
    "            correct += 1\n",
    "    print(\"ACCURACY:\", correct/len(p))\n",
    "\n",
    "\n",
    "network = EEGNet().float()\n",
    "accuracy_check(train_data, train_labels)\n",
    "\n",
    "print(\"####### TRAINING #######\")\n",
    "op = optim.Adam(params = network.parameters(), lr = 0.0001)\n",
    "lossf = nn.NLLLoss()\n",
    "network.train_model(train_data = train_data, train_labels = train_labels, val_data = val_data, val_labels = val_labels, epochs = 5, batch_size = 10, loss_func = lossf, optimizer = op)\n",
    "\n",
    "accuracy_check(train_data, train_labels)"
   ]
  },
  {
   "cell_type": "code",
   "execution_count": 5,
   "metadata": {},
   "outputs": [
    {
     "name": "stderr",
     "output_type": "stream",
     "text": [
      "/tmp/ipykernel_64742/4033856455.py:62: UserWarning: Implicit dimension choice for softmax has been deprecated. Change the call to include dim=X as an argument.\n",
      "  res = self.softmax(res)\n"
     ]
    },
    {
     "name": "stdout",
     "output_type": "stream",
     "text": [
      "ACCURACY: 0.55\n",
      "ACCURACY: 0.27\n",
      "ACCURACY: 0.24\n"
     ]
    }
   ],
   "source": [
    "accuracy_check(train_data, train_labels)\n",
    "accuracy_check(val_data, val_labels)\n",
    "accuracy_check(test_data, test_labels)"
   ]
  },
  {
   "cell_type": "code",
   "execution_count": 22,
   "metadata": {},
   "outputs": [
    {
     "name": "stdout",
     "output_type": "stream",
     "text": [
      "[1 3 3 1 1 1 1 1 2 2 3 2 2 1 2 0 0 1 0 0 3 1 2 3 3 2 2 2 2 0 2 2 3 0 3 2 0\n",
      " 0 0 1 1 0 3 3 3 0 1 0 0 3 3 1 2 3]\n",
      "[99, 99, 99, 99] \n",
      " [13, 13, 14, 14] \n",
      " [13, 13, 12, 12]\n",
      "25.0 %  25.0 %  25.0 %  25.0 % \n",
      "24.074074074074073 %  24.074074074074073 %  25.925925925925924 %  25.925925925925924 % \n",
      "26.0 %  26.0 %  24.0 %  24.0 % \n"
     ]
    }
   ],
   "source": [
    "print(val_labels)\n",
    "\n",
    "t = [0,0,0,0]\n",
    "v = [0,0,0,0]\n",
    "te = [0,0,0,0]\n",
    "\n",
    "for l in train_labels:\n",
    "    t[l] +=1\n",
    "\n",
    "for l in val_labels:\n",
    "    v[l] +=1\n",
    "\n",
    "for l in test_labels:\n",
    "    te[l] +=1\n",
    "\n",
    "print(t,\"\\n\", v, \"\\n\", te)\n",
    "\n",
    "print(t[0]/len(train_data)*100, \"% \", t[1]/len(train_data)*100, \"% \",t[2]/len(train_data)*100, \"% \",t[3]/len(train_data)*100, \"% \")\n",
    "print(v[0]/len(val_data)*100, \"% \", v[1]/len(val_data)*100, \"% \",v[2]/len(val_data)*100, \"% \",v[3]/len(val_data)*100, \"% \")\n",
    "print(te[0]/len(test_data)*100, \"% \", te[1]/len(test_data)*100, \"% \",te[2]/len(test_data)*100, \"% \",te[3]/len(test_data)*100, \"% \")"
   ]
  }
 ],
 "metadata": {
  "interpreter": {
   "hash": "776ed16b974eb4051a720ba098885814801e01a01a8691ffdcc6d2fcef736aab"
  },
  "kernelspec": {
   "display_name": "Python 3.8.6 ('inner_speech': conda)",
   "language": "python",
   "name": "python3"
  },
  "language_info": {
   "codemirror_mode": {
    "name": "ipython",
    "version": 3
   },
   "file_extension": ".py",
   "mimetype": "text/x-python",
   "name": "python",
   "nbconvert_exporter": "python",
   "pygments_lexer": "ipython3",
   "version": "3.8.6"
  },
  "orig_nbformat": 4
 },
 "nbformat": 4,
 "nbformat_minor": 2
}
