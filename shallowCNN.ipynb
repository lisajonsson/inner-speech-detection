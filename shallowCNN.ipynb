{
 "cells": [
  {
   "cell_type": "code",
   "execution_count": 1,
   "metadata": {},
   "outputs": [
    {
     "name": "stdout",
     "output_type": "stream",
     "text": [
      "1\n",
      "2\n",
      "Split info:\n",
      "[39, 39, 40, 40] \n",
      " [6, 6, 5, 5] \n",
      " [5, 5, 5, 5]\n",
      "24.68354430379747 %  24.68354430379747 %  25.31645569620253 %  25.31645569620253 % \n",
      "27.27272727272727 %  27.27272727272727 %  22.727272727272727 %  22.727272727272727 % \n",
      "25.0 %  25.0 %  25.0 %  25.0 % \n"
     ]
    }
   ],
   "source": [
    "# import ipynb\n",
    "# import torch\n",
    "# %run data_handler.ipynb\n",
    "# #%run train_model.ipynb\n",
    "\n",
    "# device = torch.device('cuda:0' if torch.cuda.is_available() else 'cpu')\n",
    "\n",
    "# data, description = load_subject(1)\n",
    "# data, description = get_innerspeech(data, description)\n",
    "# labels = extract_labels(description)\n",
    "# print(\"1\")\n",
    "# data_interval = extract_action_interval(data, hz = 254)\n",
    "# print(\"2\")\n",
    "\n",
    "# train_data, val_data, test_data, train_labels, val_labels, test_labels = split_data(data_interval, labels)\n",
    "\n",
    "# train_data, val_data, test_data, train_labels, val_labels, test_labels = to_device(train_data, val_data, test_data, train_labels, val_labels, test_labels, device)\n",
    "# split_info(train_data, val_data, test_data, train_labels, val_labels, test_labels)"
   ]
  },
  {
   "cell_type": "code",
   "execution_count": null,
   "metadata": {},
   "outputs": [
    {
     "data": {
      "text/plain": [
       "torch.Size([1, 128, 4609])"
      ]
     },
     "execution_count": 2,
     "metadata": {},
     "output_type": "execute_result"
    }
   ],
   "source": [
    "#train_data[0].shape"
   ]
  },
  {
   "cell_type": "markdown",
   "metadata": {},
   "source": [
    "# Shallow CNN\n",
    "Implementation of the shallow CNN structure from (Schirrmeister et. al.) for the use on \"Thinking out loud\" dataset."
   ]
  },
  {
   "cell_type": "code",
   "execution_count": null,
   "metadata": {},
   "outputs": [],
   "source": [
    "import torch\n",
    "import torch.nn as nn\n",
    "import torch.optim as optim\n",
    "\n",
    "class ShallowCNN(nn.Module):\n",
    "    def __init__(self, hz, interval, dropout = 0.5):\n",
    "        super(ShallowCNN, self).__init__()\n",
    "        first_channels = 40\n",
    "        \n",
    "\n",
    "        # Temporal convolution\n",
    "        self.tempconv = nn.Conv2d(in_channels = 1, out_channels = first_channels, kernel_size = (1, 25), padding = 0, bias = False)\n",
    "        # Spatial convolution\n",
    "        self.spatconv = nn.Conv2d(in_channels = first_channels, out_channels = 40, kernel_size=(128,1), padding = 0, bias = False)\n",
    "        # Batch normalization\n",
    "        self.batchnorm = nn.BatchNorm2d(40, False)\n",
    "        # ELU\n",
    "        self.elu = nn.ELU()\n",
    "        # Dropout\n",
    "        self.dropout = nn.Dropout(dropout)\n",
    "        # Mean pooling\n",
    "        self.meanpool = nn.AvgPool2d(kernel_size = (1,75), stride = (1,15)) # This 15 might be a 75 :(\n",
    "\n",
    "        # Classifier\n",
    "        if interval == \"action\":\n",
    "            if hz == 254:\n",
    "                self.classifier = nn.Linear(1440,4, bias = False)\n",
    "            elif hz == 1024:\n",
    "                self.classifier = nn.Linear(6600,4, bias = False)\n",
    "        elif interval == \"full\":\n",
    "            if hz == 254:\n",
    "                self.classifier = nn.Linear(2840,4, bias = False)  \n",
    "            elif hz == 1024:\n",
    "                self.classifier = nn.Linear(12040,4, bias = False)\n",
    "        \n",
    "        # Softmax\n",
    "        self.softmax = nn.LogSoftmax(dim = 1)\n",
    "\n",
    "        \n",
    "    def forward(self, x):\n",
    "        res = self.tempconv(x)\n",
    "        res = self.spatconv(res)\n",
    "        res = self.batchnorm(res)\n",
    "        res = self.elu(res)\n",
    "        res = self.meanpool(res)\n",
    "        res = self.dropout(res)\n",
    "        res = torch.flatten(res, start_dim=1)\n",
    "        res = self.classifier(res)\n",
    "        res = self.softmax(res)\n",
    "        return res\n"
   ]
  },
  {
   "cell_type": "code",
   "execution_count": null,
   "metadata": {},
   "outputs": [
    {
     "name": "stdout",
     "output_type": "stream",
     "text": [
      "ACCURACY: 0.2916666666666667\n",
      "####### TRAINING #######\n",
      "Epoch\t train loss\t validation loss\n",
      "0 \t  1.4583873748779297 \t 1.3862940073013306\n",
      "1 \t  1.13673996925354 \t 1.386293649673462\n",
      "2 \t  0.9523791472117106 \t 1.3862934112548828\n",
      "3 \t  0.8504157861073812 \t 1.3862941265106201\n",
      "4 \t  0.6840148766835531 \t 1.386291742324829\n",
      "5 \t  0.584118922551473 \t 1.3862934112548828\n",
      "6 \t  0.4808325370152791 \t 1.386292815208435\n",
      "7 \t  0.3956715265909831 \t 1.3863235712051392\n",
      "8 \t  0.30614809195200604 \t 1.3863489627838135\n",
      "9 \t  0.25180919965108234 \t 1.386505365371704\n",
      "10 \t  0.23350663979848227 \t 1.3867957592010498\n",
      "11 \t  0.18432295322418213 \t 1.3874318599700928\n",
      "12 \t  0.1538578470547994 \t 1.3893449306488037\n",
      "13 \t  0.12493910392125447 \t 1.3938555717468262\n",
      "14 \t  0.10261507829030354 \t 1.4093067646026611\n",
      "15 \t  0.07903365294138591 \t 1.442307710647583\n",
      "16 \t  0.07039961715539296 \t 1.5124176740646362\n",
      "17 \t  0.061933308839797974 \t 1.6500489711761475\n",
      "18 \t  0.05529499053955078 \t 1.9111230373382568\n",
      "19 \t  0.0515565425157547 \t 2.2224535942077637\n",
      "ACCURACY: 1.0\n"
     ]
    }
   ],
   "source": [
    "# network = ShallowCNN(hz = 254, interval = \"action\").float().to(device)\n",
    "# accuracy_check(network, train_data, train_labels)\n",
    "\n",
    "# print(\"####### TRAINING #######\")\n",
    "# op = optim.Adam(params = network.parameters(), lr = 0.001)\n",
    "# lossf = nn.NLLLoss()\n",
    "# train_model(network, train_data = train_data, train_labels = train_labels, val_data = val_data, val_labels = val_labels, epochs = 20, batch_size = 10, loss_func = lossf, optimizer = op)\n",
    "\n",
    "# accuracy_check(network, train_data, train_labels)"
   ]
  },
  {
   "cell_type": "code",
   "execution_count": null,
   "metadata": {},
   "outputs": [
    {
     "name": "stdout",
     "output_type": "stream",
     "text": [
      "ACCURACY: 1.0\n",
      "ACCURACY: 0.275\n",
      "ACCURACY: 0.325\n"
     ]
    }
   ],
   "source": [
    "# accuracy_check(network, train_data, train_labels)\n",
    "# accuracy_check(network, val_data, val_labels)\n",
    "# accuracy_check(network, test_data, test_labels)"
   ]
  }
 ],
 "metadata": {
  "interpreter": {
   "hash": "776ed16b974eb4051a720ba098885814801e01a01a8691ffdcc6d2fcef736aab"
  },
  "kernelspec": {
   "display_name": "Python 3.8.6 ('inner_speech': conda)",
   "language": "python",
   "name": "python3"
  },
  "language_info": {
   "codemirror_mode": {
    "name": "ipython",
    "version": 3
   },
   "file_extension": ".py",
   "mimetype": "text/x-python",
   "name": "python",
   "nbconvert_exporter": "python",
   "pygments_lexer": "ipython3",
   "version": "3.8.6"
  },
  "orig_nbformat": 4
 },
 "nbformat": 4,
 "nbformat_minor": 2
}
