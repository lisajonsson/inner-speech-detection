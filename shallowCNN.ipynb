{
 "cells": [
  {
   "cell_type": "code",
   "execution_count": 1,
   "metadata": {},
   "outputs": [
    {
     "name": "stdout",
     "output_type": "stream",
     "text": [
      "[99, 99, 99, 99] \n",
      " [13, 13, 14, 14] \n",
      " [13, 13, 12, 12]\n",
      "25.0 %  25.0 %  25.0 %  25.0 % \n",
      "24.074074074074073 %  24.074074074074073 %  25.925925925925924 %  25.925925925925924 % \n",
      "26.0 %  26.0 %  24.0 %  24.0 % \n"
     ]
    }
   ],
   "source": [
    "import ipynb\n",
    "import torch\n",
    "from ipynb.fs.full.data_handler import load_subject, extract_labels, extract_action_interval, split_data, split_info, to_device\n",
    "from ipynb.fs.full.train_model import train_model, accuracy_check\n",
    "\n",
    "device = torch.device('cuda:0' if torch.cuda.is_available() else 'cpu')\n",
    "\n",
    "data, description = load_subject(1)\n",
    "labels = extract_labels(description)\n",
    "data_interval = extract_action_interval(data)\n",
    "\n",
    "train_data, val_data, test_data, train_labels, val_labels, test_labels = split_data(data_interval, labels)\n",
    "\n",
    "train_data, val_data, test_data, train_labels, val_labels, test_labels = to_device(train_data, val_data, test_data, train_labels, val_labels, test_labels, device)\n",
    "split_info(train_data, val_data, test_data, train_labels, val_labels, test_labels)"
   ]
  },
  {
   "cell_type": "markdown",
   "metadata": {},
   "source": [
    "# Shallow CNN\n",
    "Implementation of the shallow CNN structure from (Schirrmeister et. al.) for the use on \"Thinking out loud\" dataset."
   ]
  },
  {
   "cell_type": "code",
   "execution_count": 2,
   "metadata": {},
   "outputs": [],
   "source": [
    "import torch\n",
    "import torch.nn as nn\n",
    "import torch.optim as optim\n",
    "\n",
    "class ShallowCNN(nn.Module):\n",
    "    def __init__(self, interval = \"full\", dropout = 0.5):\n",
    "        super(ShallowCNN, self).__init__()\n",
    "        first_channels = 40\n",
    "        \n",
    "\n",
    "        # Temporal convolution\n",
    "        self.tempconv = nn.Conv2d(in_channels = 1, out_channels = first_channels, kernel_size = (1, 25), padding = 0, bias = False)\n",
    "        # Spatial convolution\n",
    "        self.spatconv = nn.Conv2d(in_channels = first_channels, out_channels = 40, kernel_size=(128,1), padding = 0, bias = False)\n",
    "        # Batch normalization\n",
    "        self.batchnorm = nn.BatchNorm2d(40, False)\n",
    "        # ELU\n",
    "        self.elu = nn.ELU()\n",
    "        # Dropout\n",
    "        self.dropout = nn.Dropout(dropout)\n",
    "        # Mean pooling\n",
    "        self.meanpool = nn.AvgPool2d(kernel_size = (1,75), stride = (1,15)) # This 15 might be a 75 :(\n",
    "\n",
    "        # Classifier\n",
    "        if interval == \"action\":\n",
    "            self.classifier = nn.Linear(1440,4, bias = False)\n",
    "        elif interval == \"full\":\n",
    "            self.classifier = nn.Linear(2840,4, bias = False)\n",
    "        # Softmax\n",
    "        self.softmax = nn.LogSoftmax(dim = 1)\n",
    "\n",
    "        \n",
    "    def forward(self, x):\n",
    "        res = self.tempconv(x)\n",
    "        res = self.spatconv(res)\n",
    "        res = self.batchnorm(res)\n",
    "        res = self.elu(res)\n",
    "        res = self.meanpool(res)\n",
    "        res = self.dropout(res)\n",
    "        res = torch.flatten(res, start_dim=1)\n",
    "        res = self.classifier(res)\n",
    "        res = self.softmax(res)\n",
    "        return res\n"
   ]
  },
  {
   "cell_type": "code",
   "execution_count": 6,
   "metadata": {},
   "outputs": [
    {
     "name": "stdout",
     "output_type": "stream",
     "text": [
      "ACCURACY: 0.25\n",
      "####### TRAINING #######\n",
      "Epoch\t train loss\t validation loss\n",
      "0 \t  1.4495796790489783 \t 1.3862603902816772\n",
      "1 \t  1.3266488099709535 \t 1.386222004890442\n",
      "2 \t  1.2864039494441106 \t 1.3860478401184082\n",
      "3 \t  1.2438658689841247 \t 1.3855808973312378\n",
      "4 \t  1.1853823539538262 \t 1.3835722208023071\n",
      "5 \t  1.1565294510278947 \t 1.4194326400756836\n",
      "6 \t  1.1126894828600762 \t 1.4478398561477661\n",
      "7 \t  1.0734599186823919 \t 1.502573847770691\n",
      "8 \t  1.0422704647748897 \t 1.5182851552963257\n",
      "9 \t  0.984276111309345 \t 1.5553083419799805\n",
      "10 \t  0.9529058016263522 \t 1.559572696685791\n",
      "11 \t  0.9428936884953425 \t 1.6133947372436523\n",
      "12 \t  0.8807775057279147 \t 1.597985863685608\n",
      "13 \t  0.83496827345628 \t 1.6592047214508057\n",
      "14 \t  0.8217211992312701 \t 1.685848355293274\n",
      "15 \t  0.7803047375801282 \t 1.7050511837005615\n",
      "16 \t  0.7454075446495643 \t 1.7079063653945923\n",
      "17 \t  0.7248755234938401 \t 1.713695764541626\n",
      "18 \t  0.6899392054631159 \t 1.7811042070388794\n",
      "19 \t  0.681616465250651 \t 1.8257538080215454\n",
      "20 \t  0.6263808225974058 \t 1.8500123023986816\n",
      "21 \t  0.6170948224189954 \t 1.8520513772964478\n",
      "22 \t  0.5991088671561999 \t 1.8662618398666382\n",
      "23 \t  0.5773514478634565 \t 1.9079554080963135\n",
      "24 \t  0.5408203418438251 \t 1.9758398532867432\n",
      "25 \t  0.5344142424754608 \t 1.936272382736206\n",
      "26 \t  0.5219404758551182 \t 1.9692286252975464\n",
      "27 \t  0.49153909927759415 \t 1.9830434322357178\n",
      "28 \t  0.4911224658672626 \t 2.0635898113250732\n",
      "29 \t  0.49266639122596156 \t 2.0622646808624268\n",
      "30 \t  0.4236886929243039 \t 2.0901365280151367\n",
      "31 \t  0.4198034237592648 \t 2.1752891540527344\n",
      "32 \t  0.3975720527844551 \t 2.175717830657959\n",
      "33 \t  0.37950929005940753 \t 2.1925244331359863\n",
      "34 \t  0.38869762420654297 \t 2.260120391845703\n",
      "35 \t  0.36203868572528547 \t 2.305413007736206\n",
      "36 \t  0.32878337762294674 \t 2.3537514209747314\n",
      "37 \t  0.3362743671123798 \t 2.308363199234009\n",
      "38 \t  0.2979241151076097 \t 2.3964648246765137\n",
      "39 \t  0.3073723621857472 \t 2.4534671306610107\n",
      "40 \t  0.31929830404428333 \t 2.527756690979004\n",
      "41 \t  0.29735249739426833 \t 2.52256441116333\n",
      "42 \t  0.2792790975326147 \t 2.4883615970611572\n",
      "43 \t  0.25653685056246245 \t 2.434023141860962\n",
      "44 \t  0.23795399299034706 \t 2.593480110168457\n",
      "45 \t  0.2466144561767578 \t 2.546173572540283\n",
      "46 \t  0.23022964673164564 \t 2.633887767791748\n",
      "47 \t  0.24566938938238683 \t 2.5868351459503174\n",
      "48 \t  0.22154935201009116 \t 2.6769957542419434\n",
      "49 \t  0.2035046846438677 \t 2.6624200344085693\n",
      "ACCURACY: 0.9772727272727273\n"
     ]
    }
   ],
   "source": [
    "network = ShallowCNN(interval = \"action\").float().to(device)\n",
    "accuracy_check(network, train_data, train_labels)\n",
    "\n",
    "print(\"####### TRAINING #######\")\n",
    "op = optim.Adam(params = network.parameters(), lr = 0.0001)\n",
    "lossf = nn.NLLLoss()\n",
    "train_model(network, train_data = train_data, train_labels = train_labels, val_data = val_data, val_labels = val_labels, epochs = 50, batch_size = 10, loss_func = lossf, optimizer = op)\n",
    "\n",
    "accuracy_check(network, train_data, train_labels)"
   ]
  },
  {
   "cell_type": "code",
   "execution_count": 7,
   "metadata": {},
   "outputs": [
    {
     "name": "stdout",
     "output_type": "stream",
     "text": [
      "ACCURACY: 0.9772727272727273\n",
      "ACCURACY: 0.3148148148148148\n",
      "ACCURACY: 0.26\n"
     ]
    }
   ],
   "source": [
    "accuracy_check(network, train_data, train_labels)\n",
    "accuracy_check(network, val_data, val_labels)\n",
    "accuracy_check(network, test_data, test_labels)"
   ]
  }
 ],
 "metadata": {
  "interpreter": {
   "hash": "776ed16b974eb4051a720ba098885814801e01a01a8691ffdcc6d2fcef736aab"
  },
  "kernelspec": {
   "display_name": "Python 3.8.6 ('inner_speech': conda)",
   "language": "python",
   "name": "python3"
  },
  "language_info": {
   "codemirror_mode": {
    "name": "ipython",
    "version": 3
   },
   "file_extension": ".py",
   "mimetype": "text/x-python",
   "name": "python",
   "nbconvert_exporter": "python",
   "pygments_lexer": "ipython3",
   "version": "3.8.6"
  },
  "orig_nbformat": 4
 },
 "nbformat": 4,
 "nbformat_minor": 2
}
