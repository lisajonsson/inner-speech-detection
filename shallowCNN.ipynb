{
 "cells": [
  {
   "cell_type": "code",
   "execution_count": 1,
   "metadata": {},
   "outputs": [
    {
     "name": "stdout",
     "output_type": "stream",
     "text": [
      "[99, 99, 99, 99] \n",
      " [13, 13, 14, 14] \n",
      " [13, 13, 12, 12]\n",
      "25.0 %  25.0 %  25.0 %  25.0 % \n",
      "24.074074074074073 %  24.074074074074073 %  25.925925925925924 %  25.925925925925924 % \n",
      "26.0 %  26.0 %  24.0 %  24.0 % \n"
     ]
    }
   ],
   "source": [
    "import ipynb\n",
    "from ipynb.fs.full.data_handler import load_subject, extract_labels, extract_action_interval, split_squeeze_data, split_info\n",
    "from ipynb.fs.full.train_model import train_model, accuracy_check\n",
    "\n",
    "dat, description = load_subject(1)\n",
    "labels = extract_labels(description)\n",
    "data = extract_action_interval(dat)\n",
    "train_data, val_data, test_data, train_labels, val_labels, test_labels = split_squeeze_data(data, labels)\n",
    "split_info(train_data, val_data, test_data, train_labels, val_labels, test_labels)"
   ]
  },
  {
   "cell_type": "markdown",
   "metadata": {},
   "source": [
    "# Shallow CNN\n",
    "Implementation of the shallow CNN structure from (Schirrmeister et. al.) for the use on \"Thinking out loud\" dataset."
   ]
  },
  {
   "cell_type": "code",
   "execution_count": 2,
   "metadata": {},
   "outputs": [],
   "source": [
    "import torch\n",
    "import torch.nn as nn\n",
    "import torch.nn.functional as F\n",
    "import torch.optim as optim\n",
    "import time\n",
    "import os\n",
    "import copy\n",
    "\n",
    "class ShallowCNN(nn.Module):\n",
    "    def __init__(self, interval = \"full\"):\n",
    "        super(ShallowCNN, self).__init__()\n",
    "        first_channels = 40\n",
    "        \n",
    "\n",
    "        # Temporal convolution\n",
    "        self.tempconv = nn.Conv2d(in_channels = 1, out_channels = first_channels, kernel_size = (1, 25), padding = 0, bias = False)\n",
    "        # Spatial convolution\n",
    "        self.spatconv = nn.Conv2d(in_channels = first_channels, out_channels = 40, kernel_size=(128,1), padding = 0, bias = False)\n",
    "        # Batch normalization\n",
    "        self.batchnorm = nn.BatchNorm2d(40, False)\n",
    "        # ELU\n",
    "        self.elu = nn.ELU()\n",
    "        # Mean pooling\n",
    "        self.meanpool = nn.AvgPool2d(kernel_size = (1,75), stride = (1,15)) # This 15 might be a 75 :(\n",
    "\n",
    "        # Classifier\n",
    "        if interval == \"action\":\n",
    "            self.classifier = nn.Linear(1440,4, bias = False)\n",
    "        elif interval == \"full\":\n",
    "            self.classifier = nn.Linear(2840,4, bias = False)\n",
    "        # Softmax\n",
    "        self.softmax = nn.Softmax()\n",
    "\n",
    "        \n",
    "    def forward(self, x, dropout = 0.5):\n",
    "        res = self.tempconv(x)\n",
    "        res = self.spatconv(res)\n",
    "        res = self.batchnorm(res)\n",
    "        res = self.elu(res)\n",
    "        res = self.meanpool(res)\n",
    "        res = F.dropout(res, dropout)\n",
    "        res = torch.flatten(res, start_dim=1)\n",
    "        res = self.classifier(res)\n",
    "        res = self.softmax(res)\n",
    "        return res\n"
   ]
  },
  {
   "cell_type": "code",
   "execution_count": 3,
   "metadata": {},
   "outputs": [
    {
     "name": "stdout",
     "output_type": "stream",
     "text": [
      "torch.Size([1, 1, 128, 636])\n",
      "torch.Size([1, 4])\n"
     ]
    },
    {
     "name": "stderr",
     "output_type": "stream",
     "text": [
      "/tmp/ipykernel_53502/2210671637.py:44: UserWarning: Implicit dimension choice for softmax has been deprecated. Change the call to include dim=X as an argument.\n",
      "  res = self.softmax(res)\n"
     ]
    },
    {
     "name": "stdout",
     "output_type": "stream",
     "text": [
      "ACCURACY: 0.2777777777777778\n",
      "####### TRAINING #######\n",
      "Epoch\t train loss\t validation loss\n",
      "0 \t  -9.820293426513672 \t -0.24999761581420898\n",
      "1 \t  -11.118707656860352 \t -0.2499803602695465\n",
      "2 \t  -11.938577651977539 \t -0.2499726563692093\n",
      "3 \t  -12.943338394165039 \t -0.25035560131073\n",
      "4 \t  -13.43875503540039 \t -0.2524065673351288\n",
      "ACCURACY: 0.5075757575757576\n"
     ]
    }
   ],
   "source": [
    "network = ShallowCNN(interval = \"action\").float()\n",
    "accuracy_check(train_data, train_labels)\n",
    "\n",
    "print(\"####### TRAINING #######\")\n",
    "op = optim.Adam(params = network.parameters(), lr = 0.0001)\n",
    "lossf = nn.NLLLoss()\n",
    "train_model(network, train_data = train_data, train_labels = train_labels, val_data = val_data, val_labels = val_labels, epochs = 5, batch_size = 10, loss_func = lossf, optimizer = op)\n",
    "\n",
    "accuracy_check(train_data, train_labels)"
   ]
  },
  {
   "cell_type": "code",
   "execution_count": 4,
   "metadata": {},
   "outputs": [
    {
     "name": "stderr",
     "output_type": "stream",
     "text": [
      "/tmp/ipykernel_53502/2210671637.py:44: UserWarning: Implicit dimension choice for softmax has been deprecated. Change the call to include dim=X as an argument.\n",
      "  res = self.softmax(res)\n"
     ]
    },
    {
     "name": "stdout",
     "output_type": "stream",
     "text": [
      "ACCURACY: 0.48737373737373735\n",
      "ACCURACY: 0.12962962962962962\n",
      "ACCURACY: 0.34\n"
     ]
    }
   ],
   "source": [
    "accuracy_check(train_data, train_labels)\n",
    "accuracy_check(val_data, val_labels)\n",
    "accuracy_check(test_data, test_labels)"
   ]
  }
 ],
 "metadata": {
  "interpreter": {
   "hash": "776ed16b974eb4051a720ba098885814801e01a01a8691ffdcc6d2fcef736aab"
  },
  "kernelspec": {
   "display_name": "Python 3.8.6 ('inner_speech': conda)",
   "language": "python",
   "name": "python3"
  },
  "language_info": {
   "codemirror_mode": {
    "name": "ipython",
    "version": 3
   },
   "file_extension": ".py",
   "mimetype": "text/x-python",
   "name": "python",
   "nbconvert_exporter": "python",
   "pygments_lexer": "ipython3",
   "version": "3.8.6"
  },
  "orig_nbformat": 4
 },
 "nbformat": 4,
 "nbformat_minor": 2
}
