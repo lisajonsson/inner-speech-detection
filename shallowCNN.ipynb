{
 "cells": [
  {
   "cell_type": "code",
   "execution_count": 1,
   "metadata": {},
   "outputs": [],
   "source": [
    "# Load data\n",
    "import numpy as np\n",
    "from sklearn.model_selection import train_test_split\n",
    "from Inner_Speech_Dataset.Python_Processing.Data_extractions import  Extract_data_from_subject\n",
    "\n",
    "# Load all data for subject\n",
    "def load_subject(subject_nr):\n",
    "    datatype = \"EEG\"\n",
    "    root_dir = \"../dataset\"\n",
    "\n",
    "    data, description = Extract_data_from_subject(root_dir, subject_nr, datatype)\n",
    "    return data, description\n",
    "\n",
    "# Extract labels from the description\n",
    "def extract_labels(desc):\n",
    "    return desc[:,1]\n",
    "\n",
    "\n",
    "# Test when extracting only the action interval\n",
    "def extract_action_interval(data):\n",
    "    return data[:,:,254:890]\n",
    "\n",
    "def split_data(data, labels):\n",
    "    trainv_data, test_data, trainv_labels, test_labels = train_test_split(data, labels, test_size = 0.2, random_state = 1)\n",
    "    train_data, val_data, train_labels, val_labels = train_test_split(trainv_data, trainv_labels, test_size = 0.25, random_state = 1)\n",
    "\n",
    "    return train_data, val_data, test_data, train_labels, val_labels, test_labels\n",
    "\n",
    "\n",
    "\n",
    "\n",
    "# Load, extract and split data\n",
    "data, description = load_subject(1)\n",
    "labels = extract_labels(description)\n",
    "#new_data = extract_action_interval(data)\n",
    "#print(new_data.shape)\n",
    "\n",
    "\n",
    "train_data, val_data, test_data, train_labels, val_labels, test_labels = split_data(data, labels)"
   ]
  },
  {
   "cell_type": "markdown",
   "metadata": {},
   "source": [
    "# Shallow CNN\n",
    "Implementation of the shallow CNN structure from (Schirrmeister et. al.) for the use on \"Thinking out loud\" dataset."
   ]
  },
  {
   "cell_type": "code",
   "execution_count": 2,
   "metadata": {},
   "outputs": [],
   "source": [
    "import torch\n",
    "import torch.nn as nn\n",
    "import torch.nn.functional as F\n",
    "import torch.optim as optim\n",
    "import time\n",
    "import os\n",
    "import copy\n",
    "\n",
    "class ShallowCNN(nn.Module):\n",
    "    def __init__(self):\n",
    "        super(ShallowCNN, self).__init__()\n",
    "        first_channels = 40\n",
    "        second_channels = 40\n",
    "\n",
    "        # Temporal convolution\n",
    "        self.tempconv = nn.Conv2d(in_channels = 1, out_channels = first_channels, kernel_size = (1, 25), padding = 0, bias = False)\n",
    "        # Spatial convolution\n",
    "        self.spatconv = nn.Conv2d(in_channels = first_channels, out_channels = 40, kernel_size=(128,1), padding = 0, bias = False)\n",
    "        # Batch normalization\n",
    "        self.batchnorm = nn.BatchNorm2d(40, False)\n",
    "        # ELU\n",
    "        self.elu = nn.ELU()\n",
    "        # Mean pooling\n",
    "        self.meanpool = nn.AvgPool2d(kernel_size = (1,75), stride = (1,15)) # This 15 might be a 75 :(\n",
    "\n",
    "        # Classifier\n",
    "        self.classifier = nn.Linear(2840,4, bias = False)\n",
    "        # Softmax\n",
    "        self.softmax = nn.Softmax()\n",
    "\n",
    "        \n",
    "    def forward(self, x, dropout = 0.5):\n",
    "        res = self.tempconv(x)\n",
    "        res = self.spatconv(res)\n",
    "        res = self.batchnorm(res)\n",
    "        res = self.elu(res)\n",
    "        res = self.meanpool(res)\n",
    "        res = F.dropout(res, dropout)\n",
    "        res = torch.flatten(res, start_dim=1)\n",
    "        res = self.classifier(res)\n",
    "        res = self.softmax(res)\n",
    "        return res\n",
    "\n",
    "    def train_model(self, data, labels, epochs, batch_size, loss_func, optimizer):\n",
    "        print(\"Epoch\\t train loss\\t validation loss\\t train acc\\t validation acc\")\n",
    "        best_model = copy.deepcopy(self.state_dict())\n",
    "        best_loss = 500 # bad value for dis\n",
    "\n",
    "        for epoch in range(epochs):\n",
    "            epoch_loss = 0\n",
    "            self.train() # Set model to train mode\n",
    "            \n",
    "            for i in range(len(data)//batch_size): # BATCH SIZE MUST BE EVEN DIVIDER OF DATA LEN, otherwise we miss stuff here\n",
    "                start = i*batch_size\n",
    "                end = (i+1)*batch_size\n",
    "\n",
    "                train_inputs = torch.FloatTensor(data[start:end])\n",
    "                train_labels = torch.LongTensor(labels[start:end])\n",
    "                train_outputs = self(train_inputs)\n",
    "\n",
    "                loss = loss_func(train_outputs, train_labels)\n",
    "                \n",
    "                #print(\"LOSS: \", loss)\n",
    "                epoch_loss += loss\n",
    "                loss.backward()\n",
    "                optimizer.step()\n",
    "            \n",
    "            # Check for new best model, this should be on val_data instead\n",
    "            if epoch_loss < best_loss:\n",
    "                best_model = copy.deepcopy(self.state_dict())\n",
    "\n",
    "            print(\"EPOCH \", epoch, \" LOSS:\", epoch_loss)\n",
    "\n",
    "        self.load_state_dict(best_model) # Set model to best performing one.\n",
    "\n"
   ]
  },
  {
   "cell_type": "code",
   "execution_count": 3,
   "metadata": {},
   "outputs": [],
   "source": [
    "train_data = torch.tensor(train_data)\n",
    "train_data = torch.unsqueeze(train_data,1).float()\n",
    "train_labels = torch.tensor(train_labels).long()\n",
    "\n",
    "val_data = torch.tensor(val_data)\n",
    "val_data = torch.unsqueeze(val_data,1).float()\n",
    "val_labels = torch.tensor(val_labels).long()\n",
    "\n",
    "test_data = torch.tensor(test_data)\n",
    "test_data = torch.unsqueeze(test_data,1).float()\n",
    "test_labels = torch.tensor(test_labels).long()\n",
    "\n",
    "\n",
    "# Uncomment this if running on only 1 trial\n",
    "#train_data = torch.unsqueeze(torch.unsqueeze(d,0),0).float() # Unsqueeze adds a wrapper dimension of 1s"
   ]
  },
  {
   "cell_type": "code",
   "execution_count": 4,
   "metadata": {},
   "outputs": [
    {
     "name": "stdout",
     "output_type": "stream",
     "text": [
      "torch.Size([1, 1, 128, 1153])\n"
     ]
    },
    {
     "ename": "RuntimeError",
     "evalue": "mat1 and mat2 shapes cannot be multiplied (1x2840 and 1120x4)",
     "output_type": "error",
     "traceback": [
      "\u001b[0;31m---------------------------------------------------------------------------\u001b[0m",
      "\u001b[0;31mRuntimeError\u001b[0m                              Traceback (most recent call last)",
      "\u001b[1;32m/home/jonlis/inner-speech-detection/shallowCNN.ipynb Cell 5'\u001b[0m in \u001b[0;36m<module>\u001b[0;34m\u001b[0m\n\u001b[1;32m      <a href='vscode-notebook-cell://ssh-remote%2B109.225.89.145/home/jonlis/inner-speech-detection/shallowCNN.ipynb#ch0000004vscode-remote?line=1'>2</a>\u001b[0m d \u001b[39m=\u001b[39m torch\u001b[39m.\u001b[39munsqueeze(train_data[\u001b[39m0\u001b[39m],\u001b[39m0\u001b[39m)\n\u001b[1;32m      <a href='vscode-notebook-cell://ssh-remote%2B109.225.89.145/home/jonlis/inner-speech-detection/shallowCNN.ipynb#ch0000004vscode-remote?line=2'>3</a>\u001b[0m \u001b[39mprint\u001b[39m(d\u001b[39m.\u001b[39msize())\n\u001b[0;32m----> <a href='vscode-notebook-cell://ssh-remote%2B109.225.89.145/home/jonlis/inner-speech-detection/shallowCNN.ipynb#ch0000004vscode-remote?line=3'>4</a>\u001b[0m r \u001b[39m=\u001b[39m network\u001b[39m.\u001b[39;49mforward(d)\n\u001b[1;32m      <a href='vscode-notebook-cell://ssh-remote%2B109.225.89.145/home/jonlis/inner-speech-detection/shallowCNN.ipynb#ch0000004vscode-remote?line=4'>5</a>\u001b[0m \u001b[39mprint\u001b[39m(r\u001b[39m.\u001b[39msize())\n\u001b[1;32m      <a href='vscode-notebook-cell://ssh-remote%2B109.225.89.145/home/jonlis/inner-speech-detection/shallowCNN.ipynb#ch0000004vscode-remote?line=6'>7</a>\u001b[0m \u001b[39m# Dumb checking of initial weights\u001b[39;00m\n",
      "\u001b[1;32m/home/jonlis/inner-speech-detection/shallowCNN.ipynb Cell 3'\u001b[0m in \u001b[0;36mShallowCNN.forward\u001b[0;34m(self, x, dropout)\u001b[0m\n\u001b[1;32m     <a href='vscode-notebook-cell://ssh-remote%2B109.225.89.145/home/jonlis/inner-speech-detection/shallowCNN.ipynb#ch0000002vscode-remote?line=37'>38</a>\u001b[0m res \u001b[39m=\u001b[39m F\u001b[39m.\u001b[39mdropout(res, dropout)\n\u001b[1;32m     <a href='vscode-notebook-cell://ssh-remote%2B109.225.89.145/home/jonlis/inner-speech-detection/shallowCNN.ipynb#ch0000002vscode-remote?line=38'>39</a>\u001b[0m res \u001b[39m=\u001b[39m torch\u001b[39m.\u001b[39mflatten(res, start_dim\u001b[39m=\u001b[39m\u001b[39m1\u001b[39m)\n\u001b[0;32m---> <a href='vscode-notebook-cell://ssh-remote%2B109.225.89.145/home/jonlis/inner-speech-detection/shallowCNN.ipynb#ch0000002vscode-remote?line=39'>40</a>\u001b[0m res \u001b[39m=\u001b[39m \u001b[39mself\u001b[39;49m\u001b[39m.\u001b[39;49mclassifier(res)\n\u001b[1;32m     <a href='vscode-notebook-cell://ssh-remote%2B109.225.89.145/home/jonlis/inner-speech-detection/shallowCNN.ipynb#ch0000002vscode-remote?line=40'>41</a>\u001b[0m res \u001b[39m=\u001b[39m \u001b[39mself\u001b[39m\u001b[39m.\u001b[39msoftmax(res)\n\u001b[1;32m     <a href='vscode-notebook-cell://ssh-remote%2B109.225.89.145/home/jonlis/inner-speech-detection/shallowCNN.ipynb#ch0000002vscode-remote?line=41'>42</a>\u001b[0m \u001b[39mreturn\u001b[39;00m res\n",
      "File \u001b[0;32m~/miniconda3/envs/inner_speech/lib/python3.8/site-packages/torch/nn/modules/module.py:1102\u001b[0m, in \u001b[0;36mModule._call_impl\u001b[0;34m(self, *input, **kwargs)\u001b[0m\n\u001b[1;32m   <a href='file:///~/miniconda3/envs/inner_speech/lib/python3.8/site-packages/torch/nn/modules/module.py?line=1097'>1098</a>\u001b[0m \u001b[39m# If we don't have any hooks, we want to skip the rest of the logic in\u001b[39;00m\n\u001b[1;32m   <a href='file:///~/miniconda3/envs/inner_speech/lib/python3.8/site-packages/torch/nn/modules/module.py?line=1098'>1099</a>\u001b[0m \u001b[39m# this function, and just call forward.\u001b[39;00m\n\u001b[1;32m   <a href='file:///~/miniconda3/envs/inner_speech/lib/python3.8/site-packages/torch/nn/modules/module.py?line=1099'>1100</a>\u001b[0m \u001b[39mif\u001b[39;00m \u001b[39mnot\u001b[39;00m (\u001b[39mself\u001b[39m\u001b[39m.\u001b[39m_backward_hooks \u001b[39mor\u001b[39;00m \u001b[39mself\u001b[39m\u001b[39m.\u001b[39m_forward_hooks \u001b[39mor\u001b[39;00m \u001b[39mself\u001b[39m\u001b[39m.\u001b[39m_forward_pre_hooks \u001b[39mor\u001b[39;00m _global_backward_hooks\n\u001b[1;32m   <a href='file:///~/miniconda3/envs/inner_speech/lib/python3.8/site-packages/torch/nn/modules/module.py?line=1100'>1101</a>\u001b[0m         \u001b[39mor\u001b[39;00m _global_forward_hooks \u001b[39mor\u001b[39;00m _global_forward_pre_hooks):\n\u001b[0;32m-> <a href='file:///~/miniconda3/envs/inner_speech/lib/python3.8/site-packages/torch/nn/modules/module.py?line=1101'>1102</a>\u001b[0m     \u001b[39mreturn\u001b[39;00m forward_call(\u001b[39m*\u001b[39;49m\u001b[39minput\u001b[39;49m, \u001b[39m*\u001b[39;49m\u001b[39m*\u001b[39;49mkwargs)\n\u001b[1;32m   <a href='file:///~/miniconda3/envs/inner_speech/lib/python3.8/site-packages/torch/nn/modules/module.py?line=1102'>1103</a>\u001b[0m \u001b[39m# Do not call functions when jit is used\u001b[39;00m\n\u001b[1;32m   <a href='file:///~/miniconda3/envs/inner_speech/lib/python3.8/site-packages/torch/nn/modules/module.py?line=1103'>1104</a>\u001b[0m full_backward_hooks, non_full_backward_hooks \u001b[39m=\u001b[39m [], []\n",
      "File \u001b[0;32m~/miniconda3/envs/inner_speech/lib/python3.8/site-packages/torch/nn/modules/linear.py:103\u001b[0m, in \u001b[0;36mLinear.forward\u001b[0;34m(self, input)\u001b[0m\n\u001b[1;32m    <a href='file:///~/miniconda3/envs/inner_speech/lib/python3.8/site-packages/torch/nn/modules/linear.py?line=101'>102</a>\u001b[0m \u001b[39mdef\u001b[39;00m \u001b[39mforward\u001b[39m(\u001b[39mself\u001b[39m, \u001b[39minput\u001b[39m: Tensor) \u001b[39m-\u001b[39m\u001b[39m>\u001b[39m Tensor:\n\u001b[0;32m--> <a href='file:///~/miniconda3/envs/inner_speech/lib/python3.8/site-packages/torch/nn/modules/linear.py?line=102'>103</a>\u001b[0m     \u001b[39mreturn\u001b[39;00m F\u001b[39m.\u001b[39;49mlinear(\u001b[39minput\u001b[39;49m, \u001b[39mself\u001b[39;49m\u001b[39m.\u001b[39;49mweight, \u001b[39mself\u001b[39;49m\u001b[39m.\u001b[39;49mbias)\n",
      "File \u001b[0;32m~/miniconda3/envs/inner_speech/lib/python3.8/site-packages/torch/nn/functional.py:1848\u001b[0m, in \u001b[0;36mlinear\u001b[0;34m(input, weight, bias)\u001b[0m\n\u001b[1;32m   <a href='file:///~/miniconda3/envs/inner_speech/lib/python3.8/site-packages/torch/nn/functional.py?line=1845'>1846</a>\u001b[0m \u001b[39mif\u001b[39;00m has_torch_function_variadic(\u001b[39minput\u001b[39m, weight, bias):\n\u001b[1;32m   <a href='file:///~/miniconda3/envs/inner_speech/lib/python3.8/site-packages/torch/nn/functional.py?line=1846'>1847</a>\u001b[0m     \u001b[39mreturn\u001b[39;00m handle_torch_function(linear, (\u001b[39minput\u001b[39m, weight, bias), \u001b[39minput\u001b[39m, weight, bias\u001b[39m=\u001b[39mbias)\n\u001b[0;32m-> <a href='file:///~/miniconda3/envs/inner_speech/lib/python3.8/site-packages/torch/nn/functional.py?line=1847'>1848</a>\u001b[0m \u001b[39mreturn\u001b[39;00m torch\u001b[39m.\u001b[39;49m_C\u001b[39m.\u001b[39;49m_nn\u001b[39m.\u001b[39;49mlinear(\u001b[39minput\u001b[39;49m, weight, bias)\n",
      "\u001b[0;31mRuntimeError\u001b[0m: mat1 and mat2 shapes cannot be multiplied (1x2840 and 1120x4)"
     ]
    }
   ],
   "source": [
    "network = ShallowCNN()\n",
    "d = torch.unsqueeze(train_data[0],0)\n",
    "print(d.size())\n",
    "r = network.forward(d)\n",
    "print(r.size())\n",
    "\n",
    "# Dumb checking of initial weights\n",
    "def accuracy_check(data, labels):\n",
    "    r = network.forward(data)\n",
    "    p = torch.max(r,1)[1]\n",
    "    correct = 0.0\n",
    "    for i in range(len(p)):\n",
    "        if p[i] == labels[i]:\n",
    "            correct += 1\n",
    "    print(\"ACCURACY:\", correct/len(p))\n",
    "\n",
    "\n",
    "network = ShallowCNN().float()\n",
    "accuracy_check(train_data, train_labels)\n",
    "\n",
    "print(\"####### TRAINING #######\")\n",
    "op = optim.Adam(params = network.parameters(), lr = 0.0001)\n",
    "lossf = nn.NLLLoss()\n",
    "network.train_model(data = train_data, labels = train_labels, epochs = 5, batch_size = 10, loss_func = lossf, optimizer = op)\n",
    "\n",
    "accuracy_check(train_data, train_labels)"
   ]
  },
  {
   "cell_type": "code",
   "execution_count": null,
   "metadata": {},
   "outputs": [
    {
     "name": "stderr",
     "output_type": "stream",
     "text": [
      "/tmp/ipykernel_58744/1101113915.py:41: UserWarning: Implicit dimension choice for softmax has been deprecated. Change the call to include dim=X as an argument.\n",
      "  res = self.softmax(res)\n"
     ]
    },
    {
     "name": "stdout",
     "output_type": "stream",
     "text": [
      "ACCURACY: 0.6766666666666666\n",
      "ACCURACY: 0.22\n",
      "ACCURACY: 0.29\n"
     ]
    }
   ],
   "source": [
    "accuracy_check(train_data, train_labels)\n",
    "accuracy_check(val_data, val_labels)\n",
    "accuracy_check(test_data, test_labels)"
   ]
  }
 ],
 "metadata": {
  "interpreter": {
   "hash": "776ed16b974eb4051a720ba098885814801e01a01a8691ffdcc6d2fcef736aab"
  },
  "kernelspec": {
   "display_name": "Python 3.8.6 ('inner_speech': conda)",
   "language": "python",
   "name": "python3"
  },
  "language_info": {
   "codemirror_mode": {
    "name": "ipython",
    "version": 3
   },
   "file_extension": ".py",
   "mimetype": "text/x-python",
   "name": "python",
   "nbconvert_exporter": "python",
   "pygments_lexer": "ipython3",
   "version": "3.8.6"
  },
  "orig_nbformat": 4
 },
 "nbformat": 4,
 "nbformat_minor": 2
}
