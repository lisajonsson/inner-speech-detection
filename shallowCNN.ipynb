{
 "cells": [
  {
   "cell_type": "code",
   "execution_count": 18,
   "metadata": {},
   "outputs": [
    {
     "name": "stdout",
     "output_type": "stream",
     "text": [
      "[30, 30, 30, 30] \n",
      " [10, 10, 10, 10] \n",
      " [10, 10, 10, 10]\n",
      "25.0 %  25.0 %  25.0 %  25.0 % \n",
      "25.0 %  25.0 %  25.0 %  25.0 % \n",
      "25.0 %  25.0 %  25.0 %  25.0 % \n"
     ]
    }
   ],
   "source": [
    "import ipynb\n",
    "import torch\n",
    "from ipynb.fs.full.data_handler import load_subject, extract_labels, extract_action_interval, split_data, split_info, to_device, get_innerspeech\n",
    "from ipynb.fs.full.train_model import train_model, accuracy_check\n",
    "\n",
    "device = torch.device('cuda:0' if torch.cuda.is_available() else 'cpu')\n",
    "\n",
    "data, description = load_subject(1)\n",
    "data, description = get_innerspeech(data, description)\n",
    "labels = extract_labels(description)\n",
    "data_interval = extract_action_interval(data)\n",
    "\n",
    "train_data, val_data, test_data, train_labels, val_labels, test_labels = split_data(data_interval, labels)\n",
    "\n",
    "train_data, val_data, test_data, train_labels, val_labels, test_labels = to_device(train_data, val_data, test_data, train_labels, val_labels, test_labels, device)\n",
    "split_info(train_data, val_data, test_data, train_labels, val_labels, test_labels)"
   ]
  },
  {
   "cell_type": "markdown",
   "metadata": {},
   "source": [
    "# Shallow CNN\n",
    "Implementation of the shallow CNN structure from (Schirrmeister et. al.) for the use on \"Thinking out loud\" dataset."
   ]
  },
  {
   "cell_type": "code",
   "execution_count": 19,
   "metadata": {},
   "outputs": [],
   "source": [
    "import torch\n",
    "import torch.nn as nn\n",
    "import torch.optim as optim\n",
    "\n",
    "class ShallowCNN(nn.Module):\n",
    "    def __init__(self, interval = \"full\", dropout = 0.5):\n",
    "        super(ShallowCNN, self).__init__()\n",
    "        first_channels = 40\n",
    "        \n",
    "\n",
    "        # Temporal convolution\n",
    "        self.tempconv = nn.Conv2d(in_channels = 1, out_channels = first_channels, kernel_size = (1, 25), padding = 0, bias = False)\n",
    "        # Spatial convolution\n",
    "        self.spatconv = nn.Conv2d(in_channels = first_channels, out_channels = 40, kernel_size=(128,1), padding = 0, bias = False)\n",
    "        # Batch normalization\n",
    "        self.batchnorm = nn.BatchNorm2d(40, False)\n",
    "        # ELU\n",
    "        self.elu = nn.ELU()\n",
    "        # Dropout\n",
    "        self.dropout = nn.Dropout(dropout)\n",
    "        # Mean pooling\n",
    "        self.meanpool = nn.AvgPool2d(kernel_size = (1,75), stride = (1,15)) # This 15 might be a 75 :(\n",
    "\n",
    "        # Classifier\n",
    "        if interval == \"action\":\n",
    "            self.classifier = nn.Linear(1440,4, bias = False)\n",
    "        elif interval == \"full\":\n",
    "            self.classifier = nn.Linear(2840,4, bias = False)\n",
    "        # Softmax\n",
    "        self.softmax = nn.LogSoftmax(dim = 1)\n",
    "\n",
    "        \n",
    "    def forward(self, x):\n",
    "        res = self.tempconv(x)\n",
    "        res = self.spatconv(res)\n",
    "        res = self.batchnorm(res)\n",
    "        res = self.elu(res)\n",
    "        res = self.meanpool(res)\n",
    "        res = self.dropout(res)\n",
    "        res = torch.flatten(res, start_dim=1)\n",
    "        res = self.classifier(res)\n",
    "        res = self.softmax(res)\n",
    "        return res\n"
   ]
  },
  {
   "cell_type": "code",
   "execution_count": 20,
   "metadata": {},
   "outputs": [
    {
     "name": "stdout",
     "output_type": "stream",
     "text": [
      "ACCURACY: 0.225\n",
      "####### TRAINING #######\n",
      "Epoch\t train loss\t validation loss\n",
      "0 \t  1.3937729199727376 \t 1.3862959146499634\n",
      "1 \t  1.2828237215677898 \t 1.3862979412078857\n",
      "2 \t  1.2208924293518066 \t 1.386300802230835\n",
      "3 \t  1.174707333246867 \t 1.3863054513931274\n",
      "4 \t  1.1091994444529216 \t 1.386319875717163\n",
      "5 \t  1.0082961718241374 \t 1.3863415718078613\n",
      "6 \t  1.0137550830841064 \t 1.3863837718963623\n",
      "7 \t  0.9437669118245443 \t 1.3864796161651611\n",
      "8 \t  0.8937573432922363 \t 1.3867193460464478\n",
      "9 \t  0.840076764424642 \t 1.3871347904205322\n",
      "10 \t  0.7819739182790121 \t 1.3882390260696411\n",
      "11 \t  0.6986858050028483 \t 1.389805793762207\n",
      "12 \t  0.6593041022618612 \t 1.3922773599624634\n",
      "13 \t  0.6125906308492025 \t 1.4010636806488037\n",
      "14 \t  0.548053503036499 \t 1.4147851467132568\n",
      "15 \t  0.4983038504918416 \t 1.4512081146240234\n",
      "16 \t  0.4855602979660034 \t 1.5170865058898926\n",
      "17 \t  0.4292869567871094 \t 1.6574971675872803\n",
      "18 \t  0.39979732036590576 \t 1.8824495077133179\n",
      "19 \t  0.35339848200480145 \t 2.186584711074829\n",
      "ACCURACY: 0.9916666666666667\n"
     ]
    }
   ],
   "source": [
    "network = ShallowCNN(interval = \"action\").float().to(device)\n",
    "accuracy_check(network, train_data, train_labels)\n",
    "\n",
    "print(\"####### TRAINING #######\")\n",
    "op = optim.Adam(params = network.parameters(), lr = 0.0001)\n",
    "lossf = nn.NLLLoss()\n",
    "train_model(network, train_data = train_data, train_labels = train_labels, val_data = val_data, val_labels = val_labels, epochs = 20, batch_size = 10, loss_func = lossf, optimizer = op)\n",
    "\n",
    "accuracy_check(network, train_data, train_labels)"
   ]
  },
  {
   "cell_type": "code",
   "execution_count": 21,
   "metadata": {},
   "outputs": [
    {
     "name": "stdout",
     "output_type": "stream",
     "text": [
      "ACCURACY: 0.9916666666666667\n",
      "ACCURACY: 0.2\n",
      "ACCURACY: 0.225\n"
     ]
    }
   ],
   "source": [
    "accuracy_check(network, train_data, train_labels)\n",
    "accuracy_check(network, val_data, val_labels)\n",
    "accuracy_check(network, test_data, test_labels)"
   ]
  }
 ],
 "metadata": {
  "interpreter": {
   "hash": "776ed16b974eb4051a720ba098885814801e01a01a8691ffdcc6d2fcef736aab"
  },
  "kernelspec": {
   "display_name": "Python 3.8.6 ('inner_speech': conda)",
   "language": "python",
   "name": "python3"
  },
  "language_info": {
   "codemirror_mode": {
    "name": "ipython",
    "version": 3
   },
   "file_extension": ".py",
   "mimetype": "text/x-python",
   "name": "python",
   "nbconvert_exporter": "python",
   "pygments_lexer": "ipython3",
   "version": "3.8.6"
  },
  "orig_nbformat": 4
 },
 "nbformat": 4,
 "nbformat_minor": 2
}
