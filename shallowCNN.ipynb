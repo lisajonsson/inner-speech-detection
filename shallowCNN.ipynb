{
 "cells": [
  {
   "cell_type": "code",
   "execution_count": 30,
   "metadata": {},
   "outputs": [
    {
     "name": "stdout",
     "output_type": "stream",
     "text": [
      "[30, 30, 30, 30] \n",
      " [10, 10, 10, 10] \n",
      " [10, 10, 10, 10]\n",
      "25.0 %  25.0 %  25.0 %  25.0 % \n",
      "25.0 %  25.0 %  25.0 %  25.0 % \n",
      "25.0 %  25.0 %  25.0 %  25.0 % \n"
     ]
    }
   ],
   "source": [
    "import ipynb\n",
    "import torch\n",
    "from ipynb.fs.full.data_handler import load_subject, extract_labels, extract_action_interval, split_data, split_info, to_device, get_innerspeech\n",
    "from ipynb.fs.full.train_model import train_model, accuracy_check\n",
    "\n",
    "device = torch.device('cuda:0' if torch.cuda.is_available() else 'cpu')\n",
    "\n",
    "data, description = load_subject(1)\n",
    "data, description = get_innerspeech(data, description)\n",
    "labels = extract_labels(description)\n",
    "#data_interval = extract_action_interval(data)\n",
    "\n",
    "train_data, val_data, test_data, train_labels, val_labels, test_labels = split_data(data, labels)\n",
    "\n",
    "train_data, val_data, test_data, train_labels, val_labels, test_labels = to_device(train_data, val_data, test_data, train_labels, val_labels, test_labels, device)\n",
    "split_info(train_data, val_data, test_data, train_labels, val_labels, test_labels)"
   ]
  },
  {
   "cell_type": "markdown",
   "metadata": {},
   "source": [
    "# Shallow CNN\n",
    "Implementation of the shallow CNN structure from (Schirrmeister et. al.) for the use on \"Thinking out loud\" dataset."
   ]
  },
  {
   "cell_type": "code",
   "execution_count": 31,
   "metadata": {},
   "outputs": [],
   "source": [
    "import torch\n",
    "import torch.nn as nn\n",
    "import torch.optim as optim\n",
    "\n",
    "class ShallowCNN(nn.Module):\n",
    "    def __init__(self, interval = \"full\", dropout = 0.5):\n",
    "        super(ShallowCNN, self).__init__()\n",
    "        first_channels = 40\n",
    "        \n",
    "\n",
    "        # Temporal convolution\n",
    "        self.tempconv = nn.Conv2d(in_channels = 1, out_channels = first_channels, kernel_size = (1, 25), padding = 0, bias = False)\n",
    "        # Spatial convolution\n",
    "        self.spatconv = nn.Conv2d(in_channels = first_channels, out_channels = 40, kernel_size=(128,1), padding = 0, bias = False)\n",
    "        # Batch normalization\n",
    "        self.batchnorm = nn.BatchNorm2d(40, False)\n",
    "        # ELU\n",
    "        self.elu = nn.ELU()\n",
    "        # Dropout\n",
    "        self.dropout = nn.Dropout(dropout)\n",
    "        # Mean pooling\n",
    "        self.meanpool = nn.AvgPool2d(kernel_size = (1,75), stride = (1,15)) # This 15 might be a 75 :(\n",
    "\n",
    "        # Classifier\n",
    "        if interval == \"action\":\n",
    "            self.classifier = nn.Linear(1440,4, bias = False)\n",
    "        elif interval == \"full\":\n",
    "            self.classifier = nn.Linear(2840,4, bias = False)\n",
    "        # Softmax\n",
    "        self.softmax = nn.LogSoftmax(dim = 1)\n",
    "\n",
    "        \n",
    "    def forward(self, x):\n",
    "        res = self.tempconv(x)\n",
    "        res = self.spatconv(res)\n",
    "        res = self.batchnorm(res)\n",
    "        res = self.elu(res)\n",
    "        res = self.meanpool(res)\n",
    "        res = self.dropout(res)\n",
    "        res = torch.flatten(res, start_dim=1)\n",
    "        res = self.classifier(res)\n",
    "        res = self.softmax(res)\n",
    "        return res\n"
   ]
  },
  {
   "cell_type": "code",
   "execution_count": 32,
   "metadata": {},
   "outputs": [
    {
     "name": "stdout",
     "output_type": "stream",
     "text": [
      "ACCURACY: 0.225\n",
      "####### TRAINING #######\n",
      "Epoch\t train loss\t validation loss\n",
      "0 \t  1.4338887532552083 \t 1.3862944841384888\n",
      "1 \t  1.2662057081858318 \t 1.386293888092041\n",
      "2 \t  1.1895232200622559 \t 1.3862930536270142\n",
      "3 \t  1.1430881023406982 \t 1.3862924575805664\n",
      "4 \t  1.0497805277506511 \t 1.38629150390625\n",
      "5 \t  0.9624302387237549 \t 1.3862929344177246\n",
      "6 \t  0.9066576162974039 \t 1.3862935304641724\n",
      "7 \t  0.8030935128529867 \t 1.3862957954406738\n",
      "8 \t  0.7336226304372152 \t 1.386296033859253\n",
      "9 \t  0.677902619043986 \t 1.3863813877105713\n",
      "10 \t  0.6215527455012003 \t 1.3864519596099854\n",
      "11 \t  0.573543111483256 \t 1.3866522312164307\n",
      "12 \t  0.500117301940918 \t 1.387143611907959\n",
      "13 \t  0.46445616086324054 \t 1.3902523517608643\n",
      "14 \t  0.43715937932332355 \t 1.3924238681793213\n",
      "15 \t  0.3762841622034709 \t 1.4045963287353516\n",
      "16 \t  0.3423775831858317 \t 1.4311254024505615\n",
      "17 \t  0.31652243932088214 \t 1.4832096099853516\n",
      "18 \t  0.25681595007578534 \t 1.5713469982147217\n",
      "19 \t  0.23757944504419962 \t 1.702101469039917\n",
      "ACCURACY: 1.0\n"
     ]
    }
   ],
   "source": [
    "network = ShallowCNN(interval = \"full\").float().to(device)\n",
    "accuracy_check(network, train_data, train_labels)\n",
    "\n",
    "print(\"####### TRAINING #######\")\n",
    "op = optim.Adam(params = network.parameters(), lr = 0.0001)\n",
    "lossf = nn.NLLLoss()\n",
    "train_model(network, train_data = train_data, train_labels = train_labels, val_data = val_data, val_labels = val_labels, epochs = 20, batch_size = 10, loss_func = lossf, optimizer = op)\n",
    "\n",
    "accuracy_check(network, train_data, train_labels)"
   ]
  },
  {
   "cell_type": "code",
   "execution_count": 33,
   "metadata": {},
   "outputs": [
    {
     "name": "stdout",
     "output_type": "stream",
     "text": [
      "ACCURACY: 1.0\n",
      "ACCURACY: 0.25\n",
      "ACCURACY: 0.3\n"
     ]
    }
   ],
   "source": [
    "accuracy_check(network, train_data, train_labels)\n",
    "accuracy_check(network, val_data, val_labels)\n",
    "accuracy_check(network, test_data, test_labels)"
   ]
  }
 ],
 "metadata": {
  "interpreter": {
   "hash": "776ed16b974eb4051a720ba098885814801e01a01a8691ffdcc6d2fcef736aab"
  },
  "kernelspec": {
   "display_name": "Python 3.8.6 ('inner_speech': conda)",
   "language": "python",
   "name": "python3"
  },
  "language_info": {
   "codemirror_mode": {
    "name": "ipython",
    "version": 3
   },
   "file_extension": ".py",
   "mimetype": "text/x-python",
   "name": "python",
   "nbconvert_exporter": "python",
   "pygments_lexer": "ipython3",
   "version": "3.8.6"
  },
  "orig_nbformat": 4
 },
 "nbformat": 4,
 "nbformat_minor": 2
}
