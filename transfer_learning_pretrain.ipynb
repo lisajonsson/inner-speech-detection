{
 "cells": [
  {
   "cell_type": "code",
   "execution_count": 1,
   "metadata": {},
   "outputs": [],
   "source": [
    "import numpy as np\n",
    "import torch\n",
    "import torch.nn as nn\n",
    "import torch.optim as optim\n",
    "\n",
    "%run train_model.ipynb\n",
    "%run deepCNN.ipynb\n",
    "%run data_handler.ipynb\n",
    "\n",
    "\n",
    "# combines data and labels for all subjects except for the subject nr given. Returns data, labels\n",
    "def combine_all_subjects(sub):\n",
    "    data = None\n",
    "    labels = None\n",
    "    for subjectnr in range(1,11):\n",
    "        if subjectnr is not sub:\n",
    "            print(\"Loading subject nr \", subjectnr)\n",
    "            temp_data, temp_desc = load_subject(subjectnr) # Load data, desc\n",
    "            temp_data, temp_desc = get_innerspeech(temp_data, temp_desc) # Extract only IS trials\n",
    "            temp_labels = extract_labels(temp_desc) # Pick out labels from description\n",
    "            if data is None and labels is None:\n",
    "                data = temp_data\n",
    "                labels = temp_labels\n",
    "            else:\n",
    "                data = np.concatenate((data,temp_data))\n",
    "                labels = np.concatenate((labels,temp_labels)).astype(int)\n",
    "    return data, labels\n",
    "\n"
   ]
  },
  {
   "cell_type": "code",
   "execution_count": 2,
   "metadata": {},
   "outputs": [
    {
     "name": "stdout",
     "output_type": "stream",
     "text": [
      "Loading subject nr  1\n",
      "Loading subject nr  2\n",
      "Loading subject nr  3\n",
      "Loading subject nr  5\n",
      "Loading subject nr  6\n",
      "Loading subject nr  7\n",
      "Loading subject nr  8\n",
      "Loading subject nr  9\n",
      "Loading subject nr  10\n",
      "1996\n",
      "1996\n",
      "Split info:\n",
      "[395, 395, 395, 395] \n",
      " [54, 54, 54, 54] \n",
      " [50, 50, 50, 50]\n",
      "25.0 %  25.0 %  25.0 %  25.0 % \n",
      "25.0 %  25.0 %  25.0 %  25.0 % \n",
      "25.0 %  25.0 %  25.0 %  25.0 % \n"
     ]
    },
    {
     "data": {
      "image/png": "[encoded data removed]",
      "text/plain": [
       "<Figure size 432x288 with 1 Axes>"
      ]
     },
     "metadata": {
      "needs_background": "light"
     },
     "output_type": "display_data"
    },
    {
     "name": "stdout",
     "output_type": "stream",
     "text": [
      "Best model found on epoch:  48\n"
     ]
    }
   ],
   "source": [
    "# Will take a subject number and pretrain a model with all data except that subject, then save the model as pretrained_DeepCNN_subjectX.\n",
    "def pre_train_Deep(sub):\n",
    "    device = torch.device('cuda:0' if torch.cuda.is_available() else 'cpu')\n",
    "    d, l = combine_all_subjects(sub)\n",
    "    \n",
    "    train_data, val_data, test_data, train_labels, val_labels, test_labels = split_data(d,l)\n",
    "    split_info(train_data, val_data, test_data, train_labels, val_labels, test_labels)\n",
    "    train_data, val_data, test_data, train_labels, val_labels, test_labels = to_device(train_data, val_data, test_data, train_labels, val_labels, test_labels, device)\n",
    "\n",
    "    model = DeepCNN(hz = 254, interval = \"full\", bias = False, dropout = 0.5).float().to(device)\n",
    "\n",
    "    loss_func = nn.NLLLoss()\n",
    "    op = optim.Adam(params = model.parameters(), lr = 0.001)\n",
    "    train_model(model, train_data, train_labels, val_data, val_labels, epochs= 50, batch_size=4, loss_func = loss_func, optimizer=op)\n",
    "    print(accuracy_check(model, train_data, train_labels))\n",
    "    print(accuracy_check(model, val_data, val_labels))\n",
    "    print(accuracy_check(model, test_data, test_labels))\n",
    "    save_model(model, \"pretrained_DeepCNN_subject{}\".format())\n",
    "\n",
    "# Will take a subject number and pretrain a model with all data except that subject, then save the model as pretrained_ShallowCNN_subjectX.\n",
    "def pre_train_Shallow(sub):\n",
    "    device = torch.device('cuda:0' if torch.cuda.is_available() else 'cpu')\n",
    "    d, l = combine_all_subjects(sub)\n",
    "    \n",
    "    train_data, val_data, test_data, train_labels, val_labels, test_labels = split_data(d,l)\n",
    "    split_info(train_data, val_data, test_data, train_labels, val_labels, test_labels)\n",
    "    train_data, val_data, test_data, train_labels, val_labels, test_labels = to_device(train_data, val_data, test_data, train_labels, val_labels, test_labels, device)\n",
    "\n",
    "    model = ShallowCNN(hz = 254, interval = \"full\", bias = True, dropout = 0.001).float().to(device)\n",
    "\n",
    "    loss_func = nn.NLLLoss()\n",
    "    op = optim.Adam(params = model.parameters(), lr = 0.001)\n",
    "    train_model(model, train_data, train_labels, val_data, val_labels, epochs= 50, batch_size=4, loss_func = loss_func, optimizer=op)\n",
    "    print(accuracy_check(model, train_data, train_labels))\n",
    "    print(accuracy_check(model, val_data, val_labels))\n",
    "    print(accuracy_check(model, test_data, test_labels))\n",
    "    save_model(model, \"pretrained_ShallowCNN_subject{}\".format())\n",
    "\n",
    "# Will take a subject number and pretrain a model with all data except that subject, then save the model as pretrained_EEGNet_subjectX.\n",
    "def pre_train_EEGNet(sub):\n",
    "    device = torch.device('cuda:0' if torch.cuda.is_available() else 'cpu')\n",
    "    d, l = combine_all_subjects(sub)\n",
    "    \n",
    "    train_data, val_data, test_data, train_labels, val_labels, test_labels = split_data(d,l)\n",
    "    split_info(train_data, val_data, test_data, train_labels, val_labels, test_labels)\n",
    "    train_data, val_data, test_data, train_labels, val_labels, test_labels = to_device(train_data, val_data, test_data, train_labels, val_labels, test_labels, device)\n",
    "\n",
    "    model = EEGNet(hz = 254, interval = \"full\", bias = False, dropout = 0.5).float().to(device)\n",
    "\n",
    "    loss_func = nn.NLLLoss()\n",
    "    op = optim.Adam(params = model.parameters(), lr = 0.001)\n",
    "    train_model(model, train_data, train_labels, val_data, val_labels, epochs= 50, batch_size=4, loss_func = loss_func, optimizer=op)\n",
    "    print(accuracy_check(model, train_data, train_labels))\n",
    "    print(accuracy_check(model, val_data, val_labels))\n",
    "    print(accuracy_check(model, test_data, test_labels))\n",
    "    save_model(model, \"pretrained_EEGNet_subject{}\".format())"
   ]
  },
  {
   "cell_type": "code",
   "execution_count": 10,
   "metadata": {},
   "outputs": [
    {
     "ename": "NameError",
     "evalue": "name 'pre_train_Deep' is not defined",
     "output_type": "error",
     "traceback": [
      "\u001b[0;31m---------------------------------------------------------------------------\u001b[0m",
      "\u001b[0;31mNameError\u001b[0m                                 Traceback (most recent call last)",
      "\u001b[1;32m/home/jonlis/inner-speech-detection/transfer_learning_test.ipynb Cell 3'\u001b[0m in \u001b[0;36m<module>\u001b[0;34m\u001b[0m\n\u001b[1;32m      <a href='vscode-notebook-cell://ssh-remote%2B109.225.89.145/home/jonlis/inner-speech-detection/transfer_learning_test.ipynb#ch0000004vscode-remote?line=0'>1</a>\u001b[0m \u001b[39mfor\u001b[39;00m i \u001b[39min\u001b[39;00m \u001b[39mrange\u001b[39m(\u001b[39m1\u001b[39m,\u001b[39m11\u001b[39m):\n\u001b[0;32m----> <a href='vscode-notebook-cell://ssh-remote%2B109.225.89.145/home/jonlis/inner-speech-detection/transfer_learning_test.ipynb#ch0000004vscode-remote?line=1'>2</a>\u001b[0m     pre_train_Deep(i)\n",
      "\u001b[0;31mNameError\u001b[0m: name 'pre_train_Deep' is not defined"
     ]
    }
   ],
   "source": [
    "for i in range(1,11):\n",
    "    pre_train_Deep(i)\n"
   ]
  },
  {
   "cell_type": "code",
   "execution_count": null,
   "metadata": {},
   "outputs": [],
   "source": [
    "for i in range(1,11):\n",
    "    pre_train_Shallow(i)"
   ]
  },
  {
   "cell_type": "code",
   "execution_count": null,
   "metadata": {},
   "outputs": [],
   "source": [
    "for i in range(1,11):\n",
    "    pre_train_EEGNet(i)"
   ]
  }
 ],
 "metadata": {
  "interpreter": {
   "hash": "776ed16b974eb4051a720ba098885814801e01a01a8691ffdcc6d2fcef736aab"
  },
  "kernelspec": {
   "display_name": "Python 3.8.6 ('inner_speech': conda)",
   "language": "python",
   "name": "python3"
  },
  "language_info": {
   "codemirror_mode": {
    "name": "ipython",
    "version": 3
   },
   "file_extension": ".py",
   "mimetype": "text/x-python",
   "name": "python",
   "nbconvert_exporter": "python",
   "pygments_lexer": "ipython3",
   "version": "3.8.6"
  },
  "orig_nbformat": 4
 },
 "nbformat": 4,
 "nbformat_minor": 2
}
