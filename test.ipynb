{
 "cells": [
  {
   "cell_type": "markdown",
   "metadata": {},
   "source": [
    "Hello dis is test"
   ]
  },
  {
   "cell_type": "code",
   "execution_count": 3,
   "metadata": {},
   "outputs": [
    {
     "name": "stdout",
     "output_type": "stream",
     "text": [
      "(600, 128, 4609)\n"
     ]
    }
   ],
   "source": [
    "from Inner_Speech_Dataset.Python_Processing.Data_extractions import  Extract_data_from_subject\n",
    "%run data_handler.ipynb\n",
    "\n",
    "datatype = \"EEG\"\n",
    "root_dir = \"../dataset\"\n",
    "subjectNr = 1\n",
    "\n",
    "data, label = Extract_data_from_subject(root_dir, subjectNr, datatype)\n",
    "\n",
    "d, l = load_subject_non_downsampled(2)\n",
    "print(d.shape)"
   ]
  },
  {
   "cell_type": "code",
   "execution_count": 23,
   "metadata": {},
   "outputs": [
    {
     "name": "stdout",
     "output_type": "stream",
     "text": [
      "<class 'numpy.ndarray'>\n",
      "(500, 128, 1153)\n",
      "(128, 1153)\n"
     ]
    }
   ],
   "source": [
    "print(type(data[10])) # [39869     3     0     1]  I think it means this:  [unknown     class?     contaminated?     subjectNr]\n",
    "print(data.shape)\n",
    "print(data[0].shape)\n",
    "\n",
    "# 500 trials"
   ]
  },
  {
   "cell_type": "code",
   "execution_count": 24,
   "metadata": {},
   "outputs": [],
   "source": [
    "#!ls -la .. # ! to write bash commands"
   ]
  },
  {
   "cell_type": "code",
   "execution_count": 99,
   "metadata": {},
   "outputs": [],
   "source": [
    "import torch\n",
    "import torch.nn as nn\n",
    "import torch.nn.functional as F\n",
    "import torch.optim as optim\n",
    "\n",
    "class EEGNet(nn.Module):\n",
    "    def __init__(self):\n",
    "        super(EEGNet, self).__init__()\n",
    "        self.f1 = 16\n",
    "        self.d = 4\n",
    "        self.f2 = self.d*self.f1\n",
    "\n",
    "        # Block 1\n",
    "        self.conv1 = nn.Conv2d(in_channels=1, out_channels = self.f1, kernel_size = (1, 128), padding = 0, bias = False) # 128 = half sampling rate, reduces to 2Hz, 16 is probably F1, the number of filters (output channels)\n",
    "        self.batchnorm1 = nn.BatchNorm2d(self.f1, False)\n",
    "\n",
    "        self.conv2 = nn.Conv2d(in_channels = self.f1, out_channels = self.f1*self.d, kernel_size = (128, 1), padding = 0, bias = False) # row, column] 128 = number of sensors for the depth wise convolution\n",
    "        # I'm missing a maxnorm regilarization here.\n",
    "        # Add dropout in the forward func.\n",
    "        self.batchnorm2 = nn.BatchNorm2d(self.f1*self.d, False) # Not sure this is the right number of features.\n",
    "        self.elu = nn.ELU()\n",
    "        self.avgPool1 = nn.AvgPool2d((1,4)) # Reduces sampling rate to 64hz\n",
    "\n",
    "        # Block 2\n",
    "\n",
    "        # Separable convolution\n",
    "        self.depthwise = nn.Conv2d(in_channels = self.f1*self.d, out_channels = self.f1*self.d, kernel_size = (1, 32),\n",
    "                        bias=False, groups = self.f1*self.d, padding = (0, 16//2)) # Captures 500ms of data at sampling rate 64Hz (32 Hz is 500ms of that)\n",
    "        self.pointwise = nn.Conv2d(in_channels = self.f1*self.d, out_channels = self.f2, kernel_size = 1) # This results in f2 channels of the output here.\n",
    "        #self.depthwise = nn.Conv2d(4, 4, kernel_size = (1,32), padding=1, groups=4, bias = False) # Captures 500ms of data at sampling rate 64Hz (32 Hz is 500ms of that)\n",
    "        #self.pointwise = nn.Conv2d(4, self.f2, kernel_size = 1) # This results in f2 channels of the output here, not sure if it's meant to be like this. But I proceede to run a test\n",
    "\n",
    "        self.batchnorm3 = nn.BatchNorm2d(self.f2, False)\n",
    "\n",
    "        self.avgPool2 = nn.AvgPool2d((1,8))\n",
    "\n",
    "        self.classifier = nn.Linear(1920,4, bias = False)\n",
    "        self.softmax = nn.Softmax()\n",
    "\n",
    "\n",
    "    def forward(self, x, dropout = 0.5): # Dropout 0.5 dropout for within-subject and 0.25 for cross-subject\n",
    "        # Block 1\n",
    "        res = self.conv1(x)\n",
    "        res = self.batchnorm1(res)\n",
    "        res = self.conv2(res)\n",
    "        res = torch.renorm(res, p=2, dim=0, maxnorm=1)\n",
    "        res = self.batchnorm2(res)\n",
    "        #res = F.dropout(0.25)\n",
    "        res = self.elu(res)\n",
    "        res = self.avgPool1(res)\n",
    "        res = F.dropout(res, dropout)\n",
    "        res = self.depthwise(res)\n",
    "        res = self.pointwise(res)\n",
    "        res = self.batchnorm3(res)\n",
    "        res = self.elu(res)\n",
    "        res = self.avgPool2(res)\n",
    "        res = F.dropout(res, dropout)\n",
    "        res = torch.flatten(res)\n",
    "        res = self.classifier(res)\n",
    "        res = self.softmax(res)\n",
    "        return res\n"
   ]
  },
  {
   "cell_type": "code",
   "execution_count": 101,
   "metadata": {},
   "outputs": [
    {
     "name": "stdout",
     "output_type": "stream",
     "text": [
      "torch.Size([128, 1153])\n",
      "torch.Size([1, 1, 128, 1153])\n",
      "tensor([0.4108, 0.1735, 0.1532, 0.2625], grad_fn=<SoftmaxBackward0>)\n",
      "torch.return_types.max(\n",
      "values=tensor(0.4108, grad_fn=<MaxBackward0>),\n",
      "indices=tensor(0))\n"
     ]
    },
    {
     "name": "stderr",
     "output_type": "stream",
     "text": [
      "/tmp/ipykernel_42372/1427443249.py:60: UserWarning: Implicit dimension choice for softmax has been deprecated. Change the call to include dim=X as an argument.\n",
      "  res = self.softmax(res)\n"
     ]
    }
   ],
   "source": [
    "network = EEGNet().float()\n",
    "d = torch.tensor(data[1])\n",
    "print(d.size())\n",
    "d = torch.unsqueeze(torch.unsqueeze(d,0),0).float() # Unsqueeze adds a wrapper dimension of 1s\n",
    "print(d.size())\n",
    "r = network.forward(d)\n",
    "#print(r.size()) # [1,4,1,256] [samples, channels, height, width]\n",
    "# [1,64,3,28] right before flatten leads to 64*3*28 = 5376 dim\n",
    "print(r)\n",
    "\n",
    "print(torch.max(r,0))\n"
   ]
  },
  {
   "cell_type": "code",
   "execution_count": 115,
   "metadata": {},
   "outputs": [
    {
     "name": "stdout",
     "output_type": "stream",
     "text": [
      "1153\n",
      "torch.Size([1, 128, 1153])\n",
      "tensor([[-1.4367, -1.3356, -1.3615, -1.4146]], grad_fn=<SelectBackward0>)\n",
      "tensor([1])\n"
     ]
    }
   ],
   "source": [
    "from braindecode import models\n",
    "# input_window_samples decides the number of samples in each window (?) for 250Hz they set it to 1000 (4 seconds). Has to be larger than the networks receptive field.\n",
    "bo = models.EEGNetv4(in_chans = 128, n_classes = 4, F1 = 8, D = 2, F2 = 16, kernel_length = 128, input_window_samples = 1153, drop_prob = 0.5)\n",
    "\n",
    "\n",
    "d = torch.tensor(data[0]).float()\n",
    "print(d.shape[1])\n",
    "d = torch.unsqueeze(d,0).float() # Unsqueeze adds a wrapper dimension of 1s\n",
    "print(d.size())\n",
    "r = bo(d)\n",
    "print(r)\n",
    "print(torch.argmax(r, dim=1))"
   ]
  },
  {
   "cell_type": "code",
   "execution_count": 117,
   "metadata": {},
   "outputs": [
    {
     "name": "stdout",
     "output_type": "stream",
     "text": [
      "1153\n",
      "torch.Size([1, 128, 1153])\n",
      "torch.Size([1, 4, 42])\n",
      "tensor([[0, 0, 0, 0, 0, 0, 0, 0, 0, 0, 0, 0, 0, 0, 0, 0, 0, 0, 0, 0, 0, 0, 0, 0,\n",
      "         0, 0, 0, 0, 0, 0, 0, 0, 0, 0, 0, 0, 0, 0, 0, 0, 0, 0],\n",
      "        [0, 0, 0, 0, 0, 0, 0, 0, 0, 0, 0, 0, 0, 0, 0, 0, 0, 0, 0, 0, 0, 0, 0, 0,\n",
      "         0, 0, 0, 0, 0, 0, 0, 0, 0, 0, 0, 0, 0, 0, 0, 0, 0, 0],\n",
      "        [0, 0, 0, 0, 0, 0, 0, 0, 0, 0, 0, 0, 0, 0, 0, 0, 0, 0, 0, 0, 0, 0, 0, 0,\n",
      "         0, 0, 0, 0, 0, 0, 0, 0, 0, 0, 0, 0, 0, 0, 0, 0, 0, 0],\n",
      "        [0, 0, 0, 0, 0, 0, 0, 0, 0, 0, 0, 0, 0, 0, 0, 0, 0, 0, 0, 0, 0, 0, 0, 0,\n",
      "         0, 0, 0, 0, 0, 0, 0, 0, 0, 0, 0, 0, 0, 0, 0, 0, 0, 0]])\n"
     ]
    }
   ],
   "source": [
    "from braindecode import models\n",
    "# input_window_samples decides the number of samples in each window (?) for 250Hz they set it to 1000 (4 seconds). Has to be larger than the networks receptive field.\n",
    "bo2 = models.ShallowFBCSPNet(in_chans = 128, n_classes = 4, input_window_samples = 508, drop_prob = 0.5)\n",
    "\n",
    "\n",
    "d = torch.tensor(data[0]).float()\n",
    "print(d.shape[1])\n",
    "d = torch.unsqueeze(d,0).float() # Unsqueeze adds a wrapper dimension of 1s\n",
    "print(d.size())\n",
    "r = bo2(d)\n",
    "print(r.size())\n",
    "print(torch.argmax(r, dim=0))"
   ]
  }
 ],
 "metadata": {
  "kernelspec": {
   "display_name": "Python 3",
   "language": "python",
   "name": "python3"
  },
  "language_info": {
   "codemirror_mode": {
    "name": "ipython",
    "version": 3
   },
   "file_extension": ".py",
   "mimetype": "text/x-python",
   "name": "python",
   "nbconvert_exporter": "python",
   "pygments_lexer": "ipython3",
   "version": "3.8.6"
  },
  "orig_nbformat": 4
 },
 "nbformat": 4,
 "nbformat_minor": 2
}
