{
 "cells": [
  {
   "cell_type": "markdown",
   "metadata": {},
   "source": [
    "Hello dis is test"
   ]
  },
  {
   "cell_type": "code",
   "execution_count": 14,
   "metadata": {},
   "outputs": [
    {
     "name": "stdout",
     "output_type": "stream",
     "text": [
      "Hello dis is test\n"
     ]
    }
   ],
   "source": [
    "from Inner_Speech_Dataset.Python_Processing.Data_extractions import  Extract_data_from_subject\n",
    "\n",
    "datatype = \"EEG\"\n",
    "root_dir = \"../dataset\"\n",
    "subjectNr = 1\n",
    "\n",
    "data, label = Extract_data_from_subject(root_dir, subjectNr, datatype)"
   ]
  },
  {
   "cell_type": "code",
   "execution_count": 24,
   "metadata": {},
   "outputs": [
    {
     "name": "stdout",
     "output_type": "stream",
     "text": [
      "[106461      0      0      1]\n"
     ]
    }
   ],
   "source": [
    "print(label[10]) # [39869     3     0     1]  I think it means this:  [unknown     class?     contaminated?     subjectNr]"
   ]
  },
  {
   "cell_type": "code",
   "execution_count": 17,
   "metadata": {},
   "outputs": [
    {
     "name": "stdout",
     "output_type": "stream",
     "text": [
      "total 65236\n",
      "drwxr-xr-x 13 jonlis jonlis     4096 feb  4 15:15 .\n",
      "drwxr-xr-x 51 root   root       4096 feb  3 15:08 ..\n",
      "-rw-rw-r--  1 jonlis jonlis       44 feb  3 15:57 .bash_aliases\n",
      "-rw-------  1 jonlis jonlis     1830 feb  3 21:54 .bash_history\n",
      "-rw-r--r--  1 jonlis jonlis      220 apr  4  2018 .bash_logout\n",
      "-rw-r--r--  1 jonlis jonlis     4254 feb  3 16:00 .bashrc\n",
      "drwx------  3 jonlis jonlis     4096 jan 31 20:30 .cache\n",
      "drwxrwxr-x  2 jonlis jonlis     4096 feb  3 16:00 .conda\n",
      "drwxrwxr-x  3 jonlis jonlis     4096 feb  4 15:20 dataset\n",
      "drwxrwxr-x  3 jonlis jonlis     4096 feb  3 15:21 Feasibility_Analysis_Inner_Speech\n",
      "-rw-rw-r--  1 jonlis jonlis       60 feb  3 14:11 .gitconfig\n",
      "drwx------  3 jonlis jonlis     4096 nov  1 15:18 .gnupg\n",
      "drwxrwxr-x  5 jonlis jonlis     4096 feb  3 16:27 inner-speech-detection\n",
      "drwxr-xr-x  5 jonlis jonlis     4096 feb  3 13:58 .ipython\n",
      "drwx------  5 jonlis jonlis     4096 feb  3 16:09 .local\n",
      "drwxrwxr-x 16 jonlis jonlis     4096 feb  3 16:00 miniconda3\n",
      "-rwxrwxr-x  1 jonlis jonlis 66709754 feb  3 15:58 Miniconda3-latest-Linux-x86_64.sh\n",
      "-rw-r--r--  1 jonlis jonlis      807 apr  4  2018 .profile\n",
      "drwx------  2 jonlis jonlis     4096 feb  3 14:09 .ssh\n",
      "-rw-------  1 jonlis jonlis     1452 feb  3 15:57 .viminfo\n",
      "drwxrwxr-x  5 jonlis jonlis     4096 feb  4 13:05 .vscode-server\n",
      "-rw-rw-r--  1 jonlis jonlis      183 feb  3 13:47 .wget-hsts\n"
     ]
    }
   ],
   "source": [
    "!ls -la .. # ! to write bash commands"
   ]
  }
 ],
 "metadata": {
  "kernelspec": {
   "display_name": "Python 3",
   "language": "python",
   "name": "python3"
  },
  "language_info": {
   "codemirror_mode": {
    "name": "ipython",
    "version": 3
   },
   "file_extension": ".py",
   "mimetype": "text/x-python",
   "name": "python",
   "nbconvert_exporter": "python",
   "pygments_lexer": "ipython3",
   "version": "3.8.6"
  },
  "orig_nbformat": 4
 },
 "nbformat": 4,
 "nbformat_minor": 2
}
